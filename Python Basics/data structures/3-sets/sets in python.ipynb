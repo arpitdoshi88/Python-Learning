{
 "cells": [
  {
   "attachments": {},
   "cell_type": "markdown",
   "metadata": {},
   "source": [
    "## Sets\n",
    "\n",
    "Sets are collection of `distinct` object. Sets in python has following characteristics\n",
    "- Sets are `unordered`.\n",
    "- Set elements are `unique`. Duplicate elements are not allowed.\n",
    "- Sets are `mutable`. A set itself may be modified, but the elements contained in the set must be of an immutable type."
   ]
  },
  {
   "attachments": {},
   "cell_type": "markdown",
   "metadata": {},
   "source": [
    "### Immutable vs Hashable?\n",
    "\n",
    "- An object is called immutable when it cannot be modifed once created. Like integer, strings, float, bool, tuple\n",
    "- An object is called hashable when you can run hash() method on it and it doesn't throw any error.\n",
    "- All immutable objects are hashable but not all hashable objects are immutable. You can create a class and define hash method in it to make it hashable."
   ]
  },
  {
   "cell_type": "code",
   "execution_count": 1,
   "metadata": {},
   "outputs": [
    {
     "name": "stdout",
     "output_type": "stream",
     "text": [
      "1\n",
      "1\n",
      "-3006529676929646211\n",
      "529344067295497451\n"
     ]
    }
   ],
   "source": [
    "print(hash(1))\n",
    "print(hash(True))\n",
    "print(hash('ABC'))\n",
    "print(hash((1,2,3)))\n",
    "\n"
   ]
  },
  {
   "cell_type": "code",
   "execution_count": 2,
   "metadata": {},
   "outputs": [
    {
     "ename": "TypeError",
     "evalue": "unhashable type: 'list'",
     "output_type": "error",
     "traceback": [
      "\u001b[0;31m---------------------------------------------------------------------------\u001b[0m",
      "\u001b[0;31mTypeError\u001b[0m                                 Traceback (most recent call last)",
      "Cell \u001b[0;32mIn[2], line 1\u001b[0m\n\u001b[0;32m----> 1\u001b[0m \u001b[39mprint\u001b[39m(\u001b[39mhash\u001b[39;49m([\u001b[39m1\u001b[39;49m,\u001b[39m2\u001b[39;49m,\u001b[39m3\u001b[39;49m]))\n",
      "\u001b[0;31mTypeError\u001b[0m: unhashable type: 'list'"
     ]
    }
   ],
   "source": [
    "print(hash([1,2,3]))"
   ]
  },
  {
   "cell_type": "code",
   "execution_count": 3,
   "metadata": {},
   "outputs": [
    {
     "ename": "TypeError",
     "evalue": "unhashable type: 'dict'",
     "output_type": "error",
     "traceback": [
      "\u001b[0;31m---------------------------------------------------------------------------\u001b[0m",
      "\u001b[0;31mTypeError\u001b[0m                                 Traceback (most recent call last)",
      "Cell \u001b[0;32mIn[3], line 1\u001b[0m\n\u001b[0;32m----> 1\u001b[0m \u001b[39mprint\u001b[39m(\u001b[39mhash\u001b[39;49m({\u001b[39m1\u001b[39;49m:\u001b[39m2\u001b[39;49m}))\n",
      "\u001b[0;31mTypeError\u001b[0m: unhashable type: 'dict'"
     ]
    }
   ],
   "source": [
    "print(hash({1:2}))"
   ]
  },
  {
   "attachments": {},
   "cell_type": "markdown",
   "metadata": {},
   "source": [
    "#### sets can be created in two diff ways\n",
    "\n",
    "- using set() built-in method\n",
    "`s = set(<iter>)`\n",
    "- using `{}` braces with comma seperated immutable objects as elements"
   ]
  },
  {
   "cell_type": "code",
   "execution_count": 4,
   "metadata": {},
   "outputs": [
    {
     "name": "stdout",
     "output_type": "stream",
     "text": [
      "<class 'set'> {1, 2, 3, 'abc'}\n"
     ]
    }
   ],
   "source": [
    "## set(<iter>)  all elements of an iterable will be added to the set.each element of an iterable must be an immutable object\n",
    "s = set(['abc',1,2,3])\n",
    "print(type(s),s)"
   ]
  },
  {
   "cell_type": "code",
   "execution_count": 5,
   "metadata": {},
   "outputs": [
    {
     "name": "stdout",
     "output_type": "stream",
     "text": [
      "<class 'set'> {1, 2}\n"
     ]
    }
   ],
   "source": [
    "s1 = set({1:'one',2:'two'})\n",
    "print(type(s1),s1)"
   ]
  },
  {
   "cell_type": "code",
   "execution_count": 6,
   "metadata": {},
   "outputs": [
    {
     "name": "stdout",
     "output_type": "stream",
     "text": [
      "<class 'set'> {1, 2, 3, 4}\n"
     ]
    }
   ],
   "source": [
    "s2 = set((1,2,3,4))\n",
    "print(type(s2),s2)"
   ]
  },
  {
   "cell_type": "code",
   "execution_count": 7,
   "metadata": {},
   "outputs": [
    {
     "name": "stdout",
     "output_type": "stream",
     "text": [
      "<class 'set'> {'e', 'l', 'o', 'h'}\n"
     ]
    }
   ],
   "source": [
    "s3 =set('hello')  ##  duplicate values only represented as once\n",
    "print(type(s3),s3)"
   ]
  },
  {
   "cell_type": "code",
   "execution_count": 8,
   "metadata": {},
   "outputs": [
    {
     "name": "stdout",
     "output_type": "stream",
     "text": [
      "<class 'set'> {1, 2, 3, (1, 2, 3), 'hello'}\n"
     ]
    }
   ],
   "source": [
    "## using {} braches\n",
    "a = {1,2,3,'hello',(1,2,3)}\n",
    "print(type(a),a)"
   ]
  },
  {
   "cell_type": "code",
   "execution_count": 9,
   "metadata": {},
   "outputs": [
    {
     "ename": "TypeError",
     "evalue": "unhashable type: 'list'",
     "output_type": "error",
     "traceback": [
      "\u001b[0;31m---------------------------------------------------------------------------\u001b[0m",
      "\u001b[0;31mTypeError\u001b[0m                                 Traceback (most recent call last)",
      "Cell \u001b[0;32mIn[9], line 1\u001b[0m\n\u001b[0;32m----> 1\u001b[0m a \u001b[39m=\u001b[39m {\u001b[39m1\u001b[39m,\u001b[39m2\u001b[39m,\u001b[39m3\u001b[39m,\u001b[39m'\u001b[39m\u001b[39mhello\u001b[39m\u001b[39m'\u001b[39m,(\u001b[39m1\u001b[39m,\u001b[39m2\u001b[39m,\u001b[39m3\u001b[39m),[\u001b[39m1\u001b[39m,\u001b[39m2\u001b[39m]}\n\u001b[1;32m      2\u001b[0m \u001b[39mprint\u001b[39m(\u001b[39mtype\u001b[39m(a),a)\n",
      "\u001b[0;31mTypeError\u001b[0m: unhashable type: 'list'"
     ]
    }
   ],
   "source": [
    "a = {1,2,3,'hello',(1,2,3),[1,2]}\n",
    "print(type(a),a)"
   ]
  },
  {
   "cell_type": "code",
   "execution_count": 10,
   "metadata": {},
   "outputs": [
    {
     "ename": "TypeError",
     "evalue": "unhashable type: 'dict'",
     "output_type": "error",
     "traceback": [
      "\u001b[0;31m---------------------------------------------------------------------------\u001b[0m",
      "\u001b[0;31mTypeError\u001b[0m                                 Traceback (most recent call last)",
      "Cell \u001b[0;32mIn[10], line 1\u001b[0m\n\u001b[0;32m----> 1\u001b[0m a \u001b[39m=\u001b[39m {\u001b[39m1\u001b[39m,\u001b[39m2\u001b[39m,\u001b[39m3\u001b[39m,\u001b[39m'\u001b[39m\u001b[39mhello\u001b[39m\u001b[39m'\u001b[39m,{\u001b[39m1\u001b[39m:\u001b[39m2\u001b[39m}}\n\u001b[1;32m      2\u001b[0m \u001b[39mprint\u001b[39m(\u001b[39mtype\u001b[39m(a),a)\n",
      "\u001b[0;31mTypeError\u001b[0m: unhashable type: 'dict'"
     ]
    }
   ],
   "source": [
    "a = {1,2,3,'hello',{1:2}}\n",
    "print(type(a),a)"
   ]
  },
  {
   "cell_type": "code",
   "execution_count": 11,
   "metadata": {},
   "outputs": [
    {
     "ename": "TypeError",
     "evalue": "unhashable type: 'set'",
     "output_type": "error",
     "traceback": [
      "\u001b[0;31m---------------------------------------------------------------------------\u001b[0m",
      "\u001b[0;31mTypeError\u001b[0m                                 Traceback (most recent call last)",
      "Cell \u001b[0;32mIn[11], line 1\u001b[0m\n\u001b[0;32m----> 1\u001b[0m a \u001b[39m=\u001b[39m {\u001b[39m1\u001b[39m,\u001b[39m2\u001b[39m,\u001b[39m3\u001b[39m,\u001b[39m'\u001b[39m\u001b[39mhello\u001b[39m\u001b[39m'\u001b[39m,{\u001b[39m1\u001b[39m,\u001b[39m2\u001b[39m,\u001b[39m3\u001b[39m}}\n\u001b[1;32m      2\u001b[0m \u001b[39mprint\u001b[39m(\u001b[39mtype\u001b[39m(a),a)\n",
      "\u001b[0;31mTypeError\u001b[0m: unhashable type: 'set'"
     ]
    }
   ],
   "source": [
    "a = {1,2,3,'hello',{1,2,3}}\n",
    "print(type(a),a)"
   ]
  },
  {
   "cell_type": "code",
   "execution_count": 12,
   "metadata": {},
   "outputs": [
    {
     "data": {
      "text/plain": [
       "{1, 2, 'foo', 'spam'}"
      ]
     },
     "execution_count": 12,
     "metadata": {},
     "output_type": "execute_result"
    }
   ],
   "source": [
    "x = {'foo','spam',1,2,'foo','spam',1,2}\n",
    "x"
   ]
  },
  {
   "cell_type": "code",
   "execution_count": 13,
   "metadata": {},
   "outputs": [
    {
     "name": "stdout",
     "output_type": "stream",
     "text": [
      "set() False\n",
      "<class 'dict'>\n"
     ]
    }
   ],
   "source": [
    "## only way to create empty set\n",
    "s= set()\n",
    "print(s,bool(s)) ## empty set is falsy\n",
    "s1 = {} ## python defines empty curly braces as dictionary\n",
    "print(type(s1)) "
   ]
  },
  {
   "cell_type": "code",
   "execution_count": 14,
   "metadata": {},
   "outputs": [
    {
     "name": "stdout",
     "output_type": "stream",
     "text": [
      "True\n",
      "True\n",
      "True\n",
      "False\n"
     ]
    }
   ],
   "source": [
    "#membership operator in sets\n",
    "s = {1,2,3,4,'abc'}\n",
    "print(1 in s)\n",
    "print('abc' in s)\n",
    "print(10 not in s)\n",
    "print('a' in s)"
   ]
  },
  {
   "cell_type": "code",
   "execution_count": 15,
   "metadata": {},
   "outputs": [
    {
     "name": "stdout",
     "output_type": "stream",
     "text": [
      "5\n",
      "3\n",
      "4\n"
     ]
    }
   ],
   "source": [
    "print(len(s))\n",
    "print(len({1,2,(1,2,3)}))\n",
    "print(len({1,2,3,4,4,4,4})) ##duplicates are not counted"
   ]
  },
  {
   "attachments": {},
   "cell_type": "markdown",
   "metadata": {},
   "source": [
    "##  Set Operations\n",
    "\n",
    "- Sets in python cannot be indexed or sliced,however there are python provides whole host of operations that mimic the operations performed on mathematical set like Union, intersect and difference\n",
    "- Set operations on python can be performed in two diff ways, by operators and by methods.\n",
    "- Set methods take iterables as argument, convert it to a set and then perform the operations. On the other hand when you use operator, both operands on each side of operator must be set.\n",
    "- Set operations works left to right When multiple sets are specified. So for a | b | c , a|b executes first,output of which will be then used as operand to perform union with c\n"
   ]
  },
  {
   "cell_type": "code",
   "execution_count": 17,
   "metadata": {},
   "outputs": [
    {
     "name": "stdout",
     "output_type": "stream",
     "text": [
      "{'baz', 'bar', 'foo'}\n",
      "{'quux', 'baz', 'qux'}\n"
     ]
    }
   ],
   "source": [
    "x1 = {'foo', 'bar', 'baz','bar'}\n",
    "x2 = {'baz', 'qux', 'quux'}\n",
    "print(x1,x2,sep='\\n')"
   ]
  },
  {
   "cell_type": "code",
   "execution_count": 18,
   "metadata": {},
   "outputs": [
    {
     "name": "stdout",
     "output_type": "stream",
     "text": [
      "{'qux', 'quux', 'baz', 'bar', 'foo'}\n",
      "{1, 2, 3, 4, 5}\n",
      "{1, 2, 3, 4, 'e', 'l', 'h', 'o'}\n",
      "{1, 2, 3, 4, (4, 5)}\n"
     ]
    }
   ],
   "source": [
    "## using method x1.union(x2[,x3), arguments must be an iterable. x1.union(x2) and x1 | x2 both return the set of all elements in either x1 or x2\n",
    "x= x1.union(x2)\n",
    "print(x)\n",
    "print({1,2,3,4}.union((2,3,4,5)))\n",
    "print({1,2,3,4}.union('hello'))\n",
    "print({1,2,3,4}.union([2,3,(4,5)]))"
   ]
  },
  {
   "cell_type": "code",
   "execution_count": 19,
   "metadata": {},
   "outputs": [
    {
     "name": "stdout",
     "output_type": "stream",
     "text": [
      "{'qux', 'quux', 'baz', 'bar', 'foo'}\n",
      "{1, 2, 3, 4, 5, 6, 7}\n"
     ]
    }
   ],
   "source": [
    "##using operator x1 | x2\n",
    "#x1 and x2 are operands and must be set\n",
    "print(x1|x2)\n",
    "print({1,2,3,4} | {4,5,6,7})\n"
   ]
  },
  {
   "cell_type": "code",
   "execution_count": 20,
   "metadata": {},
   "outputs": [
    {
     "ename": "TypeError",
     "evalue": "unsupported operand type(s) for |: 'set' and 'tuple'",
     "output_type": "error",
     "traceback": [
      "\u001b[0;31m---------------------------------------------------------------------------\u001b[0m",
      "\u001b[0;31mTypeError\u001b[0m                                 Traceback (most recent call last)",
      "Cell \u001b[0;32mIn[20], line 1\u001b[0m\n\u001b[0;32m----> 1\u001b[0m \u001b[39mprint\u001b[39m({\u001b[39m1\u001b[39;49m,\u001b[39m2\u001b[39;49m,\u001b[39m3\u001b[39;49m,\u001b[39m4\u001b[39;49m} \u001b[39m|\u001b[39;49m (\u001b[39m4\u001b[39;49m,\u001b[39m5\u001b[39;49m,\u001b[39m6\u001b[39;49m,\u001b[39m7\u001b[39;49m)) \u001b[39m## this will throw an error as second operand is not set\u001b[39;00m\n",
      "\u001b[0;31mTypeError\u001b[0m: unsupported operand type(s) for |: 'set' and 'tuple'"
     ]
    }
   ],
   "source": [
    "print({1,2,3,4} | (4,5,6,7)) ## this will throw an error as second operand is not set"
   ]
  },
  {
   "cell_type": "code",
   "execution_count": 21,
   "metadata": {},
   "outputs": [
    {
     "data": {
      "text/plain": [
       "{1, 2, 3, 4, 5, 6, 7}"
      ]
     },
     "execution_count": 21,
     "metadata": {},
     "output_type": "execute_result"
    }
   ],
   "source": [
    "a = {1, 2, 3, 4}\n",
    "b = {2, 3, 4, 5}\n",
    "c = {3, 4, 5, 6}\n",
    "d = {4, 5, 6, 7}\n",
    "\n",
    "a | b | c | d  ## a|b will execute first then output set will be evaluated with c and the resulted set will be evaluated with d"
   ]
  },
  {
   "cell_type": "code",
   "execution_count": 22,
   "metadata": {},
   "outputs": [
    {
     "data": {
      "text/plain": [
       "{1, 2, 3, 4, 5, 6, 7}"
      ]
     },
     "execution_count": 22,
     "metadata": {},
     "output_type": "execute_result"
    }
   ],
   "source": [
    "a.union(b,c,d)"
   ]
  },
  {
   "cell_type": "code",
   "execution_count": 23,
   "metadata": {},
   "outputs": [
    {
     "name": "stdout",
     "output_type": "stream",
     "text": [
      "{'baz'}\n",
      "{2, 3, 4}\n",
      "set()\n",
      "{2, 3}\n"
     ]
    }
   ],
   "source": [
    "## x1.intersection(x2[,x3), arguments must be iterables. x1.intersection(x2) and x1 & x2 return the set of elements common to both x1 and x2\n",
    "print(x1.intersection(x2))\n",
    "print({1,2,3,4}.intersection((2,3,4,5)))\n",
    "print({1,2,3,4}.intersection('hello'))\n",
    "print({1,2,3,4}.intersection([2,3,(4,5)]))"
   ]
  },
  {
   "cell_type": "code",
   "execution_count": 24,
   "metadata": {},
   "outputs": [
    {
     "name": "stdout",
     "output_type": "stream",
     "text": [
      "{'baz'}\n",
      "{4}\n"
     ]
    },
    {
     "ename": "TypeError",
     "evalue": "unsupported operand type(s) for &: 'set' and 'tuple'",
     "output_type": "error",
     "traceback": [
      "\u001b[0;31m---------------------------------------------------------------------------\u001b[0m",
      "\u001b[0;31mTypeError\u001b[0m                                 Traceback (most recent call last)",
      "Cell \u001b[0;32mIn[24], line 5\u001b[0m\n\u001b[1;32m      3\u001b[0m \u001b[39mprint\u001b[39m(x1 \u001b[39m&\u001b[39m x2)\n\u001b[1;32m      4\u001b[0m \u001b[39mprint\u001b[39m({\u001b[39m1\u001b[39m,\u001b[39m2\u001b[39m,\u001b[39m3\u001b[39m,\u001b[39m4\u001b[39m} \u001b[39m&\u001b[39m {\u001b[39m4\u001b[39m,\u001b[39m5\u001b[39m,\u001b[39m6\u001b[39m,\u001b[39m7\u001b[39m})\n\u001b[0;32m----> 5\u001b[0m \u001b[39mprint\u001b[39m({\u001b[39m1\u001b[39;49m,\u001b[39m2\u001b[39;49m,\u001b[39m3\u001b[39;49m,\u001b[39m4\u001b[39;49m} \u001b[39m&\u001b[39;49m (\u001b[39m4\u001b[39;49m,\u001b[39m5\u001b[39;49m,\u001b[39m6\u001b[39;49m,\u001b[39m7\u001b[39;49m))\n",
      "\u001b[0;31mTypeError\u001b[0m: unsupported operand type(s) for &: 'set' and 'tuple'"
     ]
    }
   ],
   "source": [
    "## using operator\n",
    "#x1 and x2 are operands and must be set\n",
    "print(x1 & x2)\n",
    "print({1,2,3,4} & {4,5,6,7})\n",
    "print({1,2,3,4} & (4,5,6,7))"
   ]
  },
  {
   "cell_type": "code",
   "execution_count": 25,
   "metadata": {},
   "outputs": [
    {
     "name": "stdout",
     "output_type": "stream",
     "text": [
      "{4}\n",
      "{4}\n"
     ]
    }
   ],
   "source": [
    "print(a & b & c & d)\n",
    "print(a.intersection(b,c,d))"
   ]
  },
  {
   "cell_type": "code",
   "execution_count": 26,
   "metadata": {},
   "outputs": [
    {
     "name": "stdout",
     "output_type": "stream",
     "text": [
      "{'bar', 'foo'}\n",
      "{'quux', 'qux'}\n",
      "{1}\n",
      "{1, 2, 3, 4}\n",
      "{1, 4}\n"
     ]
    }
   ],
   "source": [
    "## x1.difference(x2[,x3), arguments must be iterables. x1.difference(x2) and x1 - x2 return the set of all elements that are in x1 but not in x2\n",
    "print(x1.difference(x2))\n",
    "print(x2.difference(x1))\n",
    "print({1,2,3,4}.difference((2,3,4,5)))\n",
    "print({1,2,3,4}.difference('hello'))\n",
    "print({1,2,3,4}.difference([2,3,(4,5)]))"
   ]
  },
  {
   "cell_type": "code",
   "execution_count": 27,
   "metadata": {},
   "outputs": [
    {
     "name": "stdout",
     "output_type": "stream",
     "text": [
      "{'bar', 'foo'}\n",
      "{'quux', 'qux'}\n",
      "{1, 2, 3}\n"
     ]
    },
    {
     "ename": "TypeError",
     "evalue": "unsupported operand type(s) for -: 'set' and 'tuple'",
     "output_type": "error",
     "traceback": [
      "\u001b[0;31m---------------------------------------------------------------------------\u001b[0m",
      "\u001b[0;31mTypeError\u001b[0m                                 Traceback (most recent call last)",
      "Cell \u001b[0;32mIn[27], line 6\u001b[0m\n\u001b[1;32m      4\u001b[0m \u001b[39mprint\u001b[39m(x2 \u001b[39m-\u001b[39m x1)\n\u001b[1;32m      5\u001b[0m \u001b[39mprint\u001b[39m({\u001b[39m1\u001b[39m,\u001b[39m2\u001b[39m,\u001b[39m3\u001b[39m,\u001b[39m4\u001b[39m} \u001b[39m-\u001b[39m {\u001b[39m4\u001b[39m,\u001b[39m5\u001b[39m,\u001b[39m6\u001b[39m,\u001b[39m7\u001b[39m})\n\u001b[0;32m----> 6\u001b[0m \u001b[39mprint\u001b[39m({\u001b[39m1\u001b[39;49m,\u001b[39m2\u001b[39;49m,\u001b[39m3\u001b[39;49m,\u001b[39m4\u001b[39;49m} \u001b[39m-\u001b[39;49m (\u001b[39m4\u001b[39;49m,\u001b[39m5\u001b[39;49m,\u001b[39m6\u001b[39;49m,\u001b[39m7\u001b[39;49m))\n",
      "\u001b[0;31mTypeError\u001b[0m: unsupported operand type(s) for -: 'set' and 'tuple'"
     ]
    }
   ],
   "source": [
    "## using operator\n",
    "#x1 and x2 are operands and must be set\n",
    "print(x1 - x2)\n",
    "print(x2 - x1)\n",
    "print({1,2,3,4} - {4,5,6,7})\n",
    "print({1,2,3,4} - (4,5,6,7))"
   ]
  },
  {
   "cell_type": "code",
   "execution_count": 28,
   "metadata": {},
   "outputs": [
    {
     "name": "stdout",
     "output_type": "stream",
     "text": [
      "{1}\n",
      "{1}\n"
     ]
    }
   ],
   "source": [
    "print(a-b-c-d)\n",
    "print(a.difference(b,c,d))"
   ]
  },
  {
   "cell_type": "code",
   "execution_count": 30,
   "metadata": {},
   "outputs": [
    {
     "name": "stdout",
     "output_type": "stream",
     "text": [
      "{'qux', 'bar', 'quux', 'foo'}\n",
      "{1, 5}\n",
      "{1, 2, 3, 'e', 4, 'l', 'o', 'h'}\n",
      "{1, (4, 5), 4}\n"
     ]
    }
   ],
   "source": [
    "## x1.symmetric_difference(x2), takes only one argument and must be iterable. x1.symmetric_difference(x2) and x1 ^ x2 return the set of all elements in either x1 or x2, but not both.\n",
    "print(x1.symmetric_difference(x2))\n",
    "print({1,2,3,4}.symmetric_difference((2,3,4,5)))\n",
    "print({1,2,3,4}.symmetric_difference('hello'))\n",
    "print({1,2,3,4}.symmetric_difference([2,3,(4,5)]))"
   ]
  },
  {
   "cell_type": "code",
   "execution_count": 31,
   "metadata": {},
   "outputs": [
    {
     "name": "stdout",
     "output_type": "stream",
     "text": [
      "{'qux', 'bar', 'quux', 'foo'}\n",
      "{1, 2, 3, 5, 6, 7}\n"
     ]
    },
    {
     "ename": "TypeError",
     "evalue": "unsupported operand type(s) for ^: 'set' and 'tuple'",
     "output_type": "error",
     "traceback": [
      "\u001b[0;31m---------------------------------------------------------------------------\u001b[0m",
      "\u001b[0;31mTypeError\u001b[0m                                 Traceback (most recent call last)",
      "Cell \u001b[0;32mIn[31], line 5\u001b[0m\n\u001b[1;32m      3\u001b[0m \u001b[39mprint\u001b[39m(x1 \u001b[39m^\u001b[39m x2)\n\u001b[1;32m      4\u001b[0m \u001b[39mprint\u001b[39m({\u001b[39m1\u001b[39m,\u001b[39m2\u001b[39m,\u001b[39m3\u001b[39m,\u001b[39m4\u001b[39m} \u001b[39m^\u001b[39m {\u001b[39m4\u001b[39m,\u001b[39m5\u001b[39m,\u001b[39m6\u001b[39m,\u001b[39m7\u001b[39m})\n\u001b[0;32m----> 5\u001b[0m \u001b[39mprint\u001b[39m({\u001b[39m1\u001b[39;49m,\u001b[39m2\u001b[39;49m,\u001b[39m3\u001b[39;49m,\u001b[39m4\u001b[39;49m} \u001b[39m^\u001b[39;49m (\u001b[39m4\u001b[39;49m,\u001b[39m5\u001b[39;49m,\u001b[39m6\u001b[39;49m,\u001b[39m7\u001b[39;49m))\n",
      "\u001b[0;31mTypeError\u001b[0m: unsupported operand type(s) for ^: 'set' and 'tuple'"
     ]
    }
   ],
   "source": [
    "## using operator\n",
    "#x1 and x2 are operands and must be set\n",
    "print(x1 ^ x2)\n",
    "print({1,2,3,4} ^ {4,5,6,7})\n",
    "print({1,2,3,4} ^ (4,5,6,7))"
   ]
  },
  {
   "cell_type": "code",
   "execution_count": 33,
   "metadata": {},
   "outputs": [
    {
     "name": "stdout",
     "output_type": "stream",
     "text": [
      "{1, 3, 5, 7}\n"
     ]
    },
    {
     "ename": "TypeError",
     "evalue": "set.symmetric_difference() takes exactly one argument (3 given)",
     "output_type": "error",
     "traceback": [
      "\u001b[0;31m---------------------------------------------------------------------------\u001b[0m",
      "\u001b[0;31mTypeError\u001b[0m                                 Traceback (most recent call last)",
      "Cell \u001b[0;32mIn[33], line 2\u001b[0m\n\u001b[1;32m      1\u001b[0m \u001b[39mprint\u001b[39m(a \u001b[39m^\u001b[39m b \u001b[39m^\u001b[39m c \u001b[39m^\u001b[39m d)\n\u001b[0;32m----> 2\u001b[0m \u001b[39mprint\u001b[39m(a\u001b[39m.\u001b[39;49msymmetric_difference(b,c,d)) \u001b[39m##.symmetric_difference() method doesn’t allow multiple iterables\u001b[39;00m\n",
      "\u001b[0;31mTypeError\u001b[0m: set.symmetric_difference() takes exactly one argument (3 given)"
     ]
    }
   ],
   "source": [
    "print(a ^ b ^ c ^ d)\n",
    "print(a.symmetric_difference(b,c,d)) ##.symmetric_difference() method doesn’t allow multiple iterables"
   ]
  },
  {
   "cell_type": "code",
   "execution_count": 34,
   "metadata": {},
   "outputs": [
    {
     "name": "stdout",
     "output_type": "stream",
     "text": [
      "False\n",
      "True\n",
      "True\n",
      "set()\n"
     ]
    }
   ],
   "source": [
    "## x1.disjoint(x2), this method accepts only one argument and that is iterable, it returns True if x1 and x2 have no elements in common\n",
    "print(x1.isdisjoint(x2))\n",
    "print({1,2,3,4}.isdisjoint({5,6,7,8}))\n",
    "\n",
    "#If x1.isdisjoint(x2) is True, then x1 & x2 is the empty set\n",
    "print({1,2,3,4}.isdisjoint({5,6,7,8}))\n",
    "print({1,2,3,4}.intersection({5,6,7,8}))"
   ]
  },
  {
   "cell_type": "code",
   "execution_count": 35,
   "metadata": {},
   "outputs": [
    {
     "name": "stdout",
     "output_type": "stream",
     "text": [
      "True\n",
      "True\n"
     ]
    }
   ],
   "source": [
    "# x1.issubset(x2), this method accepts only one argument and that is iterable, it returns true if all elements of x1 are present in x2\n",
    "x1 = {1,2,3}\n",
    "x2 = {1,2,3,4}\n",
    "print(x1.issubset(x2))\n",
    "print(x1 <= x2) # for <= operator, both x1 and x2 must be set"
   ]
  },
  {
   "cell_type": "code",
   "execution_count": 36,
   "metadata": {},
   "outputs": [
    {
     "name": "stdout",
     "output_type": "stream",
     "text": [
      "True\n",
      "False\n",
      "True False\n"
     ]
    }
   ],
   "source": [
    "##proper subset. x1 < x2. it returns true if x1 and x2 are not identicle and all elements of x1 are part of x2\n",
    "\n",
    "print({1,2,3} < {1,2,3,4})\n",
    "print({1,2,3} < {1,2,3})\n",
    "print(x1 <= x1 , x1 < x1) #While a set is considered a subset of itself, it is not a proper subset of itself:"
   ]
  },
  {
   "cell_type": "code",
   "execution_count": 37,
   "metadata": {},
   "outputs": [
    {
     "name": "stdout",
     "output_type": "stream",
     "text": [
      "False\n",
      "True\n",
      "True\n",
      "False\n",
      "True\n"
     ]
    }
   ],
   "source": [
    "# x1.issuperset(x2) this method accepts only one argument and that is iterable, it returns true if all elements of x2 are present in x1\n",
    "print(x1.issuperset(x2))\n",
    "print(x2.issuperset(x1))\n",
    "print(x1.issuperset(x1)) ## a set is superset of itself\n",
    "print(x1>=x2) ##using operator >= both operands must be set\n",
    "print(x2>=x1)"
   ]
  },
  {
   "cell_type": "code",
   "execution_count": 38,
   "metadata": {},
   "outputs": [
    {
     "name": "stdout",
     "output_type": "stream",
     "text": [
      "True\n",
      "False\n",
      "True\n"
     ]
    }
   ],
   "source": [
    "## proper superset. it returns true if x1 and x2 are unidentical and all elements of x2 are present in x1\n",
    "print(x2 > x1)\n",
    "print({1,2,3,4} > {1,2,3,4})\n",
    "print({1,2,3,5} > {1,2,3})\n",
    "\n"
   ]
  },
  {
   "cell_type": "code",
   "execution_count": 39,
   "metadata": {},
   "outputs": [
    {
     "name": "stdout",
     "output_type": "stream",
     "text": [
      "140665289464960\n",
      "140665289464960\n",
      "{'spam', 'bar', 'abc', 'foo'}\n"
     ]
    }
   ],
   "source": [
    "## modifying a set\n",
    "x = {'foo','bar','abc'}\n",
    "print(id(x))\n",
    "\n",
    "#x.add(<ele>) this method will add element to the set. Element must be immutable object\n",
    "x.add('spam')\n",
    "print(id(x))\n",
    "print(x)"
   ]
  },
  {
   "cell_type": "code",
   "execution_count": 40,
   "metadata": {},
   "outputs": [
    {
     "ename": "TypeError",
     "evalue": "unhashable type: 'list'",
     "output_type": "error",
     "traceback": [
      "\u001b[0;31m---------------------------------------------------------------------------\u001b[0m",
      "\u001b[0;31mTypeError\u001b[0m                                 Traceback (most recent call last)",
      "Cell \u001b[0;32mIn[40], line 1\u001b[0m\n\u001b[0;32m----> 1\u001b[0m x\u001b[39m.\u001b[39;49madd([\u001b[39m1\u001b[39;49m,\u001b[39m2\u001b[39;49m,\u001b[39m3\u001b[39;49m])\n",
      "\u001b[0;31mTypeError\u001b[0m: unhashable type: 'list'"
     ]
    }
   ],
   "source": [
    "x.add([1,2,3])"
   ]
  },
  {
   "cell_type": "code",
   "execution_count": 41,
   "metadata": {},
   "outputs": [
    {
     "data": {
      "text/plain": [
       "{(1, 2, 3), 'abc', 'bar', 'foo', 'spam'}"
      ]
     },
     "execution_count": 41,
     "metadata": {},
     "output_type": "execute_result"
    }
   ],
   "source": [
    "x.add((1,2,3))\n",
    "x"
   ]
  },
  {
   "cell_type": "code",
   "execution_count": 42,
   "metadata": {},
   "outputs": [
    {
     "data": {
      "text/plain": [
       "{(1, 2, 3), 'abc', 'bar', 'foo'}"
      ]
     },
     "execution_count": 42,
     "metadata": {},
     "output_type": "execute_result"
    }
   ],
   "source": [
    "#x.remove(<elem>) this method will remove the element from the set x. element must be present in the set else it will throw KeyError exception\n",
    "x.remove('spam')\n",
    "x"
   ]
  },
  {
   "cell_type": "code",
   "execution_count": 43,
   "metadata": {},
   "outputs": [
    {
     "ename": "KeyError",
     "evalue": "'ham'",
     "output_type": "error",
     "traceback": [
      "\u001b[0;31m---------------------------------------------------------------------------\u001b[0m",
      "\u001b[0;31mKeyError\u001b[0m                                  Traceback (most recent call last)",
      "Cell \u001b[0;32mIn[43], line 1\u001b[0m\n\u001b[0;32m----> 1\u001b[0m x\u001b[39m.\u001b[39;49mremove(\u001b[39m'\u001b[39;49m\u001b[39mham\u001b[39;49m\u001b[39m'\u001b[39;49m)\n",
      "\u001b[0;31mKeyError\u001b[0m: 'ham'"
     ]
    }
   ],
   "source": [
    "x.remove('ham')"
   ]
  },
  {
   "cell_type": "code",
   "execution_count": 44,
   "metadata": {},
   "outputs": [
    {
     "data": {
      "text/plain": [
       "{'abc', 'bar', 'foo'}"
      ]
     },
     "execution_count": 44,
     "metadata": {},
     "output_type": "execute_result"
    }
   ],
   "source": [
    "# x.discard(<element>) this method will remove the element from the set x. element must be present in the set else it will do nothing\n",
    "x.discard((1,2,3))\n",
    "x"
   ]
  },
  {
   "cell_type": "code",
   "execution_count": 45,
   "metadata": {},
   "outputs": [
    {
     "data": {
      "text/plain": [
       "{'abc', 'bar', 'foo'}"
      ]
     },
     "execution_count": 45,
     "metadata": {},
     "output_type": "execute_result"
    }
   ],
   "source": [
    "x.discard('hello')\n",
    "x"
   ]
  },
  {
   "cell_type": "code",
   "execution_count": 46,
   "metadata": {},
   "outputs": [
    {
     "data": {
      "text/plain": [
       "'bar'"
      ]
     },
     "execution_count": 46,
     "metadata": {},
     "output_type": "execute_result"
    }
   ],
   "source": [
    "## x.pop() this method will remove and return random element from the set. if set is empty it will throw an exception\n",
    "x.pop()"
   ]
  },
  {
   "cell_type": "code",
   "execution_count": 47,
   "metadata": {},
   "outputs": [
    {
     "data": {
      "text/plain": [
       "{'foo'}"
      ]
     },
     "execution_count": 47,
     "metadata": {},
     "output_type": "execute_result"
    }
   ],
   "source": [
    "x.pop()\n",
    "x"
   ]
  },
  {
   "cell_type": "code",
   "execution_count": 48,
   "metadata": {},
   "outputs": [
    {
     "data": {
      "text/plain": [
       "set()"
      ]
     },
     "execution_count": 48,
     "metadata": {},
     "output_type": "execute_result"
    }
   ],
   "source": [
    "x.pop()\n",
    "x"
   ]
  },
  {
   "cell_type": "code",
   "execution_count": 49,
   "metadata": {},
   "outputs": [
    {
     "ename": "KeyError",
     "evalue": "'pop from an empty set'",
     "output_type": "error",
     "traceback": [
      "\u001b[0;31m---------------------------------------------------------------------------\u001b[0m",
      "\u001b[0;31mKeyError\u001b[0m                                  Traceback (most recent call last)",
      "Cell \u001b[0;32mIn[49], line 1\u001b[0m\n\u001b[0;32m----> 1\u001b[0m x\u001b[39m.\u001b[39;49mpop()\n",
      "\u001b[0;31mKeyError\u001b[0m: 'pop from an empty set'"
     ]
    }
   ],
   "source": [
    "x.pop()"
   ]
  },
  {
   "cell_type": "code",
   "execution_count": 50,
   "metadata": {},
   "outputs": [
    {
     "name": "stdout",
     "output_type": "stream",
     "text": [
      "{1, 2, 3}\n",
      "set()\n"
     ]
    }
   ],
   "source": [
    "#x.clear() method clear all elements from the set\n",
    "print(x1)\n",
    "x1.clear()\n",
    "print(x1)"
   ]
  },
  {
   "attachments": {},
   "cell_type": "markdown",
   "metadata": {},
   "source": [
    "### Modifying a set\n",
    "\n",
    "Although the elements contained in a set must be of immutable type, sets themselves can be modified. \n",
    "Each of the union, intersection, difference, and symmetric difference operators listed above has an augmented assignment form that can be used to modify a set\n"
   ]
  },
  {
   "cell_type": "code",
   "execution_count": 52,
   "metadata": {},
   "outputs": [
    {
     "name": "stdout",
     "output_type": "stream",
     "text": [
      "{'baz', 'bar', 'foo'}\n",
      "{'quux', 'baz', 'qux'}\n"
     ]
    }
   ],
   "source": [
    "x1 = {'foo', 'bar', 'baz','bar'}\n",
    "x2 = {'baz', 'qux', 'quux'}\n",
    "print(x1,x2,sep='\\n')"
   ]
  },
  {
   "cell_type": "code",
   "execution_count": 53,
   "metadata": {},
   "outputs": [
    {
     "name": "stdout",
     "output_type": "stream",
     "text": [
      "{'qux', 'quux', 'baz', 'bar', 'foo'}\n",
      "{'baz', 'bar', 'foo'}\n",
      "None\n",
      "{'qux', 'quux', 'baz', 'bar', 'foo'}\n",
      "None\n",
      "{1, 2, 3, 'qux', 'quux', 'baz', 'bar', 'foo'}\n"
     ]
    }
   ],
   "source": [
    "## x1.update(x2[,x3)  this method will update x1 with all the elements of x2 and x3. Argumnets to this method must be iterables\n",
    "##union returns a new set with combination of all elements of x1 and x2. update does not return anything, instead it updates first operand set with all elements from other sets\n",
    "\n",
    "print(x1.union(x2))\n",
    "print(x1)\n",
    "\n",
    "print(x1.update(x2))\n",
    "print(x1)\n",
    "print(x1.update([1,2,3]))\n",
    "print(x1)"
   ]
  },
  {
   "cell_type": "code",
   "execution_count": 55,
   "metadata": {},
   "outputs": [
    {
     "name": "stdout",
     "output_type": "stream",
     "text": [
      "{1, 2, 3, 4, 5, 6, 7, 8}\n"
     ]
    }
   ],
   "source": [
    "### x1 |= x2 [|x3 |x4...] update can be done by operators also. operands must be set. this will update x1 with all elements of x2,x3,x4\n",
    "a = {1,2,3,4}\n",
    "b= {4,5,6}\n",
    "c={6,7}\n",
    "d = {8}\n",
    "\n",
    "a |= b | c | d  ### a |= (b |(c|d))\n",
    "print(a)"
   ]
  },
  {
   "cell_type": "code",
   "execution_count": 65,
   "metadata": {},
   "outputs": [
    {
     "name": "stdout",
     "output_type": "stream",
     "text": [
      "{'foo', 'baz'}\n",
      "{'foo', 'bar', 'baz'}\n",
      "None\n",
      "{'foo', 'baz'}\n"
     ]
    }
   ],
   "source": [
    "## x1.intersection_update(x2[,x3) this method will update x1 with all the elements which are in x1 and x2. Argumnets to this method must be iterables\n",
    "##intersection returns a new set with all elements which are common in  x1 and x2. intersection_update does not return anything, instead it updates first operand set with all elements which are common in both sets\n",
    "\n",
    "x1 = {'foo', 'bar', 'baz'}\n",
    "x2 = {'baz', 'qux', 'quux','foo'}\n",
    "\n",
    "print(x1.intersection(x2))\n",
    "print(x1)\n",
    "\n",
    "print(x1.intersection_update(x2))\n",
    "print(x1)"
   ]
  },
  {
   "cell_type": "code",
   "execution_count": 56,
   "metadata": {},
   "outputs": [
    {
     "name": "stdout",
     "output_type": "stream",
     "text": [
      "{6}\n"
     ]
    }
   ],
   "source": [
    "### x1 &= x2 [&x3 &x4] ### using operators\n",
    "a = {1,2,3,4,6}\n",
    "b= {4,5,6}\n",
    "c={6,7}\n",
    "d = {8,6}\n",
    "\n",
    "a &=b & c & d # a &= (b & (c & d))\n",
    "print(a)"
   ]
  },
  {
   "cell_type": "code",
   "execution_count": 57,
   "metadata": {},
   "outputs": [
    {
     "name": "stdout",
     "output_type": "stream",
     "text": [
      "{'bar'}\n",
      "{'baz', 'bar', 'foo'}\n",
      "None\n",
      "{'bar'}\n"
     ]
    }
   ],
   "source": [
    "# x1.difference_update(x2[,x3) this method will update x1 with all elements which are present in x1 but not in x2\n",
    "x1 = {'foo', 'bar', 'baz'}\n",
    "x2 = {'baz', 'qux', 'quux','foo'}\n",
    "\n",
    "print(x1.difference(x2))\n",
    "print(x1)\n",
    "\n",
    "print(x1.difference_update(x2))\n",
    "print(x1)\n",
    "\n"
   ]
  },
  {
   "cell_type": "code",
   "execution_count": 58,
   "metadata": {},
   "outputs": [
    {
     "name": "stdout",
     "output_type": "stream",
     "text": [
      "{'quux', 'qux'}\n",
      "{'quux', 'baz', 'qux', 'foo'}\n",
      "None\n",
      "{'qux', 'quux'}\n",
      "{'baz', 'bar', 'foo'}\n"
     ]
    }
   ],
   "source": [
    "x1 = {'foo', 'bar', 'baz'}\n",
    "x2 = {'baz', 'qux', 'quux','foo'}\n",
    "\n",
    "print(x2.difference(x1))\n",
    "print(x2)\n",
    "\n",
    "print(x2.difference_update(x1))\n",
    "print(x2,x1,sep='\\n')\n",
    "\n"
   ]
  },
  {
   "cell_type": "code",
   "execution_count": 59,
   "metadata": {},
   "outputs": [
    {
     "name": "stdout",
     "output_type": "stream",
     "text": [
      "{1, 2, 3}\n",
      "{1, 2, 3}\n",
      "{1, 2, 3, 6}\n"
     ]
    }
   ],
   "source": [
    "### x1 -= x1 [ | x2 |x3] ### observe that operands in square brackets are unioned not minused\n",
    "\n",
    "a = {1,2,3,4,6}\n",
    "b= {4,5,6}\n",
    "c={6,7}\n",
    "d = {8,6}\n",
    "\n",
    "a.difference_update(b,c,d)\n",
    "print(a)\n",
    "\n",
    "a = {1,2,3,4,6}\n",
    "b= {4,5,6}\n",
    "c={6,7}\n",
    "d = {8,6}\n",
    "\n",
    "a -= b | c | d # a-=(b | (c|d))\n",
    "print(a)\n",
    "\n",
    "### if we use - then observe the ourout\n",
    "a = {1,2,3,4,6}\n",
    "b= {4,5,6}\n",
    "c={6,7}\n",
    "d = {8,6}\n",
    "\n",
    "a -= b - c - d ###observe the output\n",
    "print(a)"
   ]
  },
  {
   "cell_type": "code",
   "execution_count": 60,
   "metadata": {},
   "outputs": [
    {
     "name": "stdout",
     "output_type": "stream",
     "text": [
      "{'qux', 'bar', 'quux'}\n",
      "{'baz', 'bar', 'foo'}\n",
      "None\n",
      "{'qux', 'bar', 'quux'}\n"
     ]
    }
   ],
   "source": [
    "#x1.symmetric_difference_update(x2) this method will update x1 with all elements which are either in x1 or x2 but not in both. it takes only one argument\n",
    "\n",
    "x1 = {'foo', 'bar', 'baz'}\n",
    "x2 = {'baz', 'qux', 'quux','foo'}\n",
    "\n",
    "print(x1.symmetric_difference(x2))\n",
    "print(x1)\n",
    "\n",
    "print(x1.symmetric_difference_update(x2))\n",
    "print(x1)"
   ]
  },
  {
   "cell_type": "code",
   "execution_count": 61,
   "metadata": {},
   "outputs": [
    {
     "name": "stdout",
     "output_type": "stream",
     "text": [
      "{1, 2, 3, 5}\n",
      "{1, 2, 3, 4, 6}\n",
      "{1, 2, 3, 5}\n"
     ]
    }
   ],
   "source": [
    "### x1 ^= x2 \n",
    "\n",
    "a = {1,2,3,4,6}\n",
    "b= {4,5,6}\n",
    "\n",
    "print(a ^ b)\n",
    "print(a)\n",
    "\n",
    "a ^= b\n",
    "\n",
    "print(a)\n"
   ]
  },
  {
   "cell_type": "code",
   "execution_count": 62,
   "metadata": {},
   "outputs": [
    {
     "name": "stdout",
     "output_type": "stream",
     "text": [
      "140665289463840\n",
      "140665289463840\n",
      "{1, 2, 3}\n",
      "{1, 2, 3}\n",
      "\n",
      "140665289463840\n",
      "140665289463840\n",
      "{1, 2, 3, 4}\n",
      "{1, 2, 3, 4}\n"
     ]
    }
   ],
   "source": [
    "## Augmented assignment in sets\n",
    "## x |= {1}  is not same as x = x | {1}\n",
    "\n",
    "x = {1,2,3}\n",
    "y = x\n",
    "print(id(x),id(y),sep='\\n')\n",
    "print(x,y,sep='\\n')\n",
    "print()\n",
    "\n",
    "x |= {4}\n",
    "print(id(x),id(y),sep='\\n')\n",
    "print(x,y,sep='\\n')\n"
   ]
  },
  {
   "cell_type": "code",
   "execution_count": 78,
   "metadata": {},
   "outputs": [
    {
     "name": "stdout",
     "output_type": "stream",
     "text": [
      "140579656580224\n",
      "140578846125856\n",
      "{1, 2, 3, 4, 10}\n",
      "{1, 2, 3, 4}\n"
     ]
    }
   ],
   "source": [
    "x = x | {10} #creates new object and assign it's ref to x\n",
    "print(id(x),id(y),sep='\\n')\n",
    "print(x,y,sep='\\n')"
   ]
  },
  {
   "cell_type": "markdown",
   "metadata": {},
   "source": [
    "## frozen sets\n",
    "Python provides another built-in type called a frozenset, which is in all respects exactly like a set, except that a frozenset is immutable. You can perform non-modifying operations on a frozenset"
   ]
  },
  {
   "cell_type": "code",
   "execution_count": 63,
   "metadata": {},
   "outputs": [
    {
     "data": {
      "text/plain": [
       "frozenset({1, 2, 3, 4})"
      ]
     },
     "execution_count": 63,
     "metadata": {},
     "output_type": "execute_result"
    }
   ],
   "source": [
    "x = frozenset([1,2,3,4])\n",
    "x"
   ]
  },
  {
   "cell_type": "code",
   "execution_count": 64,
   "metadata": {},
   "outputs": [
    {
     "ename": "AttributeError",
     "evalue": "'frozenset' object has no attribute 'add'",
     "output_type": "error",
     "traceback": [
      "\u001b[0;31m---------------------------------------------------------------------------\u001b[0m",
      "\u001b[0;31mAttributeError\u001b[0m                            Traceback (most recent call last)",
      "Cell \u001b[0;32mIn[64], line 1\u001b[0m\n\u001b[0;32m----> 1\u001b[0m x\u001b[39m.\u001b[39;49madd(\u001b[39m5\u001b[39m)  \u001b[39m## we cannot modify frozenset as it is immutable\u001b[39;00m\n",
      "\u001b[0;31mAttributeError\u001b[0m: 'frozenset' object has no attribute 'add'"
     ]
    }
   ],
   "source": [
    "x.add(5)  ## we cannot modify frozenset as it is immutable"
   ]
  },
  {
   "cell_type": "code",
   "execution_count": 65,
   "metadata": {},
   "outputs": [
    {
     "ename": "AttributeError",
     "evalue": "'frozenset' object has no attribute 'clear'",
     "output_type": "error",
     "traceback": [
      "\u001b[0;31m---------------------------------------------------------------------------\u001b[0m",
      "\u001b[0;31mAttributeError\u001b[0m                            Traceback (most recent call last)",
      "Cell \u001b[0;32mIn[65], line 1\u001b[0m\n\u001b[0;32m----> 1\u001b[0m x\u001b[39m.\u001b[39;49mclear()\n",
      "\u001b[0;31mAttributeError\u001b[0m: 'frozenset' object has no attribute 'clear'"
     ]
    }
   ],
   "source": [
    "x.clear()"
   ]
  },
  {
   "cell_type": "code",
   "execution_count": 66,
   "metadata": {},
   "outputs": [
    {
     "name": "stdout",
     "output_type": "stream",
     "text": [
      "frozenset({3})\n",
      "frozenset({1, 2, 3, 4})\n",
      "<class 'frozenset'> -> 140664485105216\n",
      "frozenset({1, 2, 3, 4, 'e', 'l', 'h', 'o'})\n",
      "<class 'frozenset'> -> 140664485105216\n",
      "<class 'frozenset'> -> 140664485103648\n"
     ]
    }
   ],
   "source": [
    "# we can perform normal set operations on frozenset\n",
    "print(x.intersection([3]))\n",
    "print(x)\n",
    "print(type(x),'->',id(x))\n",
    "print(x.union('hello'))\n",
    "print(type(x),'->',id(x))\n",
    "print(type(x.union('hello')),'->',id(x.union('hello')))\n"
   ]
  },
  {
   "cell_type": "code",
   "execution_count": 67,
   "metadata": {},
   "outputs": [
    {
     "ename": "AttributeError",
     "evalue": "'frozenset' object has no attribute 'update'",
     "output_type": "error",
     "traceback": [
      "\u001b[0;31m---------------------------------------------------------------------------\u001b[0m",
      "\u001b[0;31mAttributeError\u001b[0m                            Traceback (most recent call last)",
      "Cell \u001b[0;32mIn[67], line 1\u001b[0m\n\u001b[0;32m----> 1\u001b[0m \u001b[39mprint\u001b[39m(x\u001b[39m.\u001b[39;49mupdate(\u001b[39m'\u001b[39m\u001b[39mhi\u001b[39m\u001b[39m'\u001b[39m))\n",
      "\u001b[0;31mAttributeError\u001b[0m: 'frozenset' object has no attribute 'update'"
     ]
    }
   ],
   "source": [
    "print(x.update('hi'))"
   ]
  },
  {
   "cell_type": "code",
   "execution_count": 87,
   "metadata": {},
   "outputs": [
    {
     "name": "stdout",
     "output_type": "stream",
     "text": [
      "{frozenset({1, 2, 3})} <class 'set'>\n",
      "{frozenset({'e', 'h', 'l', 'o'})} <class 'set'>\n"
     ]
    }
   ],
   "source": [
    "s = {frozenset({1,2,3})} # elements of the set must be immutable.Frozenset is immutable.\n",
    "print(s,type(s))\n",
    "s1 = set([frozenset('hello')])\n",
    "print(s1,type(s1))"
   ]
  },
  {
   "cell_type": "code",
   "execution_count": 68,
   "metadata": {},
   "outputs": [
    {
     "name": "stdout",
     "output_type": "stream",
     "text": [
      "140664485103872\n",
      "140664485103872\n",
      "frozenset({1})\n",
      "frozenset({1})\n",
      "\n",
      "140664485104992\n",
      "140664485103872\n",
      "frozenset({1, 3})\n",
      "frozenset({1})\n",
      "\n",
      "140664485103872\n",
      "140664743756736\n",
      "frozenset({1, 3})\n",
      "frozenset({1})\n"
     ]
    }
   ],
   "source": [
    "###aumented assignment works differently in case of frozen set  so x|= {1} here means x = x | {1}\n",
    "\n",
    "x = frozenset({1})\n",
    "y = x \n",
    "print(id(x),id(y),sep='\\n')\n",
    "print(x,y,sep='\\n')\n",
    "print()\n",
    "\n",
    "x |= {3}\n",
    "print(id(x),id(y),sep='\\n')\n",
    "print(x,y,sep='\\n')\n",
    "print()\n",
    "\n",
    "x = frozenset({1})\n",
    "y = x \n",
    "x = x | {3}\n",
    "print(id(x),id(y),sep='\\n')\n",
    "print(x,y,sep='\\n')\n"
   ]
  },
  {
   "cell_type": "code",
   "execution_count": 70,
   "metadata": {},
   "outputs": [],
   "source": [
    "### sets are very fast \n",
    "\n",
    "def init_sets():\n",
    "    s = set()\n",
    "    for i in range(1000):\n",
    "        s.add(i)\n",
    "    return s\n",
    "\n",
    "def init_list():\n",
    "    lst = list()\n",
    "    for i in range(1000):\n",
    "        lst.append(i)\n",
    "    return lst\n",
    "\n",
    "def init_tuple():\n",
    "    tup = tuple()\n",
    "    for i in range(1000):\n",
    "        tup += (i,)\n",
    "    return tup\n"
   ]
  },
  {
   "cell_type": "code",
   "execution_count": 71,
   "metadata": {},
   "outputs": [
    {
     "name": "stdout",
     "output_type": "stream",
     "text": [
      "56.2 µs ± 234 ns per loop (mean ± std. dev. of 7 runs, 10,000 loops each)\n"
     ]
    }
   ],
   "source": [
    "%timeit init_sets()"
   ]
  },
  {
   "cell_type": "code",
   "execution_count": 72,
   "metadata": {},
   "outputs": [
    {
     "name": "stdout",
     "output_type": "stream",
     "text": [
      "53.7 µs ± 466 ns per loop (mean ± std. dev. of 7 runs, 10,000 loops each)\n"
     ]
    }
   ],
   "source": [
    "%timeit init_list()"
   ]
  },
  {
   "cell_type": "code",
   "execution_count": 73,
   "metadata": {},
   "outputs": [
    {
     "name": "stdout",
     "output_type": "stream",
     "text": [
      "969 µs ± 9.68 µs per loop (mean ± std. dev. of 7 runs, 1,000 loops each)\n"
     ]
    }
   ],
   "source": [
    "%timeit init_tuple()"
   ]
  },
  {
   "cell_type": "code",
   "execution_count": 74,
   "metadata": {},
   "outputs": [],
   "source": [
    "s= init_sets()\n",
    "lst = init_list()\n",
    "tup = init_tuple()"
   ]
  },
  {
   "cell_type": "code",
   "execution_count": 75,
   "metadata": {},
   "outputs": [],
   "source": [
    "def membership_set():\n",
    "    for i in range(1000):\n",
    "        i in s\n",
    "\n",
    "def membership_list():\n",
    "    for i in range(1000):\n",
    "        i in lst\n",
    "\n",
    "def membership_tuples():\n",
    "    for i in range(1000):\n",
    "        i in tup"
   ]
  },
  {
   "cell_type": "code",
   "execution_count": 76,
   "metadata": {},
   "outputs": [
    {
     "name": "stdout",
     "output_type": "stream",
     "text": [
      "46 µs ± 458 ns per loop (mean ± std. dev. of 7 runs, 10,000 loops each)\n"
     ]
    }
   ],
   "source": [
    "%timeit membership_set()"
   ]
  },
  {
   "cell_type": "code",
   "execution_count": 77,
   "metadata": {},
   "outputs": [
    {
     "name": "stdout",
     "output_type": "stream",
     "text": [
      "4.95 ms ± 5.56 µs per loop (mean ± std. dev. of 7 runs, 100 loops each)\n"
     ]
    }
   ],
   "source": [
    "%timeit membership_list()"
   ]
  },
  {
   "cell_type": "code",
   "execution_count": 79,
   "metadata": {},
   "outputs": [
    {
     "name": "stdout",
     "output_type": "stream",
     "text": [
      "4.54 ms ± 37.8 µs per loop (mean ± std. dev. of 7 runs, 100 loops each)\n"
     ]
    }
   ],
   "source": [
    "%timeit membership_tuples()"
   ]
  },
  {
   "attachments": {},
   "cell_type": "markdown",
   "metadata": {},
   "source": [
    "so from above we saw that membership check in sets works very fast than other data structures like list and tuple"
   ]
  }
 ],
 "metadata": {
  "kernelspec": {
   "display_name": "Python 3",
   "language": "python",
   "name": "python3"
  },
  "language_info": {
   "codemirror_mode": {
    "name": "ipython",
    "version": 3
   },
   "file_extension": ".py",
   "mimetype": "text/x-python",
   "name": "python",
   "nbconvert_exporter": "python",
   "pygments_lexer": "ipython3",
   "version": "3.9.12"
  },
  "orig_nbformat": 4,
  "vscode": {
   "interpreter": {
    "hash": "31f2aee4e71d21fbe5cf8b01ff0e069b9275f58929596ceb00d14d90e3e16cd6"
   }
  }
 },
 "nbformat": 4,
 "nbformat_minor": 2
}
