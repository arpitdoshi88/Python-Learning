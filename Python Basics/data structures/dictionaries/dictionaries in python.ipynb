{
 "cells": [
  {
   "attachments": {},
   "cell_type": "markdown",
   "metadata": {},
   "source": [
    "### Dictionary\n",
    "- Dictionary generally known as associative array is a collection of key-value pairs. Each key-value pair maps it's key to its assiciate value.\n",
    "- A dictionaty can be defined by enclosing a comma seperated list of key value pairs in curly `{}` braces. A colon`(:)` is used to seperate key from its value.\n",
    "\n",
    "   ` d = {\n",
    "        <key>: <value>,\n",
    "        <key>: <value>,\n",
    "        .\n",
    "        .\n",
    "        .\n",
    "        <key>: <value>\n",
    "    }`\n",
    "\n",
    "- You can also construct a dictionary with the built-in dict() function. The argument to dict() should be a sequence of key-value pairs. A list of tuples works well for this.\n",
    "\n",
    "    `d = dict([\n",
    "        (<key>, <value>),\n",
    "        (<key>, <value),\n",
    "        .\n",
    "        .\n",
    "        .\n",
    "        (<key>, <value>)\n",
    "    ])`\n",
    "\n",
    "- The entries in the dictionary display in the order they are defined like Lists. Dictionary can be nested to any depth.\n",
    "- Dictionary is mutable object and cannot be retrived using numerical index\n",
    "- Dictionaries are accessed by keys. Keys in dictionary must be unique. Duplicate keys are not allowed.\n",
    "- The values in dictinary can be of any data type however the keys in the dictionary must be of immutable data types like int, float, boolean, strings, tuples.."
   ]
  },
  {
   "cell_type": "code",
   "execution_count": 1,
   "metadata": {},
   "outputs": [],
   "source": [
    "dict1= {\n",
    "    'India': 'New Delhi',\n",
    "    'Sri Lanka':'Colombo',\n",
    "    'USA': 'Washington DC',\n",
    "    'UK': 'London'\n",
    "}"
   ]
  },
  {
   "cell_type": "code",
   "execution_count": 5,
   "metadata": {},
   "outputs": [
    {
     "name": "stdout",
     "output_type": "stream",
     "text": [
      "<class 'dict'>\n",
      "{'India': 'New Delhi', 'Sri Lanka': 'Colombo', 'USA': 'Washington DC', 'UK': 'London'}\n",
      "length of the dictionay dict1 is 4\n"
     ]
    }
   ],
   "source": [
    "print(type(dict1))\n",
    "print(dict1)\n",
    "print(f'length of the dictionay dict1 is {len(dict1)}') "
   ]
  },
  {
   "cell_type": "code",
   "execution_count": 7,
   "metadata": {},
   "outputs": [
    {
     "name": "stdout",
     "output_type": "stream",
     "text": [
      "<class 'dict'>\n",
      "{'Maharashtra': 'Mumbai', 'Gujarat': 'Gandhinagar', 'Karnataka': 'Bengluru', 'Tamilnadu': 'Chennai'}\n",
      "length of the dictionay dict1 is 4\n"
     ]
    }
   ],
   "source": [
    "dict2 = dict([\n",
    "    ('Maharashtra','Mumbai'),\n",
    "    ('Gujarat','Gandhinagar'),\n",
    "    ('Karnataka','Bengluru'),\n",
    "    ('Tamilnadu','Chennai')\n",
    "])\n",
    "print(type(dict2))\n",
    "print(dict2)\n",
    "print(f'length of the dictionay dict1 is {len(dict2)}') "
   ]
  },
  {
   "cell_type": "code",
   "execution_count": 8,
   "metadata": {},
   "outputs": [
    {
     "name": "stdout",
     "output_type": "stream",
     "text": [
      "<class 'dict'>\n",
      "{'Cricket': 'Sachin', 'Tennis': 'Roger', 'Football': 'Messi', 'Basketball': 'Kobe'}\n",
      "length of the dictionay dict1 is 4\n"
     ]
    }
   ],
   "source": [
    "## if keys are simple strings then you can also define dictionary like this\n",
    "dict3 = dict(\n",
    "    Cricket = 'Sachin',\n",
    "    Tennis = 'Roger',\n",
    "    Football = 'Messi',\n",
    "    Basketball = 'Kobe'\n",
    ")\n",
    "print(type(dict3))\n",
    "print(dict3)\n",
    "print(f'length of the dictionay dict1 is {len(dict3)}') "
   ]
  },
  {
   "cell_type": "code",
   "execution_count": 92,
   "metadata": {},
   "outputs": [
    {
     "data": {
      "text/plain": [
       "{'foo': 1, 'bar': 100}"
      ]
     },
     "execution_count": 92,
     "metadata": {},
     "output_type": "execute_result"
    }
   ],
   "source": [
    "dict(foo=1,bar=100)"
   ]
  },
  {
   "cell_type": "code",
   "execution_count": 93,
   "metadata": {},
   "outputs": [
    {
     "ename": "SyntaxError",
     "evalue": "expression cannot contain assignment, perhaps you meant \"==\"? (2532065689.py, line 1)",
     "output_type": "error",
     "traceback": [
      "\u001b[0;36m  Cell \u001b[0;32mIn[93], line 1\u001b[0;36m\u001b[0m\n\u001b[0;31m    dict(0='foo',1='bar')\u001b[0m\n\u001b[0m         ^\u001b[0m\n\u001b[0;31mSyntaxError\u001b[0m\u001b[0;31m:\u001b[0m expression cannot contain assignment, perhaps you meant \"==\"?\n"
     ]
    }
   ],
   "source": [
    "dict(0='foo',1='bar')"
   ]
  },
  {
   "cell_type": "code",
   "execution_count": 9,
   "metadata": {},
   "outputs": [
    {
     "ename": "KeyError",
     "evalue": "0",
     "output_type": "error",
     "traceback": [
      "\u001b[0;31m---------------------------------------------------------------------------\u001b[0m",
      "\u001b[0;31mKeyError\u001b[0m                                  Traceback (most recent call last)",
      "Cell \u001b[0;32mIn[9], line 2\u001b[0m\n\u001b[1;32m      1\u001b[0m \u001b[39m## Dictionary elements are not accessed by numerical index\u001b[39;00m\n\u001b[0;32m----> 2\u001b[0m dict1[\u001b[39m0\u001b[39;49m]\n",
      "\u001b[0;31mKeyError\u001b[0m: 0"
     ]
    }
   ],
   "source": [
    "## Dictionary elements are not accessed by numerical index\n",
    "dict1[0]"
   ]
  },
  {
   "cell_type": "code",
   "execution_count": 10,
   "metadata": {},
   "outputs": [
    {
     "name": "stdout",
     "output_type": "stream",
     "text": [
      "New Delhi\n"
     ]
    }
   ],
   "source": [
    "## to access a value of a key from the dict\n",
    "print(dict1['India'])"
   ]
  },
  {
   "cell_type": "code",
   "execution_count": 11,
   "metadata": {},
   "outputs": [
    {
     "ename": "KeyError",
     "evalue": "'india'",
     "output_type": "error",
     "traceback": [
      "\u001b[0;31m---------------------------------------------------------------------------\u001b[0m",
      "\u001b[0;31mKeyError\u001b[0m                                  Traceback (most recent call last)",
      "Cell \u001b[0;32mIn[11], line 2\u001b[0m\n\u001b[1;32m      1\u001b[0m \u001b[39m## if key is not present, you will get an exception \u001b[39;00m\n\u001b[0;32m----> 2\u001b[0m \u001b[39mprint\u001b[39m(dict1[\u001b[39m'\u001b[39;49m\u001b[39mindia\u001b[39;49m\u001b[39m'\u001b[39;49m])\n",
      "\u001b[0;31mKeyError\u001b[0m: 'india'"
     ]
    }
   ],
   "source": [
    "## if key is not present, you will get an exception \n",
    "print(dict1['india'])"
   ]
  },
  {
   "cell_type": "code",
   "execution_count": 13,
   "metadata": {},
   "outputs": [
    {
     "name": "stdout",
     "output_type": "stream",
     "text": [
      "{'India': 'New Delhi', 'Sri Lanka': 'Colombo', 'USA': 'Washington DC', 'UK': 'London', 'Japan': 'Tokyo', 'South Korea': 'Seol'}\n",
      "{'India': 'New Delhi', 'Sri Lanka': 'Colombo', 'USA': 'Washington DC', 'UK': 'London', 'Japan': 'Tokyo', 'South Korea': 'Seoul'}\n"
     ]
    }
   ],
   "source": [
    "##to add a new entry in the dict\n",
    "dict1['Japan'] ='Tokyo'\n",
    "dict1['South Korea'] ='Seol'\n",
    "print(dict1)\n",
    "\n",
    "# to update the value of a key\n",
    "dict1['South Korea'] = 'Seoul'\n",
    "print(dict1)"
   ]
  },
  {
   "cell_type": "code",
   "execution_count": 14,
   "metadata": {},
   "outputs": [
    {
     "data": {
      "text/plain": [
       "{'India': 'New Delhi',\n",
       " 'USA': 'Washington DC',\n",
       " 'UK': 'London',\n",
       " 'Japan': 'Tokyo',\n",
       " 'South Korea': 'Seoul'}"
      ]
     },
     "execution_count": 14,
     "metadata": {},
     "output_type": "execute_result"
    }
   ],
   "source": [
    "## to delete an entry from the dict\n",
    "del dict1['Sri Lanka']\n",
    "dict1"
   ]
  },
  {
   "cell_type": "code",
   "execution_count": 15,
   "metadata": {},
   "outputs": [
    {
     "ename": "KeyError",
     "evalue": "'guj'",
     "output_type": "error",
     "traceback": [
      "\u001b[0;31m---------------------------------------------------------------------------\u001b[0m",
      "\u001b[0;31mKeyError\u001b[0m                                  Traceback (most recent call last)",
      "Cell \u001b[0;32mIn[15], line 3\u001b[0m\n\u001b[1;32m      1\u001b[0m \u001b[39m## Dictionary Keys vs. List Indices \u001b[39;00m\n\u001b[1;32m      2\u001b[0m \u001b[39m#you may have noticed that the interpreter raises the same exception, KeyError, when a dictionary is accessed with either an undefined key or by a numeric index\u001b[39;00m\n\u001b[0;32m----> 3\u001b[0m dict2[\u001b[39m'\u001b[39;49m\u001b[39mguj\u001b[39;49m\u001b[39m'\u001b[39;49m]\n",
      "\u001b[0;31mKeyError\u001b[0m: 'guj'"
     ]
    }
   ],
   "source": [
    "## Dictionary Keys vs. List Indices \n",
    "#you may have noticed that the interpreter raises the same exception, KeyError, when a dictionary is accessed with either an undefined key or by a numeric index\n",
    "dict2['guj']"
   ]
  },
  {
   "cell_type": "code",
   "execution_count": 16,
   "metadata": {},
   "outputs": [
    {
     "ename": "KeyError",
     "evalue": "0",
     "output_type": "error",
     "traceback": [
      "\u001b[0;31m---------------------------------------------------------------------------\u001b[0m",
      "\u001b[0;31mKeyError\u001b[0m                                  Traceback (most recent call last)",
      "Cell \u001b[0;32mIn[16], line 1\u001b[0m\n\u001b[0;32m----> 1\u001b[0m dict2[\u001b[39m0\u001b[39;49m]\n",
      "\u001b[0;31mKeyError\u001b[0m: 0"
     ]
    }
   ],
   "source": [
    "dict2[0]"
   ]
  },
  {
   "cell_type": "code",
   "execution_count": 17,
   "metadata": {},
   "outputs": [
    {
     "data": {
      "text/plain": [
       "{0: 'Zero', 1: 'One', 2: 'Two'}"
      ]
     },
     "execution_count": 17,
     "metadata": {},
     "output_type": "execute_result"
    }
   ],
   "source": [
    "#However you can define dictionary keys using integers. A dictionary key must be of immutable data type like Integers, floats,stringsm tuples,\n",
    "dict4 = {\n",
    "    0:'Zero',\n",
    "    1:'One',\n",
    "    2:'Two'\n",
    "}\n",
    "dict4"
   ]
  },
  {
   "cell_type": "code",
   "execution_count": 18,
   "metadata": {},
   "outputs": [
    {
     "name": "stdout",
     "output_type": "stream",
     "text": [
      "Zero\n"
     ]
    }
   ],
   "source": [
    "print(dict4[0]) ## here 0 is treated as key not as index\n"
   ]
  },
  {
   "cell_type": "code",
   "execution_count": 19,
   "metadata": {},
   "outputs": [
    {
     "ename": "KeyError",
     "evalue": "-1",
     "output_type": "error",
     "traceback": [
      "\u001b[0;31m---------------------------------------------------------------------------\u001b[0m",
      "\u001b[0;31mKeyError\u001b[0m                                  Traceback (most recent call last)",
      "Cell \u001b[0;32mIn[19], line 2\u001b[0m\n\u001b[1;32m      1\u001b[0m \u001b[39m#you cannot treat dictionary like a list\u001b[39;00m\n\u001b[0;32m----> 2\u001b[0m \u001b[39mprint\u001b[39m(dict4[\u001b[39m-\u001b[39;49m\u001b[39m1\u001b[39;49m])\n",
      "\u001b[0;31mKeyError\u001b[0m: -1"
     ]
    }
   ],
   "source": [
    "#you cannot treat dictionary like a list\n",
    "print(dict4[-1])"
   ]
  },
  {
   "cell_type": "code",
   "execution_count": 20,
   "metadata": {},
   "outputs": [
    {
     "ename": "TypeError",
     "evalue": "unhashable type: 'slice'",
     "output_type": "error",
     "traceback": [
      "\u001b[0;31m---------------------------------------------------------------------------\u001b[0m",
      "\u001b[0;31mTypeError\u001b[0m                                 Traceback (most recent call last)",
      "Cell \u001b[0;32mIn[20], line 1\u001b[0m\n\u001b[0;32m----> 1\u001b[0m \u001b[39mprint\u001b[39m(dict4[\u001b[39m0\u001b[39;49m:])\n",
      "\u001b[0;31mTypeError\u001b[0m: unhashable type: 'slice'"
     ]
    }
   ],
   "source": [
    "print(dict4[0:])"
   ]
  },
  {
   "cell_type": "code",
   "execution_count": 21,
   "metadata": {},
   "outputs": [
    {
     "ename": "AttributeError",
     "evalue": "'dict' object has no attribute 'append'",
     "output_type": "error",
     "traceback": [
      "\u001b[0;31m---------------------------------------------------------------------------\u001b[0m",
      "\u001b[0;31mAttributeError\u001b[0m                            Traceback (most recent call last)",
      "Cell \u001b[0;32mIn[21], line 1\u001b[0m\n\u001b[0;32m----> 1\u001b[0m \u001b[39mprint\u001b[39m(dict4\u001b[39m.\u001b[39;49mappend([\u001b[39m-\u001b[39m\u001b[39m1\u001b[39m]))\n",
      "\u001b[0;31mAttributeError\u001b[0m: 'dict' object has no attribute 'append'"
     ]
    }
   ],
   "source": [
    "print(dict4.append([-1]))"
   ]
  },
  {
   "attachments": {},
   "cell_type": "markdown",
   "metadata": {},
   "source": [
    "Although access to items in a dictionary does not depend on order, Python does guarantee that the order of items in a dictionary is preserved. When displayed, items will appear in the order they were defined, and iteration through the keys will occur in that order as well. Items added to a dictionary are added at the end. If items are deleted, the order of the remaining items is retained. You will find this only in python 3.7 or later"
   ]
  },
  {
   "cell_type": "code",
   "execution_count": 23,
   "metadata": {},
   "outputs": [
    {
     "data": {
      "text/plain": [
       "{'first name': 'Alex',\n",
       " 'last name': \"D'souza\",\n",
       " 'age': 54,\n",
       " 'city': 'California',\n",
       " 'cars': ['audi', 'porche', 'bently'],\n",
       " 'jobs': {'Analyst': '10 yrs', 'System Engineer': '15 yrs'}}"
      ]
     },
     "execution_count": 23,
     "metadata": {},
     "output_type": "execute_result"
    }
   ],
   "source": [
    "##Building dictionary incrementally\n",
    "#You can start by creating an empty dictionary, which is specified by empty curly braces. Then you can add new keys and values one at a time:\n",
    "\n",
    "person  = {}  ## creates an empty dictionary\n",
    "\n",
    "person['first name'] = 'Alex'\n",
    "person['last name'] = 'D\\'souza'\n",
    "person['age'] = 54 # the value contained in the dict does not need to be of same type. It can be of any type\n",
    "person['city'] = 'California'\n",
    "person['cars'] = ['audi','porche','bently'] \n",
    "person['jobs'] = {'Analyst': '10 yrs','System Engineer':'15 yrs'}\n",
    "person"
   ]
  },
  {
   "cell_type": "code",
   "execution_count": 27,
   "metadata": {},
   "outputs": [
    {
     "name": "stdout",
     "output_type": "stream",
     "text": [
      "{'Analyst': '10 yrs', 'System Engineer': '15 yrs'}\n"
     ]
    },
    {
     "data": {
      "text/plain": [
       "'10 yrs'"
      ]
     },
     "execution_count": 27,
     "metadata": {},
     "output_type": "execute_result"
    }
   ],
   "source": [
    "print(person['jobs'])\n",
    "person['jobs']['Analyst'] #Retrieving the values in the sublist or subdictionary requires an additional index or key"
   ]
  },
  {
   "cell_type": "code",
   "execution_count": 28,
   "metadata": {},
   "outputs": [
    {
     "name": "stdout",
     "output_type": "stream",
     "text": [
      "['audi', 'porche', 'bently']\n"
     ]
    },
    {
     "data": {
      "text/plain": [
       "'audi'"
      ]
     },
     "execution_count": 28,
     "metadata": {},
     "output_type": "execute_result"
    }
   ],
   "source": [
    "print(person['cars'])\n",
    "person['cars'][0]"
   ]
  },
  {
   "cell_type": "code",
   "execution_count": 30,
   "metadata": {},
   "outputs": [
    {
     "data": {
      "text/plain": [
       "{42: 'aaa', 3.1415: 'Pi', 'name': 'abc', (1, 2, 3): 'tuple'}"
      ]
     },
     "execution_count": 30,
     "metadata": {},
     "output_type": "execute_result"
    }
   ],
   "source": [
    "#Just as the values in a dictionary don’t need to be of the same type, the keys don’t either\n",
    "foo = {42 : 'aaa',\n",
    "       3.1415 : 'Pi',\n",
    "       'name': 'abc',\n",
    "       (1,2,3): \"tuple\"}\n",
    "foo"
   ]
  },
  {
   "cell_type": "code",
   "execution_count": 32,
   "metadata": {},
   "outputs": [
    {
     "data": {
      "text/plain": [
       "{int: 10, float: 3.14, bool: True}"
      ]
     },
     "execution_count": 32,
     "metadata": {},
     "output_type": "execute_result"
    }
   ],
   "source": [
    "bar = {int :10,float:3.14, bool:True}  # you can even use built in type functions as keys \n",
    "bar"
   ]
  },
  {
   "attachments": {},
   "cell_type": "markdown",
   "metadata": {},
   "source": [
    "### Restrictions on Keys for Python dictionaries \n",
    "\n",
    "- a given key can appear in a dictionary only once. Duplicate keys are not allowed. A dictionary maps each key to a corresponding value, so it doesn’t make sense to map a particular key more than once. When you assign a value to an already existing dictionary key, it does not add the key a second time, but replaces the existing value\n",
    "- a dictionary key must be of a type that is immutable like int,floar,bool,strings,tuples\n",
    "\n"
   ]
  },
  {
   "cell_type": "code",
   "execution_count": 34,
   "metadata": {},
   "outputs": [
    {
     "name": "stdout",
     "output_type": "stream",
     "text": [
      "{'India': 'New Delhi', 'USA': 'Washington DC', 'UK': 'London', 'Japan': 'Tokyo', 'South Korea': 'Seoul'}\n",
      "{'India': 'Delhi', 'USA': 'Washington DC', 'UK': 'London', 'Japan': 'Tokyo', 'South Korea': 'Seoul'}\n"
     ]
    }
   ],
   "source": [
    "print(dict1)\n",
    "dict1['India'] = 'Delhi'\n",
    "print(dict1)"
   ]
  },
  {
   "cell_type": "code",
   "execution_count": 35,
   "metadata": {},
   "outputs": [
    {
     "data": {
      "text/plain": [
       "{'Mumbai': 'Mumbai Indians',\n",
       " 'Chennai': 'Chennai Super Kings',\n",
       " 'Bengluru': 'Royal Challengers Banglore'}"
      ]
     },
     "execution_count": 35,
     "metadata": {},
     "output_type": "execute_result"
    }
   ],
   "source": [
    "# if you specify a key a second time during the initial creation of a dictionary, the second occurrence will override the first\n",
    "IPL_teams = {\n",
    "    'Mumbai' :'Mumbai India',\n",
    "    'Chennai': 'Chennai Super Kings',\n",
    "    'Bengluru':'Royal Challengers Banglore',\n",
    "    'Mumbai':'Mumbai Indians'\n",
    "}\n",
    "IPL_teams"
   ]
  },
  {
   "cell_type": "code",
   "execution_count": 36,
   "metadata": {},
   "outputs": [
    {
     "data": {
      "text/plain": [
       "{(1, 1): 'a', (1, 2): 'b', (2, 1): 'c', (2, 2): 'd'}"
      ]
     },
     "execution_count": 36,
     "metadata": {},
     "output_type": "execute_result"
    }
   ],
   "source": [
    "d = {(1, 1): 'a', (1, 2): 'b', (2, 1): 'c', (2, 2): 'd'}\n",
    "d"
   ]
  },
  {
   "cell_type": "code",
   "execution_count": 37,
   "metadata": {},
   "outputs": [
    {
     "data": {
      "text/plain": [
       "'a'"
      ]
     },
     "execution_count": 37,
     "metadata": {},
     "output_type": "execute_result"
    }
   ],
   "source": [
    "d[(1,1)]"
   ]
  },
  {
   "cell_type": "code",
   "execution_count": 38,
   "metadata": {},
   "outputs": [
    {
     "ename": "TypeError",
     "evalue": "unhashable type: 'list'",
     "output_type": "error",
     "traceback": [
      "\u001b[0;31m---------------------------------------------------------------------------\u001b[0m",
      "\u001b[0;31mTypeError\u001b[0m                                 Traceback (most recent call last)",
      "Cell \u001b[0;32mIn[38], line 1\u001b[0m\n\u001b[0;32m----> 1\u001b[0m d[[\u001b[39m1\u001b[39;49m,\u001b[39m2\u001b[39;49m,\u001b[39m3\u001b[39;49m]]\u001b[39m=\u001b[39m \u001b[39m'\u001b[39m\u001b[39mA list as key\u001b[39m\u001b[39m'\u001b[39m\n",
      "\u001b[0;31mTypeError\u001b[0m: unhashable type: 'list'"
     ]
    }
   ],
   "source": [
    "d[[1,2,3]]= 'A list as key'"
   ]
  },
  {
   "cell_type": "code",
   "execution_count": 39,
   "metadata": {},
   "outputs": [
    {
     "ename": "TypeError",
     "evalue": "unhashable type: 'dict'",
     "output_type": "error",
     "traceback": [
      "\u001b[0;31m---------------------------------------------------------------------------\u001b[0m",
      "\u001b[0;31mTypeError\u001b[0m                                 Traceback (most recent call last)",
      "Cell \u001b[0;32mIn[39], line 1\u001b[0m\n\u001b[0;32m----> 1\u001b[0m d[\u001b[39mdict\u001b[39;49m()] \u001b[39m=\u001b[39m\u001b[39m'\u001b[39m\u001b[39mdictionary\u001b[39m\u001b[39m'\u001b[39m\n",
      "\u001b[0;31mTypeError\u001b[0m: unhashable type: 'dict'"
     ]
    }
   ],
   "source": [
    "d[dict()] ='dictionary'"
   ]
  },
  {
   "attachments": {},
   "cell_type": "markdown",
   "metadata": {},
   "source": [
    "Technically, it is not quite correct to say an object must be immutable to be used as a dictionary key. More precisely, an object must be hashable, which means it can be passed to a hash function. A hash function takes data of arbitrary size and maps it to a relatively simpler fixed-size value called a hash value (or simply hash), which is used for table lookup and comparison.\n",
    "\n",
    "Python’s built-in hash() function returns the hash value for an object which is hashable, and raises an exception for an object which isn’t\n",
    "All of the built-in immutable types you have learned about so far are hashable, and the mutable container types (lists and dictionaries) are not\n",
    "There are few mutuable objects which are also hashable"
   ]
  },
  {
   "cell_type": "code",
   "execution_count": 41,
   "metadata": {},
   "outputs": [
    {
     "name": "stdout",
     "output_type": "stream",
     "text": [
      "-7141838057531621312\n",
      "1\n",
      "322818021289917443\n",
      "0\n",
      "529344067295497451\n"
     ]
    }
   ],
   "source": [
    "print(hash('abc'))\n",
    "print(hash(1))\n",
    "print(hash(3.14))\n",
    "print(hash(False))\n",
    "print(hash((1,2,3)))\n"
   ]
  },
  {
   "cell_type": "code",
   "execution_count": 42,
   "metadata": {},
   "outputs": [
    {
     "ename": "TypeError",
     "evalue": "unhashable type: 'list'",
     "output_type": "error",
     "traceback": [
      "\u001b[0;31m---------------------------------------------------------------------------\u001b[0m",
      "\u001b[0;31mTypeError\u001b[0m                                 Traceback (most recent call last)",
      "Cell \u001b[0;32mIn[42], line 1\u001b[0m\n\u001b[0;32m----> 1\u001b[0m \u001b[39mprint\u001b[39m(\u001b[39mhash\u001b[39;49m([\u001b[39m12\u001b[39;49m,\u001b[39m3\u001b[39;49m,\u001b[39m4\u001b[39;49m]))\n",
      "\u001b[0;31mTypeError\u001b[0m: unhashable type: 'list'"
     ]
    }
   ],
   "source": [
    "print(hash([12,3,4]))"
   ]
  },
  {
   "cell_type": "code",
   "execution_count": 43,
   "metadata": {},
   "outputs": [
    {
     "ename": "TypeError",
     "evalue": "unhashable type: 'dict'",
     "output_type": "error",
     "traceback": [
      "\u001b[0;31m---------------------------------------------------------------------------\u001b[0m",
      "\u001b[0;31mTypeError\u001b[0m                                 Traceback (most recent call last)",
      "Cell \u001b[0;32mIn[43], line 1\u001b[0m\n\u001b[0;32m----> 1\u001b[0m \u001b[39mprint\u001b[39m(\u001b[39mhash\u001b[39;49m({\u001b[39m1\u001b[39;49m:\u001b[39m'\u001b[39;49m\u001b[39mOne\u001b[39;49m\u001b[39m'\u001b[39;49m}))\n",
      "\u001b[0;31mTypeError\u001b[0m: unhashable type: 'dict'"
     ]
    }
   ],
   "source": [
    "print(hash({1:'One'}))"
   ]
  },
  {
   "cell_type": "code",
   "execution_count": 91,
   "metadata": {},
   "outputs": [
    {
     "name": "stdout",
     "output_type": "stream",
     "text": [
      "{'d1': {'d2': {'d3': {'d4': 'depth4'}}}}\n",
      "<class 'dict'> {'d2': {'d3': {'d4': 'depth4'}}}\n",
      "<class 'dict'> {'d3': {'d4': 'depth4'}}\n",
      "<class 'dict'> {'d4': 'depth4'}\n"
     ]
    }
   ],
   "source": [
    "##dictionaries can be nested to any depth\n",
    "\n",
    "d = {'d1':{'d2':{'d3':{'d4':'depth4'}}}}\n",
    "print(d)\n",
    "print(type(d['d1']),d['d1'])\n",
    "print(type(d['d1']['d2']),d['d1']['d2'])\n",
    "print(type(d['d1']['d2']['d3']),d['d1']['d2']['d3'])"
   ]
  },
  {
   "attachments": {},
   "cell_type": "markdown",
   "metadata": {},
   "source": [
    "### Operators and Built in Functions for Dictionary"
   ]
  },
  {
   "cell_type": "code",
   "execution_count": 50,
   "metadata": {},
   "outputs": [
    {
     "name": "stdout",
     "output_type": "stream",
     "text": [
      "{'Mumbai': 'Mumbai Indians', 'Chennai': 'Chennai Super Kings', 'Bengluru': 'Royal Challengers Banglore'}\n",
      "True\n",
      "False\n"
     ]
    }
   ],
   "source": [
    "#membership operators in and not in. These operators are used to check the keys in dictionary and return true or false \n",
    "print(IPL_teams)\n",
    "print('Mumbai' in IPL_teams)\n",
    "print('Mumbai' not in IPL_teams)"
   ]
  },
  {
   "cell_type": "code",
   "execution_count": 51,
   "metadata": {},
   "outputs": [
    {
     "ename": "KeyError",
     "evalue": "'mumbai'",
     "output_type": "error",
     "traceback": [
      "\u001b[0;31m---------------------------------------------------------------------------\u001b[0m",
      "\u001b[0;31mKeyError\u001b[0m                                  Traceback (most recent call last)",
      "Cell \u001b[0;32mIn[51], line 2\u001b[0m\n\u001b[1;32m      1\u001b[0m \u001b[39m#You can use the in operator together with short-circuit evaluation to avoid raising an error when trying to access a key that is not in the dictionary\u001b[39;00m\n\u001b[0;32m----> 2\u001b[0m IPL_teams[\u001b[39m'\u001b[39;49m\u001b[39mmumbai\u001b[39;49m\u001b[39m'\u001b[39;49m]\n",
      "\u001b[0;31mKeyError\u001b[0m: 'mumbai'"
     ]
    }
   ],
   "source": [
    "#You can use the in operator together with short-circuit evaluation to avoid raising an error when trying to access a key that is not in the dictionary\n",
    "IPL_teams['mumbai']"
   ]
  },
  {
   "cell_type": "code",
   "execution_count": 53,
   "metadata": {},
   "outputs": [
    {
     "data": {
      "text/plain": [
       "False"
      ]
     },
     "execution_count": 53,
     "metadata": {},
     "output_type": "execute_result"
    }
   ],
   "source": [
    "'mumbai' in IPL_teams and IPL_teams['Mumbai']  ##in this case second expression is not evaluated hence no exception is thrown"
   ]
  },
  {
   "cell_type": "code",
   "execution_count": 54,
   "metadata": {},
   "outputs": [
    {
     "name": "stdout",
     "output_type": "stream",
     "text": [
      "{42: 'aaa', 3.1415: 'Pi', 'name': 'abc', (1, 2, 3): 'tuple'}\n"
     ]
    }
   ],
   "source": [
    "# d.clear()  to clear the dictionary\n",
    "\n",
    "print(foo)"
   ]
  },
  {
   "cell_type": "code",
   "execution_count": 55,
   "metadata": {},
   "outputs": [
    {
     "data": {
      "text/plain": [
       "{}"
      ]
     },
     "execution_count": 55,
     "metadata": {},
     "output_type": "execute_result"
    }
   ],
   "source": [
    "foo.clear()\n",
    "foo"
   ]
  },
  {
   "cell_type": "code",
   "execution_count": 74,
   "metadata": {},
   "outputs": [
    {
     "name": "stdout",
     "output_type": "stream",
     "text": [
      "Mumbai Indians\n",
      "None\n",
      "-1\n",
      "Mumbai Indians\n"
     ]
    }
   ],
   "source": [
    "## d.get(<key>[,<default>) \n",
    "##The Python dictionary .get() method provides a convenient way of getting the value of a key from a dictionary without checking ahead of time whether the key exists, and without raising an error.\n",
    "\n",
    "##d.get(<key>) searches dictionary d for <key> and returns the associated value if it is found. If <key> is not found, it returns None\n",
    "\n",
    "print(IPL_teams.get('Mumbai'))\n",
    "print(IPL_teams.get('mumbai'))\n",
    "print(IPL_teams.get('mumbai',-1))"
   ]
  },
  {
   "cell_type": "code",
   "execution_count": 61,
   "metadata": {},
   "outputs": [
    {
     "name": "stdout",
     "output_type": "stream",
     "text": [
      "dict_items([('Mumbai', 'Mumbai Indians'), ('Chennai', 'Chennai Super Kings'), ('Bengluru', 'Royal Challengers Banglore')])\n",
      "[('Mumbai', 'Mumbai Indians'), ('Chennai', 'Chennai Super Kings'), ('Bengluru', 'Royal Challengers Banglore')]\n"
     ]
    }
   ],
   "source": [
    "## d.items() d.items() returns a list of tuples containing the key-value pairs in d. The first item in each tuple is the key, and the second item is the key’s value:\n",
    "print(IPL_teams.items())\n",
    "print(list(IPL_teams.items()))"
   ]
  },
  {
   "cell_type": "code",
   "execution_count": 64,
   "metadata": {},
   "outputs": [
    {
     "name": "stdout",
     "output_type": "stream",
     "text": [
      "dict_keys([0, 1, 3, 2])\n",
      "dict_keys([0, 1, 3, 2, 4])\n"
     ]
    }
   ],
   "source": [
    "# d.keys() returns all the keys from dict in the order they were entered\n",
    "foo = {0:'zero',1:'one',3:'three',2:'two'}\n",
    "print(foo.keys())\n",
    "foo[4] = 'four'\n",
    "print(foo.keys())"
   ]
  },
  {
   "cell_type": "code",
   "execution_count": 65,
   "metadata": {},
   "outputs": [
    {
     "data": {
      "text/plain": [
       "dict_values(['zero', 'one', 'three', 'two', 'four'])"
      ]
     },
     "execution_count": 65,
     "metadata": {},
     "output_type": "execute_result"
    }
   ],
   "source": [
    "##d.values() returns the values in a dictionary\n",
    "foo.values()"
   ]
  },
  {
   "cell_type": "code",
   "execution_count": 66,
   "metadata": {},
   "outputs": [
    {
     "data": {
      "text/plain": [
       "'four'"
      ]
     },
     "execution_count": 66,
     "metadata": {},
     "output_type": "execute_result"
    }
   ],
   "source": [
    "# d.pop(<key>[, <default>]) Removes a key from a dictionary, if it is present, and returns its value\n",
    "# If <key> is present in d, d.pop(<key>) removes <key> and returns its associated value\n",
    "foo.pop(4)"
   ]
  },
  {
   "cell_type": "code",
   "execution_count": 67,
   "metadata": {},
   "outputs": [
    {
     "name": "stdout",
     "output_type": "stream",
     "text": [
      "{0: 'zero', 1: 'one', 3: 'three', 2: 'two'}\n"
     ]
    }
   ],
   "source": [
    "print(foo)"
   ]
  },
  {
   "cell_type": "code",
   "execution_count": 68,
   "metadata": {},
   "outputs": [
    {
     "ename": "KeyError",
     "evalue": "4",
     "output_type": "error",
     "traceback": [
      "\u001b[0;31m---------------------------------------------------------------------------\u001b[0m",
      "\u001b[0;31mKeyError\u001b[0m                                  Traceback (most recent call last)",
      "Cell \u001b[0;32mIn[68], line 2\u001b[0m\n\u001b[1;32m      1\u001b[0m \u001b[39m##d.pop(<key>) raises a KeyError exception if <key> is not in d\u001b[39;00m\n\u001b[0;32m----> 2\u001b[0m foo\u001b[39m.\u001b[39;49mpop(\u001b[39m4\u001b[39;49m)\n",
      "\u001b[0;31mKeyError\u001b[0m: 4"
     ]
    }
   ],
   "source": [
    "##d.pop(<key>) raises a KeyError exception if <key> is not in d\n",
    "foo.pop(4)"
   ]
  },
  {
   "cell_type": "code",
   "execution_count": 69,
   "metadata": {},
   "outputs": [
    {
     "data": {
      "text/plain": [
       "'No such key'"
      ]
     },
     "execution_count": 69,
     "metadata": {},
     "output_type": "execute_result"
    }
   ],
   "source": [
    "##If <key> is not in d, and the optional <default> argument is specified, then that value is returned, and no exception is raised\n",
    "foo.pop(4,'No such key')"
   ]
  },
  {
   "cell_type": "code",
   "execution_count": 70,
   "metadata": {},
   "outputs": [
    {
     "data": {
      "text/plain": [
       "(2, 'two')"
      ]
     },
     "execution_count": 70,
     "metadata": {},
     "output_type": "execute_result"
    }
   ],
   "source": [
    "## d.popitem() removes the last key-value pair added from d and returns it as a tuple\n",
    "foo.popitem()"
   ]
  },
  {
   "cell_type": "code",
   "execution_count": 71,
   "metadata": {},
   "outputs": [
    {
     "name": "stdout",
     "output_type": "stream",
     "text": [
      "{0: 'zero', 1: 'one', 3: 'three'}\n"
     ]
    }
   ],
   "source": [
    "print(foo)"
   ]
  },
  {
   "cell_type": "code",
   "execution_count": 72,
   "metadata": {},
   "outputs": [
    {
     "name": "stdout",
     "output_type": "stream",
     "text": [
      "{0: 'zero', 1: 'one'}\n",
      "{0: 'zero'}\n",
      "{}\n"
     ]
    },
    {
     "ename": "KeyError",
     "evalue": "'popitem(): dictionary is empty'",
     "output_type": "error",
     "traceback": [
      "\u001b[0;31m---------------------------------------------------------------------------\u001b[0m",
      "\u001b[0;31mKeyError\u001b[0m                                  Traceback (most recent call last)",
      "Cell \u001b[0;32mIn[72], line 8\u001b[0m\n\u001b[1;32m      6\u001b[0m foo\u001b[39m.\u001b[39mpopitem()\n\u001b[1;32m      7\u001b[0m \u001b[39mprint\u001b[39m(foo)\n\u001b[0;32m----> 8\u001b[0m foo\u001b[39m.\u001b[39;49mpopitem()\n",
      "\u001b[0;31mKeyError\u001b[0m: 'popitem(): dictionary is empty'"
     ]
    }
   ],
   "source": [
    "## if d is empty it will throw KeyError exception\n",
    "foo.popitem()\n",
    "print(foo)\n",
    "foo.popitem()\n",
    "print(foo)\n",
    "foo.popitem()\n",
    "print(foo)\n",
    "foo.popitem()\n"
   ]
  },
  {
   "cell_type": "code",
   "execution_count": 75,
   "metadata": {},
   "outputs": [],
   "source": [
    "#d.update(<obj>) Merges a dictionary with another dictionary or with an iterable of key-value pairs\n",
    "#If <obj> is a dictionary, d.update(<obj>) merges the entries from <obj> into d. For each key in <obj>:\n",
    "#If the key is not present in d, the key-value pair from <obj> is added to d.\n",
    "#If the key is already present in d, the corresponding value in d for that key is updated to the value from <obj>."
   ]
  },
  {
   "cell_type": "code",
   "execution_count": 1,
   "metadata": {},
   "outputs": [
    {
     "name": "stdout",
     "output_type": "stream",
     "text": [
      "{'a': 10, 'b': 20, 'c': 30}\n",
      "{'b': 200, 'd': 400}\n"
     ]
    }
   ],
   "source": [
    "d1 = {'a': 10, 'b': 20, 'c': 30}\n",
    "d2 = {'b': 200, 'd': 400}\n",
    "print(d1,d2,sep='\\n')"
   ]
  },
  {
   "cell_type": "code",
   "execution_count": 100,
   "metadata": {},
   "outputs": [
    {
     "name": "stdout",
     "output_type": "stream",
     "text": [
      "{'a': 10, 'b': 200, 'c': 30, 'd': 400}\n"
     ]
    }
   ],
   "source": [
    "d1.update(d2)\n",
    "print(d1)"
   ]
  },
  {
   "cell_type": "code",
   "execution_count": 101,
   "metadata": {},
   "outputs": [
    {
     "name": "stdout",
     "output_type": "stream",
     "text": [
      "{'b': 200, 'd': 400, 'a': 10, 'c': 30}\n"
     ]
    }
   ],
   "source": [
    "d2.update(d1)\n",
    "print(d2)"
   ]
  },
  {
   "cell_type": "code",
   "execution_count": 102,
   "metadata": {},
   "outputs": [
    {
     "name": "stdout",
     "output_type": "stream",
     "text": [
      "{'b': 200, 'd': 400, 'a': 10, 'c': 30, 'e': 500, 'f': 90}\n"
     ]
    }
   ],
   "source": [
    "d2.update({'e':500,'f':90})\n",
    "print(d2)"
   ]
  },
  {
   "cell_type": "code",
   "execution_count": 107,
   "metadata": {},
   "outputs": [
    {
     "name": "stdout",
     "output_type": "stream",
     "text": [
      "{'a': 10, 'b': 200, 'c': 30, 'd': 400} 4463161536\n",
      "{'a': 10, 'b': 200, 'c': 30, 'd': 400} 4469372096\n",
      "{'a': 10, 'b': 200, 'c': 30, 'd': 400} 4463161536\n",
      "{'a': 10, 'b': 200, 'c': 30, 'd': 400, 'g': 1000} 4469372096\n",
      "False False\n"
     ]
    }
   ],
   "source": [
    "# to create a copy of other dictionaries\n",
    "a1 = {'a': 10, 'b': 200, 'c': 30, 'd': 400}\n",
    "\n",
    "a2 =dict(a1.items())\n",
    "print(a1 , id(a1))\n",
    "print(a2 , id(a2))\n",
    "a2['g'] = 1000\n",
    "print(a1 , id(a1))\n",
    "print(a2 , id(a2))\n",
    "print(a1==a2 , a1 is a2)"
   ]
  },
  {
   "cell_type": "code",
   "execution_count": 108,
   "metadata": {},
   "outputs": [
    {
     "name": "stdout",
     "output_type": "stream",
     "text": [
      "{'a': 10, 'b': 200, 'c': 30, 'd': 400} 4463161536\n",
      "{'a': 10, 'b': 200, 'c': 30, 'd': 400} 4463161536\n",
      "{'a': 10, 'b': 200, 'c': 30, 'd': 400, 'g': 1000} 4463161536\n",
      "{'a': 10, 'b': 200, 'c': 30, 'd': 400, 'g': 1000} 4463161536\n",
      "True True\n"
     ]
    }
   ],
   "source": [
    "a3 = a1\n",
    "print(a1 , id(a1))\n",
    "print(a3 , id(a3))\n",
    "a3['g']= 1000\n",
    "print(a1 , id(a1))\n",
    "print(a3 , id(a3))\n",
    "print(a1==a3, a1 is a3)\n"
   ]
  },
  {
   "cell_type": "code",
   "execution_count": 109,
   "metadata": {},
   "outputs": [
    {
     "name": "stdout",
     "output_type": "stream",
     "text": [
      "{'a': 10, 'b': 200, 'c': 30, 'd': 400, 'g': 1000} 4463161536\n",
      "{'a': 10, 'b': 200, 'c': 30, 'd': 400, 'g': 1000} 4469374528\n",
      "True False\n"
     ]
    }
   ],
   "source": [
    "a4 = dict(a1)\n",
    "print(a1 , id(a1))\n",
    "print(a4 , id(a4))\n",
    "print(a1==a4,a1 is a4)\n"
   ]
  },
  {
   "cell_type": "code",
   "execution_count": 110,
   "metadata": {},
   "outputs": [
    {
     "name": "stdout",
     "output_type": "stream",
     "text": [
      "{'a': 10, 'b': 200, 'c': 30, 'd': 400, 'g': 1000} 4463161536\n",
      "{'a': 10, 'b': 200, 'c': 30, 'd': 400, 'g': 1000} 4395548480\n",
      "True False\n"
     ]
    }
   ],
   "source": [
    "a5 = {}\n",
    "a5.update(a1)\n",
    "print(a1 , id(a1))\n",
    "print(a5 , id(a5))\n",
    "print(a1==a5, a1 is a5)"
   ]
  }
 ],
 "metadata": {
  "kernelspec": {
   "display_name": "Python 3",
   "language": "python",
   "name": "python3"
  },
  "language_info": {
   "codemirror_mode": {
    "name": "ipython",
    "version": 3
   },
   "file_extension": ".py",
   "mimetype": "text/x-python",
   "name": "python",
   "nbconvert_exporter": "python",
   "pygments_lexer": "ipython3",
   "version": "3.9.6"
  },
  "orig_nbformat": 4,
  "vscode": {
   "interpreter": {
    "hash": "31f2aee4e71d21fbe5cf8b01ff0e069b9275f58929596ceb00d14d90e3e16cd6"
   }
  }
 },
 "nbformat": 4,
 "nbformat_minor": 2
}
