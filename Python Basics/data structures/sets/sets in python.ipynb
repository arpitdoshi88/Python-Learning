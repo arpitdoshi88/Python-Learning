{
 "cells": [
  {
   "attachments": {},
   "cell_type": "markdown",
   "metadata": {},
   "source": [
    "## Sets\n",
    "\n",
    "Sets are collection of distinct object. Sets in python has following characteristics\n",
    "- Sets are unordered.\n",
    "- Set elements are unique. Duplicate elements are not allowed.\n",
    "- A set itself may be modified, but the elements contained in the set must be of an immutable type."
   ]
  },
  {
   "attachments": {},
   "cell_type": "markdown",
   "metadata": {},
   "source": [
    "### Immutable vs Hashable?\n",
    "\n",
    "- An object is called immutable when it cannot be modifed once created. Like integer, strings, float, bool, tuple\n",
    "- An object is called hashable when you can run hash() method on it and it doesn't throw any error.\n",
    "- All immutable objects are hashable but not all hashable objects are immutable. You can create a class and define hash method in it to make it hashable."
   ]
  },
  {
   "cell_type": "code",
   "execution_count": 3,
   "metadata": {},
   "outputs": [
    {
     "name": "stdout",
     "output_type": "stream",
     "text": [
      "1\n",
      "1\n",
      "5003251266456453483\n",
      "529344067295497451\n"
     ]
    }
   ],
   "source": [
    "print(hash(1))\n",
    "print(hash(True))\n",
    "print(hash('ABC'))\n",
    "print(hash((1,2,3)))\n",
    "\n"
   ]
  },
  {
   "cell_type": "code",
   "execution_count": 5,
   "metadata": {},
   "outputs": [
    {
     "ename": "TypeError",
     "evalue": "unhashable type: 'list'",
     "output_type": "error",
     "traceback": [
      "\u001b[0;31m---------------------------------------------------------------------------\u001b[0m",
      "\u001b[0;31mTypeError\u001b[0m                                 Traceback (most recent call last)",
      "Cell \u001b[0;32mIn[5], line 1\u001b[0m\n\u001b[0;32m----> 1\u001b[0m \u001b[39mprint\u001b[39m(\u001b[39mhash\u001b[39;49m([\u001b[39m1\u001b[39;49m,\u001b[39m2\u001b[39;49m,\u001b[39m3\u001b[39;49m]))\n",
      "\u001b[0;31mTypeError\u001b[0m: unhashable type: 'list'"
     ]
    }
   ],
   "source": [
    "print(hash([1,2,3]))"
   ]
  },
  {
   "cell_type": "code",
   "execution_count": 6,
   "metadata": {},
   "outputs": [
    {
     "ename": "TypeError",
     "evalue": "unhashable type: 'dict'",
     "output_type": "error",
     "traceback": [
      "\u001b[0;31m---------------------------------------------------------------------------\u001b[0m",
      "\u001b[0;31mTypeError\u001b[0m                                 Traceback (most recent call last)",
      "Cell \u001b[0;32mIn[6], line 1\u001b[0m\n\u001b[0;32m----> 1\u001b[0m \u001b[39mprint\u001b[39m(\u001b[39mhash\u001b[39;49m({\u001b[39m1\u001b[39;49m:\u001b[39m2\u001b[39;49m}))\n",
      "\u001b[0;31mTypeError\u001b[0m: unhashable type: 'dict'"
     ]
    }
   ],
   "source": [
    "print(hash({1:2}))"
   ]
  },
  {
   "attachments": {},
   "cell_type": "markdown",
   "metadata": {},
   "source": [
    "#### sets can be created in two diff ways\n",
    "\n",
    "- using set() built-in method\n",
    "`s = set(<iter>)`\n",
    "- using `{}` braces with comma seperated immutable objects as elements"
   ]
  },
  {
   "cell_type": "code",
   "execution_count": 7,
   "metadata": {},
   "outputs": [
    {
     "name": "stdout",
     "output_type": "stream",
     "text": [
      "<class 'set'> {1, 2, 3, 'abc'}\n"
     ]
    }
   ],
   "source": [
    "## set(<iter>)  all elements of an iterable will be added to the set.\n",
    "s = set(['abc',1,2,3])\n",
    "print(type(s),s)"
   ]
  },
  {
   "cell_type": "code",
   "execution_count": 8,
   "metadata": {},
   "outputs": [
    {
     "name": "stdout",
     "output_type": "stream",
     "text": [
      "<class 'set'> {1, 2}\n"
     ]
    }
   ],
   "source": [
    "s1 = set({1:'one',2:'two'})\n",
    "print(type(s1),s1)"
   ]
  },
  {
   "cell_type": "code",
   "execution_count": 9,
   "metadata": {},
   "outputs": [
    {
     "name": "stdout",
     "output_type": "stream",
     "text": [
      "<class 'set'> {1, 2, 3, 4}\n"
     ]
    }
   ],
   "source": [
    "s2 = set((1,2,3,4))\n",
    "print(type(s2),s2)"
   ]
  },
  {
   "cell_type": "code",
   "execution_count": 10,
   "metadata": {},
   "outputs": [
    {
     "name": "stdout",
     "output_type": "stream",
     "text": [
      "<class 'set'> {'o', 'e', 'l', 'h'}\n"
     ]
    }
   ],
   "source": [
    "s3 =set('hello')  ##  duplicate values only represented as once\n",
    "print(type(s3),s3)"
   ]
  },
  {
   "cell_type": "code",
   "execution_count": 11,
   "metadata": {},
   "outputs": [
    {
     "name": "stdout",
     "output_type": "stream",
     "text": [
      "<class 'set'> {1, 2, 3, 'hello', (1, 2, 3)}\n"
     ]
    }
   ],
   "source": [
    "## using {} braches\n",
    "a = {1,2,3,'hello',(1,2,3)}\n",
    "print(type(a),a)"
   ]
  },
  {
   "cell_type": "code",
   "execution_count": 12,
   "metadata": {},
   "outputs": [
    {
     "ename": "TypeError",
     "evalue": "unhashable type: 'list'",
     "output_type": "error",
     "traceback": [
      "\u001b[0;31m---------------------------------------------------------------------------\u001b[0m",
      "\u001b[0;31mTypeError\u001b[0m                                 Traceback (most recent call last)",
      "Cell \u001b[0;32mIn[12], line 1\u001b[0m\n\u001b[0;32m----> 1\u001b[0m a \u001b[39m=\u001b[39m {\u001b[39m1\u001b[39m,\u001b[39m2\u001b[39m,\u001b[39m3\u001b[39m,\u001b[39m'\u001b[39m\u001b[39mhello\u001b[39m\u001b[39m'\u001b[39m,(\u001b[39m1\u001b[39m,\u001b[39m2\u001b[39m,\u001b[39m3\u001b[39m),[\u001b[39m1\u001b[39m,\u001b[39m2\u001b[39m]}\n\u001b[1;32m      2\u001b[0m \u001b[39mprint\u001b[39m(\u001b[39mtype\u001b[39m(a),a)\n",
      "\u001b[0;31mTypeError\u001b[0m: unhashable type: 'list'"
     ]
    }
   ],
   "source": [
    "a = {1,2,3,'hello',(1,2,3),[1,2]}\n",
    "print(type(a),a)"
   ]
  },
  {
   "cell_type": "code",
   "execution_count": 13,
   "metadata": {},
   "outputs": [
    {
     "ename": "TypeError",
     "evalue": "unhashable type: 'dict'",
     "output_type": "error",
     "traceback": [
      "\u001b[0;31m---------------------------------------------------------------------------\u001b[0m",
      "\u001b[0;31mTypeError\u001b[0m                                 Traceback (most recent call last)",
      "Cell \u001b[0;32mIn[13], line 1\u001b[0m\n\u001b[0;32m----> 1\u001b[0m a \u001b[39m=\u001b[39m {\u001b[39m1\u001b[39m,\u001b[39m2\u001b[39m,\u001b[39m3\u001b[39m,\u001b[39m'\u001b[39m\u001b[39mhello\u001b[39m\u001b[39m'\u001b[39m,{\u001b[39m1\u001b[39m:\u001b[39m2\u001b[39m}}\n\u001b[1;32m      2\u001b[0m \u001b[39mprint\u001b[39m(\u001b[39mtype\u001b[39m(a),a)\n",
      "\u001b[0;31mTypeError\u001b[0m: unhashable type: 'dict'"
     ]
    }
   ],
   "source": [
    "a = {1,2,3,'hello',{1:2}}\n",
    "print(type(a),a)"
   ]
  },
  {
   "cell_type": "code",
   "execution_count": 14,
   "metadata": {},
   "outputs": [
    {
     "ename": "TypeError",
     "evalue": "unhashable type: 'set'",
     "output_type": "error",
     "traceback": [
      "\u001b[0;31m---------------------------------------------------------------------------\u001b[0m",
      "\u001b[0;31mTypeError\u001b[0m                                 Traceback (most recent call last)",
      "Cell \u001b[0;32mIn[14], line 1\u001b[0m\n\u001b[0;32m----> 1\u001b[0m a \u001b[39m=\u001b[39m {\u001b[39m1\u001b[39m,\u001b[39m2\u001b[39m,\u001b[39m3\u001b[39m,\u001b[39m'\u001b[39m\u001b[39mhello\u001b[39m\u001b[39m'\u001b[39m,{\u001b[39m1\u001b[39m,\u001b[39m2\u001b[39m,\u001b[39m3\u001b[39m}}\n\u001b[1;32m      2\u001b[0m \u001b[39mprint\u001b[39m(\u001b[39mtype\u001b[39m(a),a)\n",
      "\u001b[0;31mTypeError\u001b[0m: unhashable type: 'set'"
     ]
    }
   ],
   "source": [
    "a = {1,2,3,'hello',{1,2,3}}\n",
    "print(type(a),a)"
   ]
  },
  {
   "cell_type": "code",
   "execution_count": 15,
   "metadata": {},
   "outputs": [
    {
     "data": {
      "text/plain": [
       "{1, 2, 'foo', 'spam'}"
      ]
     },
     "execution_count": 15,
     "metadata": {},
     "output_type": "execute_result"
    }
   ],
   "source": [
    "x = {'foo','spam',1,2,'foo','spam',1,2}\n",
    "x"
   ]
  },
  {
   "cell_type": "code",
   "execution_count": 20,
   "metadata": {},
   "outputs": [
    {
     "name": "stdout",
     "output_type": "stream",
     "text": [
      "set() False\n",
      "<class 'dict'>\n"
     ]
    }
   ],
   "source": [
    "## only way to create empty set\n",
    "s= set()\n",
    "print(s,bool(s)) ## empty set is falsy\n",
    "s1 = {} ## python defines empty curly braces as dictionary\n",
    "print(type(s1)) "
   ]
  },
  {
   "cell_type": "code",
   "execution_count": 38,
   "metadata": {},
   "outputs": [
    {
     "name": "stdout",
     "output_type": "stream",
     "text": [
      "True\n",
      "True\n",
      "True\n",
      "False\n"
     ]
    }
   ],
   "source": [
    "#membership operator in sets\n",
    "s = {1,2,3,4,'abc'}\n",
    "print(1 in s)\n",
    "print('abc' in s)\n",
    "print(10 not in s)\n",
    "print('a' in s)"
   ]
  },
  {
   "cell_type": "code",
   "execution_count": 42,
   "metadata": {},
   "outputs": [
    {
     "name": "stdout",
     "output_type": "stream",
     "text": [
      "5\n",
      "3\n",
      "4\n"
     ]
    }
   ],
   "source": [
    "print(len(s))\n",
    "print(len({1,2,(1,2,3)}))\n",
    "print(len({1,2,3,4,4,4,4})) ##duplicates are not counted"
   ]
  },
  {
   "attachments": {},
   "cell_type": "markdown",
   "metadata": {},
   "source": [
    "##  Set Operations\n",
    "\n",
    "- Sets in python cannot be indexed or sliced,however there are python provides whole host of operations that mimic the operations performed on mathematical set like Union, intersect and difference\n",
    "- Set operations on python can be performed in two diff ways, by operators and by methods.\n",
    "- Set methods take iterables as argument, convert it to a set and then perform the operations. On the other hand when you use operator, both operands on each side of operator must be set.\n",
    "- Set operations works left to right When multiple sets are specified. So for a | b | c , a|b executes first,output of which will be then used as operand to perform union with c\n"
   ]
  },
  {
   "cell_type": "code",
   "execution_count": 50,
   "metadata": {},
   "outputs": [
    {
     "name": "stdout",
     "output_type": "stream",
     "text": [
      "{'foo', 'bar', 'baz'}\n",
      "{'qux', 'quux', 'baz'}\n"
     ]
    }
   ],
   "source": [
    "x1 = {'foo', 'bar', 'baz','bar'}\n",
    "x2 = {'baz', 'qux', 'quux'}\n",
    "print(x1,x2,sep='\\n')"
   ]
  },
  {
   "cell_type": "code",
   "execution_count": 56,
   "metadata": {},
   "outputs": [
    {
     "name": "stdout",
     "output_type": "stream",
     "text": [
      "{'qux', 'quux', 'bar', 'foo', 'baz'}\n",
      "{1, 2, 3, 4, 5}\n",
      "{1, 2, 3, 4, 'l', 'h', 'o', 'e'}\n",
      "{1, 2, 3, 4, (4, 5)}\n"
     ]
    }
   ],
   "source": [
    "## using method x1.union(x2[,x3), arguments must be an iterable. x1.union(x2) and x1 | x2 both return the set of all elements in either x1 or x2\n",
    "print(x1.union(x2))\n",
    "print({1,2,3,4}.union((2,3,4,5)))\n",
    "print({1,2,3,4}.union('hello'))\n",
    "print({1,2,3,4}.union([2,3,(4,5)]))"
   ]
  },
  {
   "cell_type": "code",
   "execution_count": 57,
   "metadata": {},
   "outputs": [
    {
     "name": "stdout",
     "output_type": "stream",
     "text": [
      "{'qux', 'quux', 'bar', 'foo', 'baz'}\n",
      "{1, 2, 3, 4, 5, 6, 7}\n"
     ]
    },
    {
     "ename": "TypeError",
     "evalue": "unsupported operand type(s) for |: 'set' and 'tuple'",
     "output_type": "error",
     "traceback": [
      "\u001b[0;31m---------------------------------------------------------------------------\u001b[0m",
      "\u001b[0;31mTypeError\u001b[0m                                 Traceback (most recent call last)",
      "Cell \u001b[0;32mIn[57], line 5\u001b[0m\n\u001b[1;32m      3\u001b[0m \u001b[39mprint\u001b[39m(x1\u001b[39m|\u001b[39mx2)\n\u001b[1;32m      4\u001b[0m \u001b[39mprint\u001b[39m({\u001b[39m1\u001b[39m,\u001b[39m2\u001b[39m,\u001b[39m3\u001b[39m,\u001b[39m4\u001b[39m} \u001b[39m|\u001b[39m {\u001b[39m4\u001b[39m,\u001b[39m5\u001b[39m,\u001b[39m6\u001b[39m,\u001b[39m7\u001b[39m})\n\u001b[0;32m----> 5\u001b[0m \u001b[39mprint\u001b[39m({\u001b[39m1\u001b[39;49m,\u001b[39m2\u001b[39;49m,\u001b[39m3\u001b[39;49m,\u001b[39m4\u001b[39;49m} \u001b[39m|\u001b[39;49m (\u001b[39m4\u001b[39;49m,\u001b[39m5\u001b[39;49m,\u001b[39m6\u001b[39;49m,\u001b[39m7\u001b[39;49m))\n",
      "\u001b[0;31mTypeError\u001b[0m: unsupported operand type(s) for |: 'set' and 'tuple'"
     ]
    }
   ],
   "source": [
    "##using operator x1 | x2\n",
    "#x1 and x2 are operands and must be set\n",
    "print(x1|x2)\n",
    "print({1,2,3,4} | {4,5,6,7})\n",
    "print({1,2,3,4} | (4,5,6,7)) ## this will throw an error as second operand is not set"
   ]
  },
  {
   "cell_type": "code",
   "execution_count": 58,
   "metadata": {},
   "outputs": [
    {
     "data": {
      "text/plain": [
       "{1, 2, 3, 4, 5, 6, 7}"
      ]
     },
     "execution_count": 58,
     "metadata": {},
     "output_type": "execute_result"
    }
   ],
   "source": [
    "a = {1, 2, 3, 4}\n",
    "b = {2, 3, 4, 5}\n",
    "c = {3, 4, 5, 6}\n",
    "d = {4, 5, 6, 7}\n",
    "\n",
    "a | b | c | d  ## a"
   ]
  },
  {
   "cell_type": "code",
   "execution_count": 66,
   "metadata": {},
   "outputs": [
    {
     "data": {
      "text/plain": [
       "{1, 2, 3, 4, 5, 6, 7}"
      ]
     },
     "execution_count": 66,
     "metadata": {},
     "output_type": "execute_result"
    }
   ],
   "source": [
    "a.union(b,c,d)"
   ]
  },
  {
   "cell_type": "code",
   "execution_count": 59,
   "metadata": {},
   "outputs": [
    {
     "name": "stdout",
     "output_type": "stream",
     "text": [
      "{'baz'}\n",
      "{2, 3, 4}\n",
      "set()\n",
      "{2, 3}\n"
     ]
    }
   ],
   "source": [
    "## x1.intersection(x2[,x3), arguments must be iterables. x1.intersection(x2) and x1 & x2 return the set of elements common to both x1 and x2\n",
    "print(x1.intersection(x2))\n",
    "print({1,2,3,4}.intersection((2,3,4,5)))\n",
    "print({1,2,3,4}.intersection('hello'))\n",
    "print({1,2,3,4}.intersection([2,3,(4,5)]))"
   ]
  },
  {
   "cell_type": "code",
   "execution_count": 60,
   "metadata": {},
   "outputs": [
    {
     "name": "stdout",
     "output_type": "stream",
     "text": [
      "{'baz'}\n",
      "{4}\n"
     ]
    },
    {
     "ename": "TypeError",
     "evalue": "unsupported operand type(s) for &: 'set' and 'tuple'",
     "output_type": "error",
     "traceback": [
      "\u001b[0;31m---------------------------------------------------------------------------\u001b[0m",
      "\u001b[0;31mTypeError\u001b[0m                                 Traceback (most recent call last)",
      "Cell \u001b[0;32mIn[60], line 5\u001b[0m\n\u001b[1;32m      3\u001b[0m \u001b[39mprint\u001b[39m(x1 \u001b[39m&\u001b[39m x2)\n\u001b[1;32m      4\u001b[0m \u001b[39mprint\u001b[39m({\u001b[39m1\u001b[39m,\u001b[39m2\u001b[39m,\u001b[39m3\u001b[39m,\u001b[39m4\u001b[39m} \u001b[39m&\u001b[39m {\u001b[39m4\u001b[39m,\u001b[39m5\u001b[39m,\u001b[39m6\u001b[39m,\u001b[39m7\u001b[39m})\n\u001b[0;32m----> 5\u001b[0m \u001b[39mprint\u001b[39m({\u001b[39m1\u001b[39;49m,\u001b[39m2\u001b[39;49m,\u001b[39m3\u001b[39;49m,\u001b[39m4\u001b[39;49m} \u001b[39m&\u001b[39;49m (\u001b[39m4\u001b[39;49m,\u001b[39m5\u001b[39;49m,\u001b[39m6\u001b[39;49m,\u001b[39m7\u001b[39;49m))\n",
      "\u001b[0;31mTypeError\u001b[0m: unsupported operand type(s) for &: 'set' and 'tuple'"
     ]
    }
   ],
   "source": [
    "## using operator\n",
    "#x1 and x2 are operands and must be set\n",
    "print(x1 & x2)\n",
    "print({1,2,3,4} & {4,5,6,7})\n",
    "print({1,2,3,4} & (4,5,6,7))"
   ]
  },
  {
   "cell_type": "code",
   "execution_count": 67,
   "metadata": {},
   "outputs": [
    {
     "name": "stdout",
     "output_type": "stream",
     "text": [
      "{4}\n",
      "{4}\n"
     ]
    }
   ],
   "source": [
    "print(a & b & c & d)\n",
    "print(a.intersection(b,c,d))"
   ]
  },
  {
   "cell_type": "code",
   "execution_count": 63,
   "metadata": {},
   "outputs": [
    {
     "name": "stdout",
     "output_type": "stream",
     "text": [
      "{'foo', 'bar'}\n",
      "{'qux', 'quux'}\n",
      "{1}\n",
      "{1, 2, 3, 4}\n",
      "{1, 4}\n"
     ]
    }
   ],
   "source": [
    "## x1.difference(x2[,x3), arguments must be iterables. x1.difference(x2) and x1 - x2 return the set of all elements that are in x1 but not in x2\n",
    "print(x1.difference(x2))\n",
    "print(x2.difference(x1))\n",
    "print({1,2,3,4}.difference((2,3,4,5)))\n",
    "print({1,2,3,4}.difference('hello'))\n",
    "print({1,2,3,4}.difference([2,3,(4,5)]))"
   ]
  },
  {
   "cell_type": "code",
   "execution_count": 64,
   "metadata": {},
   "outputs": [
    {
     "name": "stdout",
     "output_type": "stream",
     "text": [
      "{'foo', 'bar'}\n",
      "{'qux', 'quux'}\n",
      "{1, 2, 3}\n"
     ]
    },
    {
     "ename": "TypeError",
     "evalue": "unsupported operand type(s) for -: 'set' and 'tuple'",
     "output_type": "error",
     "traceback": [
      "\u001b[0;31m---------------------------------------------------------------------------\u001b[0m",
      "\u001b[0;31mTypeError\u001b[0m                                 Traceback (most recent call last)",
      "Cell \u001b[0;32mIn[64], line 6\u001b[0m\n\u001b[1;32m      4\u001b[0m \u001b[39mprint\u001b[39m(x2 \u001b[39m-\u001b[39m x1)\n\u001b[1;32m      5\u001b[0m \u001b[39mprint\u001b[39m({\u001b[39m1\u001b[39m,\u001b[39m2\u001b[39m,\u001b[39m3\u001b[39m,\u001b[39m4\u001b[39m} \u001b[39m-\u001b[39m {\u001b[39m4\u001b[39m,\u001b[39m5\u001b[39m,\u001b[39m6\u001b[39m,\u001b[39m7\u001b[39m})\n\u001b[0;32m----> 6\u001b[0m \u001b[39mprint\u001b[39m({\u001b[39m1\u001b[39;49m,\u001b[39m2\u001b[39;49m,\u001b[39m3\u001b[39;49m,\u001b[39m4\u001b[39;49m} \u001b[39m-\u001b[39;49m (\u001b[39m4\u001b[39;49m,\u001b[39m5\u001b[39;49m,\u001b[39m6\u001b[39;49m,\u001b[39m7\u001b[39;49m))\n",
      "\u001b[0;31mTypeError\u001b[0m: unsupported operand type(s) for -: 'set' and 'tuple'"
     ]
    }
   ],
   "source": [
    "## using operator\n",
    "#x1 and x2 are operands and must be set\n",
    "print(x1 - x2)\n",
    "print(x2 - x1)\n",
    "print({1,2,3,4} - {4,5,6,7})\n",
    "print({1,2,3,4} - (4,5,6,7))"
   ]
  },
  {
   "cell_type": "code",
   "execution_count": 68,
   "metadata": {},
   "outputs": [
    {
     "name": "stdout",
     "output_type": "stream",
     "text": [
      "{1}\n",
      "{1}\n"
     ]
    }
   ],
   "source": [
    "print(a-b-c-d)\n",
    "print(a.difference(b,c,d))"
   ]
  },
  {
   "cell_type": "code",
   "execution_count": 75,
   "metadata": {},
   "outputs": [
    {
     "name": "stdout",
     "output_type": "stream",
     "text": [
      "{'qux', 'quux', 'bar', 'foo'}\n",
      "{1, 5}\n",
      "{1, 2, 3, 4, 'l', 'h', 'o', 'e'}\n",
      "{1, (4, 5), 4}\n"
     ]
    }
   ],
   "source": [
    "## x1.symmetric_difference(x2), takes only one argument and must be iterable. x1.symmetric_difference(x2) and x1 ^ x2 return the set of all elements in either x1 or x2, but not both.\n",
    "print(x1.symmetric_difference(x2))\n",
    "print({1,2,3,4}.symmetric_difference((2,3,4,5)))\n",
    "print({1,2,3,4}.symmetric_difference('hello'))\n",
    "print({1,2,3,4}.symmetric_difference([2,3,(4,5)]))"
   ]
  },
  {
   "cell_type": "code",
   "execution_count": 72,
   "metadata": {},
   "outputs": [
    {
     "name": "stdout",
     "output_type": "stream",
     "text": [
      "{'qux', 'quux', 'bar', 'foo'}\n",
      "{1, 2, 3, 5, 6, 7}\n"
     ]
    },
    {
     "ename": "TypeError",
     "evalue": "unsupported operand type(s) for ^: 'set' and 'tuple'",
     "output_type": "error",
     "traceback": [
      "\u001b[0;31m---------------------------------------------------------------------------\u001b[0m",
      "\u001b[0;31mTypeError\u001b[0m                                 Traceback (most recent call last)",
      "Cell \u001b[0;32mIn[72], line 5\u001b[0m\n\u001b[1;32m      3\u001b[0m \u001b[39mprint\u001b[39m(x1 \u001b[39m^\u001b[39m x2)\n\u001b[1;32m      4\u001b[0m \u001b[39mprint\u001b[39m({\u001b[39m1\u001b[39m,\u001b[39m2\u001b[39m,\u001b[39m3\u001b[39m,\u001b[39m4\u001b[39m} \u001b[39m^\u001b[39m {\u001b[39m4\u001b[39m,\u001b[39m5\u001b[39m,\u001b[39m6\u001b[39m,\u001b[39m7\u001b[39m})\n\u001b[0;32m----> 5\u001b[0m \u001b[39mprint\u001b[39m({\u001b[39m1\u001b[39;49m,\u001b[39m2\u001b[39;49m,\u001b[39m3\u001b[39;49m,\u001b[39m4\u001b[39;49m} \u001b[39m^\u001b[39;49m (\u001b[39m4\u001b[39;49m,\u001b[39m5\u001b[39;49m,\u001b[39m6\u001b[39;49m,\u001b[39m7\u001b[39;49m))\n",
      "\u001b[0;31mTypeError\u001b[0m: unsupported operand type(s) for ^: 'set' and 'tuple'"
     ]
    }
   ],
   "source": [
    "## using operator\n",
    "#x1 and x2 are operands and must be set\n",
    "print(x1 ^ x2)\n",
    "print({1,2,3,4} ^ {4,5,6,7})\n",
    "print({1,2,3,4} ^ (4,5,6,7))"
   ]
  },
  {
   "cell_type": "code",
   "execution_count": 74,
   "metadata": {},
   "outputs": [
    {
     "name": "stdout",
     "output_type": "stream",
     "text": [
      "{1, 3, 5, 7}\n"
     ]
    },
    {
     "ename": "TypeError",
     "evalue": "set.symmetric_difference() takes exactly one argument (3 given)",
     "output_type": "error",
     "traceback": [
      "\u001b[0;31m---------------------------------------------------------------------------\u001b[0m",
      "\u001b[0;31mTypeError\u001b[0m                                 Traceback (most recent call last)",
      "Cell \u001b[0;32mIn[74], line 2\u001b[0m\n\u001b[1;32m      1\u001b[0m \u001b[39mprint\u001b[39m(a \u001b[39m^\u001b[39m b \u001b[39m^\u001b[39m c \u001b[39m^\u001b[39m d)\n\u001b[0;32m----> 2\u001b[0m \u001b[39mprint\u001b[39m(a\u001b[39m.\u001b[39;49msymmetric_difference(b,c,d))\n",
      "\u001b[0;31mTypeError\u001b[0m: set.symmetric_difference() takes exactly one argument (3 given)"
     ]
    }
   ],
   "source": [
    "print(a ^ b ^ c ^ d)\n",
    "print(a.symmetric_difference(b,c,d)) ##.symmetric_difference() method doesn’t allow multiple iterables"
   ]
  },
  {
   "cell_type": "code",
   "execution_count": 84,
   "metadata": {},
   "outputs": [
    {
     "name": "stdout",
     "output_type": "stream",
     "text": [
      "False\n",
      "True\n",
      "True\n",
      "set()\n"
     ]
    }
   ],
   "source": [
    "## x1.disjoint(x2), this method accepts only one argument and that is iterable, it returns True if x1 and x2 have no elements in common\n",
    "print(x1.isdisjoint(x2))\n",
    "print({1,2,3,4}.isdisjoint({5,6,7,8}))\n",
    "\n",
    "#If x1.isdisjoint(x2) is True, then x1 & x2 is the empty set\n",
    "print({1,2,3,4}.isdisjoint({5,6,7,8}))\n",
    "print({1,2,3,4}.intersection({5,6,7,8}))"
   ]
  },
  {
   "cell_type": "code",
   "execution_count": 87,
   "metadata": {},
   "outputs": [
    {
     "name": "stdout",
     "output_type": "stream",
     "text": [
      "True\n",
      "True\n",
      "True\n"
     ]
    }
   ],
   "source": [
    "# x1.issubset(x2), this method accepts only one argument and that is iterable, it returns true if all elements of x1 are present in x2\n",
    "x1 = {1,2,3}\n",
    "x2 = {1,2,3,4}\n",
    "print(x1.issubset(x2))\n",
    "print(x1 <= x2) # for <= operator, both x1 and x2 must be set\n",
    "print(x1.issubset(x2))"
   ]
  },
  {
   "cell_type": "code",
   "execution_count": 89,
   "metadata": {},
   "outputs": [
    {
     "name": "stdout",
     "output_type": "stream",
     "text": [
      "True\n",
      "False\n",
      "True False\n"
     ]
    }
   ],
   "source": [
    "##proper subset. x1 < x2. it returns true if x1 and x2 are not identicle and all elements of x1 are part of x2\n",
    "\n",
    "print({1,2,3} < {1,2,3,4})\n",
    "print({1,2,3} < {1,2,3})\n",
    "print(x1 <= x1 , x1 < x1) #While a set is considered a subset of itself, it is not a proper subset of itself:"
   ]
  },
  {
   "cell_type": "code",
   "execution_count": 93,
   "metadata": {},
   "outputs": [
    {
     "name": "stdout",
     "output_type": "stream",
     "text": [
      "False\n",
      "True\n",
      "True\n",
      "False\n",
      "True\n"
     ]
    }
   ],
   "source": [
    "# x1.issuperset(x2) this method accepts only one argument and that is iterable, it returns true if all elements of x2 are present in x1\n",
    "print(x1.issuperset(x2))\n",
    "print(x2.issuperset(x1))\n",
    "print(x1.issuperset(x1)) ## a set is superset of itself\n",
    "print(x1>=x2) ##usinf operator >= both operands must be set\n",
    "print(x2>=x1)"
   ]
  },
  {
   "cell_type": "code",
   "execution_count": 97,
   "metadata": {},
   "outputs": [
    {
     "name": "stdout",
     "output_type": "stream",
     "text": [
      "True\n",
      "False\n",
      "True\n"
     ]
    }
   ],
   "source": [
    "## proper superset. it returns true if x1 and x2 are unidentical and all elements of x2 are present in x1\n",
    "print(x2 > x1)\n",
    "print({1,2,3,4} > {1,2,3,4})\n",
    "print({1,2,3,5} > {1,2,3})\n",
    "\n"
   ]
  },
  {
   "cell_type": "code",
   "execution_count": 103,
   "metadata": {},
   "outputs": [
    {
     "name": "stdout",
     "output_type": "stream",
     "text": [
      "{'foo', 'bar', 'spam', 'abc'}\n"
     ]
    }
   ],
   "source": [
    "## modifying a set\n",
    "x = {'foo','bar','abc'}\n",
    "\n",
    "#x.add(<ele>) this method will add element to the set. Element must be hashable\n",
    "x.add('spam')\n",
    "print(x)"
   ]
  },
  {
   "cell_type": "code",
   "execution_count": 104,
   "metadata": {},
   "outputs": [
    {
     "ename": "TypeError",
     "evalue": "unhashable type: 'list'",
     "output_type": "error",
     "traceback": [
      "\u001b[0;31m---------------------------------------------------------------------------\u001b[0m",
      "\u001b[0;31mTypeError\u001b[0m                                 Traceback (most recent call last)",
      "Cell \u001b[0;32mIn[104], line 1\u001b[0m\n\u001b[0;32m----> 1\u001b[0m x\u001b[39m.\u001b[39;49madd([\u001b[39m1\u001b[39;49m,\u001b[39m2\u001b[39;49m,\u001b[39m3\u001b[39;49m])\n",
      "\u001b[0;31mTypeError\u001b[0m: unhashable type: 'list'"
     ]
    }
   ],
   "source": [
    "x.add([1,2,3])"
   ]
  },
  {
   "cell_type": "code",
   "execution_count": 105,
   "metadata": {},
   "outputs": [
    {
     "data": {
      "text/plain": [
       "{(1, 2, 3), 'abc', 'bar', 'foo', 'spam'}"
      ]
     },
     "execution_count": 105,
     "metadata": {},
     "output_type": "execute_result"
    }
   ],
   "source": [
    "x.add((1,2,3))\n",
    "x"
   ]
  },
  {
   "cell_type": "code",
   "execution_count": 106,
   "metadata": {},
   "outputs": [
    {
     "data": {
      "text/plain": [
       "{(1, 2, 3), 'abc', 'bar', 'foo'}"
      ]
     },
     "execution_count": 106,
     "metadata": {},
     "output_type": "execute_result"
    }
   ],
   "source": [
    "#x.remove(<elem>) this method will remove the element from the set x. element must be present in the set else it will throw KeyError exception\n",
    "x.remove('spam')\n",
    "x"
   ]
  },
  {
   "cell_type": "code",
   "execution_count": 107,
   "metadata": {},
   "outputs": [
    {
     "ename": "KeyError",
     "evalue": "'ham'",
     "output_type": "error",
     "traceback": [
      "\u001b[0;31m---------------------------------------------------------------------------\u001b[0m",
      "\u001b[0;31mKeyError\u001b[0m                                  Traceback (most recent call last)",
      "Cell \u001b[0;32mIn[107], line 1\u001b[0m\n\u001b[0;32m----> 1\u001b[0m x\u001b[39m.\u001b[39;49mremove(\u001b[39m'\u001b[39;49m\u001b[39mham\u001b[39;49m\u001b[39m'\u001b[39;49m)\n",
      "\u001b[0;31mKeyError\u001b[0m: 'ham'"
     ]
    }
   ],
   "source": [
    "x.remove('ham')"
   ]
  },
  {
   "cell_type": "code",
   "execution_count": 108,
   "metadata": {},
   "outputs": [
    {
     "data": {
      "text/plain": [
       "{'abc', 'bar', 'foo'}"
      ]
     },
     "execution_count": 108,
     "metadata": {},
     "output_type": "execute_result"
    }
   ],
   "source": [
    "# x.discard(<element>) this method will remove the element from the set x. element must be present in the set else it will do nothing\n",
    "x.discard((1,2,3))\n",
    "x"
   ]
  },
  {
   "cell_type": "code",
   "execution_count": 109,
   "metadata": {},
   "outputs": [
    {
     "data": {
      "text/plain": [
       "{'abc', 'bar', 'foo'}"
      ]
     },
     "execution_count": 109,
     "metadata": {},
     "output_type": "execute_result"
    }
   ],
   "source": [
    "x.discard('hello')\n",
    "x"
   ]
  },
  {
   "cell_type": "code",
   "execution_count": 110,
   "metadata": {},
   "outputs": [
    {
     "data": {
      "text/plain": [
       "'abc'"
      ]
     },
     "execution_count": 110,
     "metadata": {},
     "output_type": "execute_result"
    }
   ],
   "source": [
    "## x.pop() this method will remove and return random element from the set. if set is empty it will throw an exception\n",
    "x.pop()"
   ]
  },
  {
   "cell_type": "code",
   "execution_count": 111,
   "metadata": {},
   "outputs": [
    {
     "data": {
      "text/plain": [
       "{'foo'}"
      ]
     },
     "execution_count": 111,
     "metadata": {},
     "output_type": "execute_result"
    }
   ],
   "source": [
    "x.pop()\n",
    "x"
   ]
  },
  {
   "cell_type": "code",
   "execution_count": 112,
   "metadata": {},
   "outputs": [
    {
     "data": {
      "text/plain": [
       "set()"
      ]
     },
     "execution_count": 112,
     "metadata": {},
     "output_type": "execute_result"
    }
   ],
   "source": [
    "x.pop()\n",
    "x"
   ]
  },
  {
   "cell_type": "code",
   "execution_count": 113,
   "metadata": {},
   "outputs": [
    {
     "ename": "KeyError",
     "evalue": "'pop from an empty set'",
     "output_type": "error",
     "traceback": [
      "\u001b[0;31m---------------------------------------------------------------------------\u001b[0m",
      "\u001b[0;31mKeyError\u001b[0m                                  Traceback (most recent call last)",
      "Cell \u001b[0;32mIn[113], line 1\u001b[0m\n\u001b[0;32m----> 1\u001b[0m x\u001b[39m.\u001b[39;49mpop()\n",
      "\u001b[0;31mKeyError\u001b[0m: 'pop from an empty set'"
     ]
    }
   ],
   "source": [
    "x.pop()"
   ]
  },
  {
   "cell_type": "code",
   "execution_count": 114,
   "metadata": {},
   "outputs": [
    {
     "name": "stdout",
     "output_type": "stream",
     "text": [
      "{1, 2, 3}\n",
      "set()\n"
     ]
    }
   ],
   "source": [
    "#x.clear() method clear all elements from the set\n",
    "print(x1)\n",
    "x1.clear()\n",
    "print(x1)"
   ]
  },
  {
   "attachments": {},
   "cell_type": "markdown",
   "metadata": {},
   "source": [
    "### Modifying a set\n",
    "\n",
    "Although the elements contained in a set must be of immutable type, sets themselves can be modified. \n",
    "Each of the union, intersection, difference, and symmetric difference operators listed above has an augmented assignment form that can be used to modify a set\n"
   ]
  },
  {
   "cell_type": "code",
   "execution_count": 116,
   "metadata": {},
   "outputs": [
    {
     "name": "stdout",
     "output_type": "stream",
     "text": [
      "{'foo', 'bar', 'baz'}\n",
      "{'qux', 'quux', 'baz'}\n"
     ]
    }
   ],
   "source": [
    "x1 = {'foo', 'bar', 'baz','bar'}\n",
    "x2 = {'baz', 'qux', 'quux'}\n",
    "print(x1,x2,sep='\\n')"
   ]
  },
  {
   "cell_type": "code",
   "execution_count": 123,
   "metadata": {},
   "outputs": [
    {
     "name": "stdout",
     "output_type": "stream",
     "text": [
      "{'qux', 'quux', 'bar', 'foo', 'baz'}\n",
      "{'qux', 'quux', 'bar', 'foo', 'baz'}\n",
      "None\n",
      "{'qux', 'quux', 'bar', 'foo', 'baz'}\n",
      "None\n",
      "{'qux', 'quux', 1, 'bar', 2, 3, 'foo', 'baz'}\n"
     ]
    }
   ],
   "source": [
    "## x1.update(x2[,x3)  this method will update x1 with all the elements of x2 and x3. Argumnets to this method must be iterables\n",
    "##union returns a new set with combination of all elements of x1 and x2. update does not return anything, instead it updates first operand set with all elements from other sets\n",
    "\n",
    "print(x1.union(x2))\n",
    "print(x1)\n",
    "\n",
    "print(x1.update(x2))\n",
    "print(x1)\n",
    "print(x1.update([1,2,3]))\n",
    "print(x1)"
   ]
  },
  {
   "cell_type": "code",
   "execution_count": 122,
   "metadata": {},
   "outputs": [
    {
     "name": "stdout",
     "output_type": "stream",
     "text": [
      "{1, 2, 3, 4, 5, 6, 7, 8}\n"
     ]
    }
   ],
   "source": [
    "### x1 |= x2 [|x3 |x4...] update can be done by operators also. operands must be set. this will update x1 with all elements of x1,x2,x3\n",
    "a = {1,2,3,4}\n",
    "b= {4,5,6}\n",
    "c={6,7}\n",
    "d = {8}\n",
    "\n",
    "a |= b | c | d  ### a |= (b |(c|d))\n",
    "print(a)"
   ]
  },
  {
   "cell_type": "code",
   "execution_count": 126,
   "metadata": {},
   "outputs": [
    {
     "name": "stdout",
     "output_type": "stream",
     "text": [
      "{'foo', 'baz'}\n",
      "{'foo', 'bar', 'baz'}\n",
      "None\n",
      "{'foo', 'baz'}\n"
     ]
    }
   ],
   "source": [
    "## x1.intersection_update(x2[,x3) this method will update x1 with all the elements which are in x1 and x2. Argumnets to this method must be iterables\n",
    "##intersection returns a new set with all elements which are common in  x1 and x2. intersection_update does not return anything, instead it updates first operand set with all elements which are common in both sets\n",
    "\n",
    "x1 = {'foo', 'bar', 'baz'}\n",
    "x2 = {'baz', 'qux', 'quux','foo'}\n",
    "\n",
    "print(x1.intersection(x2))\n",
    "print(x1)\n",
    "\n",
    "print(x1.intersection_update(x2))\n",
    "print(x1)"
   ]
  },
  {
   "cell_type": "code",
   "execution_count": 128,
   "metadata": {},
   "outputs": [
    {
     "name": "stdout",
     "output_type": "stream",
     "text": [
      "{6}\n"
     ]
    }
   ],
   "source": [
    "### x1 &= x2 [&x3 &x4] ### using operators\n",
    "a = {1,2,3,4,6}\n",
    "b= {4,5,6}\n",
    "c={6,7}\n",
    "d = {8,6}\n",
    "\n",
    "a &=b & c & d # a &= (b & (c & d))\n",
    "print(a)"
   ]
  },
  {
   "cell_type": "code",
   "execution_count": 129,
   "metadata": {},
   "outputs": [
    {
     "name": "stdout",
     "output_type": "stream",
     "text": [
      "{'bar'}\n",
      "{'foo', 'bar', 'baz'}\n",
      "None\n",
      "{'bar'}\n"
     ]
    }
   ],
   "source": [
    "# x1.difference_update(x2[,x3) this method will update x1 with all elements which are present in x1 but not in x2\n",
    "x1 = {'foo', 'bar', 'baz'}\n",
    "x2 = {'baz', 'qux', 'quux','foo'}\n",
    "\n",
    "print(x1.difference(x2))\n",
    "print(x1)\n",
    "\n",
    "print(x1.difference_update(x2))\n",
    "print(x1)\n",
    "\n"
   ]
  },
  {
   "cell_type": "code",
   "execution_count": 130,
   "metadata": {},
   "outputs": [
    {
     "name": "stdout",
     "output_type": "stream",
     "text": [
      "{'qux', 'quux'}\n",
      "{'qux', 'quux', 'foo', 'baz'}\n",
      "None\n",
      "{'qux', 'quux'}\n",
      "{'foo', 'bar', 'baz'}\n"
     ]
    }
   ],
   "source": [
    "x1 = {'foo', 'bar', 'baz'}\n",
    "x2 = {'baz', 'qux', 'quux','foo'}\n",
    "\n",
    "print(x2.difference(x1))\n",
    "print(x2)\n",
    "\n",
    "print(x2.difference_update(x1))\n",
    "print(x2,x1,sep='\\n')\n",
    "\n"
   ]
  },
  {
   "cell_type": "code",
   "execution_count": 132,
   "metadata": {},
   "outputs": [
    {
     "name": "stdout",
     "output_type": "stream",
     "text": [
      "{1, 2, 3}\n",
      "{1, 2, 3}\n",
      "{1, 2, 3, 6}\n"
     ]
    }
   ],
   "source": [
    "### x1 -= x1 [ | x2 |x3] ### observe that operands in square brackets are unioned not minused\n",
    "\n",
    "a = {1,2,3,4,6}\n",
    "b= {4,5,6}\n",
    "c={6,7}\n",
    "d = {8,6}\n",
    "\n",
    "a.difference_update(b,c,d)\n",
    "print(a)\n",
    "\n",
    "a = {1,2,3,4,6}\n",
    "b= {4,5,6}\n",
    "c={6,7}\n",
    "d = {8,6}\n",
    "\n",
    "a -= b | c | d # a-=(b | (c|d))\n",
    "print(a)\n",
    "\n",
    "### if we use - then observe the ourout\n",
    "a = {1,2,3,4,6}\n",
    "b= {4,5,6}\n",
    "c={6,7}\n",
    "d = {8,6}\n",
    "\n",
    "a -= b - c - d ###observe the output\n",
    "print(a)"
   ]
  },
  {
   "cell_type": "code",
   "execution_count": 133,
   "metadata": {},
   "outputs": [
    {
     "name": "stdout",
     "output_type": "stream",
     "text": [
      "{'qux', 'quux', 'bar'}\n",
      "{'foo', 'bar', 'baz'}\n",
      "{'qux', 'quux', 'bar'}\n"
     ]
    }
   ],
   "source": [
    "#x1.symmetric_difference_update(x2) this method will update x1 with all elements which are either in x1 or x2 but not in both. it takes only one argument\n",
    "\n",
    "x1 = {'foo', 'bar', 'baz'}\n",
    "x2 = {'baz', 'qux', 'quux','foo'}\n",
    "\n",
    "print(x1.symmetric_difference(x2))\n",
    "print(x1)\n",
    "\n",
    "x1.symmetric_difference_update(x2)\n",
    "print(x1)"
   ]
  },
  {
   "cell_type": "code",
   "execution_count": 138,
   "metadata": {},
   "outputs": [
    {
     "name": "stdout",
     "output_type": "stream",
     "text": [
      "{1, 2, 3, 5}\n",
      "{1, 2, 3, 4, 6}\n",
      "{1, 2, 3, 5}\n"
     ]
    }
   ],
   "source": [
    "### x1 ^= x2 \n",
    "\n",
    "a = {1,2,3,4,6}\n",
    "b= {4,5,6}\n",
    "\n",
    "print(a ^ b)\n",
    "print(a)\n",
    "\n",
    "a ^= b\n",
    "print(a)\n"
   ]
  },
  {
   "cell_type": "code",
   "execution_count": 139,
   "metadata": {},
   "outputs": [
    {
     "name": "stdout",
     "output_type": "stream",
     "text": [
      "4664285440\n",
      "4664285440\n",
      "{1, 2, 3}\n",
      "{1, 2, 3}\n",
      "\n",
      "4664285440\n",
      "4664285440\n",
      "{1, 2, 3, 4}\n",
      "{1, 2, 3, 4}\n"
     ]
    }
   ],
   "source": [
    "## Augmented assignment in sets\n",
    "## x |= {1}  is not same as x = x | {1}\n",
    "\n",
    "x = {1,2,3}\n",
    "y = x\n",
    "print(id(x),id(y),sep='\\n')\n",
    "print(x,y,sep='\\n')\n",
    "print()\n",
    "\n",
    "x |= {4}\n",
    "print(id(x),id(y),sep='\\n')\n",
    "print(x,y,sep='\\n')\n"
   ]
  },
  {
   "cell_type": "code",
   "execution_count": 141,
   "metadata": {},
   "outputs": [
    {
     "name": "stdout",
     "output_type": "stream",
     "text": [
      "4631392768\n",
      "4664285440\n",
      "{1, 2, 3, 4, 10}\n",
      "{1, 2, 3, 4}\n"
     ]
    }
   ],
   "source": [
    "x = x | {10} #creates new object and assign it's ref to x\n",
    "print(id(x),id(y),sep='\\n')\n",
    "print(x,y,sep='\\n')"
   ]
  },
  {
   "cell_type": "markdown",
   "metadata": {},
   "source": [
    "## frozen sets\n",
    "Python provides another built-in type called a frozenset, which is in all respects exactly like a set, except that a frozenset is immutable. You can perform non-modifying operations on a frozenset"
   ]
  },
  {
   "cell_type": "code",
   "execution_count": 142,
   "metadata": {},
   "outputs": [
    {
     "data": {
      "text/plain": [
       "frozenset({1, 2, 3, 4})"
      ]
     },
     "execution_count": 142,
     "metadata": {},
     "output_type": "execute_result"
    }
   ],
   "source": [
    "x = frozenset([1,2,3,4])\n",
    "x"
   ]
  },
  {
   "cell_type": "code",
   "execution_count": 143,
   "metadata": {},
   "outputs": [
    {
     "ename": "AttributeError",
     "evalue": "'frozenset' object has no attribute 'add'",
     "output_type": "error",
     "traceback": [
      "\u001b[0;31m---------------------------------------------------------------------------\u001b[0m",
      "\u001b[0;31mAttributeError\u001b[0m                            Traceback (most recent call last)",
      "Cell \u001b[0;32mIn[143], line 1\u001b[0m\n\u001b[0;32m----> 1\u001b[0m x\u001b[39m.\u001b[39;49madd(\u001b[39m5\u001b[39m)\n",
      "\u001b[0;31mAttributeError\u001b[0m: 'frozenset' object has no attribute 'add'"
     ]
    }
   ],
   "source": [
    "x.add(5)  ## we cannot modify frozenset as it is immutable"
   ]
  },
  {
   "cell_type": "code",
   "execution_count": 144,
   "metadata": {},
   "outputs": [
    {
     "ename": "AttributeError",
     "evalue": "'frozenset' object has no attribute 'clear'",
     "output_type": "error",
     "traceback": [
      "\u001b[0;31m---------------------------------------------------------------------------\u001b[0m",
      "\u001b[0;31mAttributeError\u001b[0m                            Traceback (most recent call last)",
      "Cell \u001b[0;32mIn[144], line 1\u001b[0m\n\u001b[0;32m----> 1\u001b[0m x\u001b[39m.\u001b[39;49mclear()\n",
      "\u001b[0;31mAttributeError\u001b[0m: 'frozenset' object has no attribute 'clear'"
     ]
    }
   ],
   "source": [
    "x.clear()"
   ]
  },
  {
   "cell_type": "code",
   "execution_count": 149,
   "metadata": {},
   "outputs": [
    {
     "name": "stdout",
     "output_type": "stream",
     "text": [
      "frozenset({3})\n",
      "frozenset({1, 2, 3, 4, 'l', 'h', 'o', 'e'})\n"
     ]
    },
    {
     "ename": "AttributeError",
     "evalue": "'frozenset' object has no attribute 'update'",
     "output_type": "error",
     "traceback": [
      "\u001b[0;31m---------------------------------------------------------------------------\u001b[0m",
      "\u001b[0;31mAttributeError\u001b[0m                            Traceback (most recent call last)",
      "Cell \u001b[0;32mIn[149], line 4\u001b[0m\n\u001b[1;32m      2\u001b[0m \u001b[39mprint\u001b[39m(x\u001b[39m.\u001b[39mintersection([\u001b[39m3\u001b[39m]))\n\u001b[1;32m      3\u001b[0m \u001b[39mprint\u001b[39m(x\u001b[39m.\u001b[39munion(\u001b[39m'\u001b[39m\u001b[39mhello\u001b[39m\u001b[39m'\u001b[39m))\n\u001b[0;32m----> 4\u001b[0m \u001b[39mprint\u001b[39m(x\u001b[39m.\u001b[39;49mupdate(\u001b[39m'\u001b[39m\u001b[39mhi\u001b[39m\u001b[39m'\u001b[39m))\n",
      "\u001b[0;31mAttributeError\u001b[0m: 'frozenset' object has no attribute 'update'"
     ]
    }
   ],
   "source": [
    "# we can perform normal set operations on frozenset\n",
    "print(x.intersection([3]))\n",
    "print(x.union('hello'))\n",
    "print(x.update('hi'))"
   ]
  },
  {
   "cell_type": "code",
   "execution_count": 154,
   "metadata": {},
   "outputs": [
    {
     "ename": "SyntaxError",
     "evalue": "invalid syntax (1124573133.py, line 5)",
     "output_type": "error",
     "traceback": [
      "\u001b[0;36m  Cell \u001b[0;32mIn[154], line 5\u001b[0;36m\u001b[0m\n\u001b[0;31m    s2={frozenset{1,2,3}}\u001b[0m\n\u001b[0m                 ^\u001b[0m\n\u001b[0;31mSyntaxError\u001b[0m\u001b[0;31m:\u001b[0m invalid syntax\n"
     ]
    }
   ],
   "source": [
    "s = {frozenset({1,2,3})}\n",
    "print(s,type(s))\n",
    "s1 = set([frozenset('hello')])\n",
    "print(s1,type(s1))"
   ]
  },
  {
   "cell_type": "code",
   "execution_count": 160,
   "metadata": {},
   "outputs": [
    {
     "name": "stdout",
     "output_type": "stream",
     "text": [
      "4631538816\n",
      "4631538816\n",
      "frozenset({1})\n",
      "frozenset({1})\n",
      "\n",
      "4631538144\n",
      "4631538816\n",
      "frozenset({1, 3})\n",
      "frozenset({1})\n",
      "\n",
      "4631538816\n",
      "4631537696\n",
      "frozenset({1, 3})\n",
      "frozenset({1})\n"
     ]
    }
   ],
   "source": [
    "###aumented assignment works differently in case of frozen set  so x|= {1} here means x = x | {1}\n",
    "\n",
    "x = frozenset({1})\n",
    "y = x \n",
    "print(id(x),id(y),sep='\\n')\n",
    "print(x,y,sep='\\n')\n",
    "print()\n",
    "\n",
    "x |= {3}\n",
    "print(id(x),id(y),sep='\\n')\n",
    "print(x,y,sep='\\n')\n",
    "print()\n",
    "\n",
    "x = frozenset({1})\n",
    "y = x \n",
    "x = x | {3}\n",
    "print(id(x),id(y),sep='\\n')\n",
    "print(x,y,sep='\\n')\n"
   ]
  },
  {
   "cell_type": "code",
   "execution_count": 166,
   "metadata": {},
   "outputs": [],
   "source": [
    "### sets are very fast \n",
    "\n",
    "def init_sets():\n",
    "    s = set()\n",
    "    for i in range(1000):\n",
    "        s.add(i)\n",
    "    return s\n",
    "\n",
    "def init_list():\n",
    "    lst = list()\n",
    "    for i in range(1000):\n",
    "        lst.append(i)\n",
    "    return lst\n",
    "\n",
    "def init_tuple():\n",
    "    tup = tuple()\n",
    "    for i in range(1000):\n",
    "        tup += (i,)\n",
    "    return tup\n"
   ]
  },
  {
   "cell_type": "code",
   "execution_count": 167,
   "metadata": {},
   "outputs": [
    {
     "name": "stdout",
     "output_type": "stream",
     "text": [
      "33.6 µs ± 229 ns per loop (mean ± std. dev. of 7 runs, 10,000 loops each)\n"
     ]
    }
   ],
   "source": [
    "%timeit init_sets()"
   ]
  },
  {
   "cell_type": "code",
   "execution_count": 171,
   "metadata": {},
   "outputs": [
    {
     "name": "stdout",
     "output_type": "stream",
     "text": [
      "32.5 µs ± 92.1 ns per loop (mean ± std. dev. of 7 runs, 10,000 loops each)\n"
     ]
    }
   ],
   "source": [
    "%timeit init_list()"
   ]
  },
  {
   "cell_type": "code",
   "execution_count": 174,
   "metadata": {},
   "outputs": [
    {
     "name": "stdout",
     "output_type": "stream",
     "text": [
      "542 µs ± 656 ns per loop (mean ± std. dev. of 7 runs, 1,000 loops each)\n"
     ]
    }
   ],
   "source": [
    "%timeit init_tuple()"
   ]
  },
  {
   "cell_type": "code",
   "execution_count": 183,
   "metadata": {},
   "outputs": [],
   "source": [
    "s= init_sets()\n",
    "lst = init_list()\n",
    "tup = init_tuple()"
   ]
  },
  {
   "cell_type": "code",
   "execution_count": 184,
   "metadata": {},
   "outputs": [],
   "source": [
    "def membership_set():\n",
    "    for i in range(1000):\n",
    "        i in s\n",
    "\n",
    "def membership_list():\n",
    "    for i in range(1000):\n",
    "        i in lst\n",
    "\n",
    "def membership_tuples():\n",
    "    for i in range(1000):\n",
    "        i in tup"
   ]
  },
  {
   "cell_type": "code",
   "execution_count": 185,
   "metadata": {},
   "outputs": [
    {
     "name": "stdout",
     "output_type": "stream",
     "text": [
      "50.7 µs ± 748 ns per loop (mean ± std. dev. of 7 runs, 10,000 loops each)\n"
     ]
    }
   ],
   "source": [
    "%timeit membership_set()"
   ]
  },
  {
   "cell_type": "code",
   "execution_count": 186,
   "metadata": {},
   "outputs": [
    {
     "name": "stdout",
     "output_type": "stream",
     "text": [
      "3.13 ms ± 3.52 µs per loop (mean ± std. dev. of 7 runs, 100 loops each)\n"
     ]
    }
   ],
   "source": [
    "%timeit membership_list()"
   ]
  },
  {
   "cell_type": "code",
   "execution_count": 187,
   "metadata": {},
   "outputs": [
    {
     "name": "stdout",
     "output_type": "stream",
     "text": [
      "3.09 ms ± 12.6 µs per loop (mean ± std. dev. of 7 runs, 100 loops each)\n"
     ]
    }
   ],
   "source": [
    "%timeit membership_tuples()"
   ]
  },
  {
   "attachments": {},
   "cell_type": "markdown",
   "metadata": {},
   "source": [
    "so from above we saw that membership check in sets works very fast than other data structures like list and tuple"
   ]
  }
 ],
 "metadata": {
  "kernelspec": {
   "display_name": "Python 3",
   "language": "python",
   "name": "python3"
  },
  "language_info": {
   "codemirror_mode": {
    "name": "ipython",
    "version": 3
   },
   "file_extension": ".py",
   "mimetype": "text/x-python",
   "name": "python",
   "nbconvert_exporter": "python",
   "pygments_lexer": "ipython3",
   "version": "3.9.6"
  },
  "orig_nbformat": 4,
  "vscode": {
   "interpreter": {
    "hash": "31f2aee4e71d21fbe5cf8b01ff0e069b9275f58929596ceb00d14d90e3e16cd6"
   }
  }
 },
 "nbformat": 4,
 "nbformat_minor": 2
}
