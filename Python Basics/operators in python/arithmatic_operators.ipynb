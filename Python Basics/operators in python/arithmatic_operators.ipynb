{
 "cells": [
  {
   "attachments": {},
   "cell_type": "markdown",
   "metadata": {},
   "source": [
    "#### In Python, operators are special symbols that designate that some sort of computation should be performed. The values that an operator acts on are called operands.\n"
   ]
  },
  {
   "cell_type": "code",
   "execution_count": 1,
   "metadata": {},
   "outputs": [
    {
     "name": "stdout",
     "output_type": "stream",
     "text": [
      "11\n"
     ]
    }
   ],
   "source": [
    "a = 9\n",
    "b = 2\n",
    "print(a+b)  # here a and b are operands and \"+\" is operator"
   ]
  },
  {
   "attachments": {},
   "cell_type": "markdown",
   "metadata": {},
   "source": [
    "## An operand can be either a literal value or a variable that references an object:\n",
    "\n",
    "| Operator   | Example | Meaning                                       | Result                                                                                                                      |\n",
    "|------------|---------|-----------------------------------------------|-----------------------------------------------------------------------------------------------------------------------------|\n",
    "| + (unary)  | +a      | Unary Positive                                | a                                                                                                                           |\n",
    "|            |         |                                               | In other words, it doesn’t really do anything. It mostly exists for the sake of completeness, to complement Unary Negation. |\n",
    "| + (binary) | a + b   | Addition                                      | Sum of a and b                                                                                                              |\n",
    "| - (unary)  | -a      | Unary Negation                                | Value equal to a but opposite in sign                                                                                       |\n",
    "| - (binary) | a - b   | Subtraction                                   | b subtracted from a                                                                                                         |\n",
    "| *          | a * b   | Multiplication                                | Product of a and b                                                                                                          |\n",
    "| /          | a / b   | Division                                      | Quotient when a is divided by b.                                                                                            |\n",
    "|            |         |                                               | The result always has type float.                                                                                           |\n",
    "| %          | a % b   | Modulo                                        | Remainder when a is divided by b                                                                                            |\n",
    "| //         | a // b  | Floor Division (also called Integer Division) | Quotient when a is divided by b, rounded to the next smallest whole number                                                  |\n",
    "| **         | a ** b  | Exponentiation                                | a raised to the power of b                                                                                                  |"
   ]
  },
  {
   "cell_type": "code",
   "execution_count": 2,
   "metadata": {},
   "outputs": [
    {
     "name": "stdout",
     "output_type": "stream",
     "text": [
      "+(unary) 9\n",
      "+(binary) 11\n",
      "-(unary) -9\n",
      "-(binary) 7\n",
      "multiplication 18\n",
      "division 4.5\n",
      "modulo 1\n",
      "floor division 4\n",
      "exponentiation 81\n"
     ]
    }
   ],
   "source": [
    "print('+(unary)',+a)\n",
    "print('+(binary)',a+b)\n",
    "print('-(unary)',-a)\n",
    "print('-(binary)',a-b)\n",
    "print('multiplication',a*b)\n",
    "print('division',a/b)\n",
    "print('modulo',a%b)\n",
    "print('floor division',a//b)\n",
    "print('exponentiation',a**2)"
   ]
  },
  {
   "attachments": {},
   "cell_type": "markdown",
   "metadata": {},
   "source": [
    "#### The result of standard division (/) is always a float, even if the dividend is evenly divisible by the divisor:"
   ]
  },
  {
   "cell_type": "code",
   "execution_count": 3,
   "metadata": {},
   "outputs": [
    {
     "name": "stdout",
     "output_type": "stream",
     "text": [
      "2.0\n",
      "<class 'float'>\n"
     ]
    }
   ],
   "source": [
    "print(8/4)\n",
    "print(type(8/4))"
   ]
  },
  {
   "attachments": {},
   "cell_type": "markdown",
   "metadata": {},
   "source": [
    "#### When the result of floor division (//) is positive, it is as though the fractional portion is truncated off, leaving only the integer portion. \n",
    "#### When the result is negative, the result is rounded down to the next smallest (greater negative) integer:\n",
    "\n",
    "\n"
   ]
  },
  {
   "cell_type": "code",
   "execution_count": 4,
   "metadata": {},
   "outputs": [
    {
     "name": "stdout",
     "output_type": "stream",
     "text": [
      "2.5\n",
      "2\n",
      "-3\n",
      "-3\n",
      "2\n"
     ]
    }
   ],
   "source": [
    "print(10/4)\n",
    "print(10//4)\n",
    "print(10//-4)\n",
    "print(-10//4)\n",
    "print(-10//-4)"
   ]
  },
  {
   "attachments": {},
   "cell_type": "markdown",
   "metadata": {},
   "source": [
    "## Comparision Operator\n",
    "\n",
    "| Operator | Example | Meaning                  | Result                                            |\n",
    "|----------|---------|--------------------------|---------------------------------------------------|\n",
    "| ==       | a == b  | Equal to                 | True if the value of a is equal to the value of b |\n",
    "|          |         |                          | False otherwise                                   |\n",
    "| !=       | a != b  | Not equal to             | True if a is not equal to b                       |\n",
    "|          |         |                          | False otherwise                                   |\n",
    "| <        | a < b   | Less than                | True if a is less than b                          |\n",
    "|          |         |                          | False otherwise                                   |\n",
    "| <=       | a <= b  | Less than or equal to    | True if a is less than or equal to b              |\n",
    "|          |         |                          | False otherwise                                   |\n",
    "| >        | a > b   | Greater than             | True if a is greater than b                       |\n",
    "|          |         |                          | False otherwise                                   |\n",
    "| >=       | a >= b  | Greater than or equal to | True if a is greater than or equal to b           |\n",
    "|          |         |                          | False otherwise                                   |"
   ]
  },
  {
   "cell_type": "code",
   "execution_count": 5,
   "metadata": {},
   "outputs": [
    {
     "name": "stdout",
     "output_type": "stream",
     "text": [
      "True\n",
      "False\n",
      "True\n",
      "False\n",
      "True\n",
      "False\n",
      "False\n",
      "True\n"
     ]
    }
   ],
   "source": [
    "print(5==5)\n",
    "print(5!=5)\n",
    "print(3<5)\n",
    "print(5<5)\n",
    "print(5<=5)\n",
    "print(3>5)\n",
    "print(5>5)\n",
    "print(5>=5)"
   ]
  },
  {
   "attachments": {},
   "cell_type": "markdown",
   "metadata": {},
   "source": [
    "#### value stored internally for a float object may not be precisely what you’d think it would be. For that reason, it is poor practice to compare floating-point values for exact equality"
   ]
  },
  {
   "cell_type": "code",
   "execution_count": 6,
   "metadata": {},
   "outputs": [
    {
     "name": "stdout",
     "output_type": "stream",
     "text": [
      "True\n"
     ]
    }
   ],
   "source": [
    "a = 1.1 + 1.1\n",
    "print(a == 2.2)"
   ]
  },
  {
   "attachments": {},
   "cell_type": "markdown",
   "metadata": {},
   "source": [
    "#### the preferred way to determine whether two floating-point values are “equal” is to compute whether they are close to one another, given some tolerance"
   ]
  },
  {
   "cell_type": "code",
   "execution_count": 7,
   "metadata": {},
   "outputs": [
    {
     "name": "stdout",
     "output_type": "stream",
     "text": [
      "True\n"
     ]
    }
   ],
   "source": [
    "tolerance = 0.000001\n",
    "x = 1.1+2.2\n",
    "print(abs(x-3.3)<tolerance)"
   ]
  },
  {
   "cell_type": "code",
   "execution_count": null,
   "metadata": {},
   "outputs": [],
   "source": []
  },
  {
   "cell_type": "code",
   "execution_count": null,
   "metadata": {},
   "outputs": [],
   "source": []
  },
  {
   "cell_type": "code",
   "execution_count": null,
   "metadata": {},
   "outputs": [],
   "source": []
  }
 ],
 "metadata": {
  "kernelspec": {
   "display_name": "Python 3",
   "language": "python",
   "name": "python3"
  },
  "language_info": {
   "codemirror_mode": {
    "name": "ipython",
    "version": 3
   },
   "file_extension": ".py",
   "mimetype": "text/x-python",
   "name": "python",
   "nbconvert_exporter": "python",
   "pygments_lexer": "ipython3",
   "version": "3.9.6"
  },
  "orig_nbformat": 4,
  "vscode": {
   "interpreter": {
    "hash": "31f2aee4e71d21fbe5cf8b01ff0e069b9275f58929596ceb00d14d90e3e16cd6"
   }
  }
 },
 "nbformat": 4,
 "nbformat_minor": 2
}
