{
 "cells": [
  {
   "attachments": {},
   "cell_type": "markdown",
   "metadata": {},
   "source": [
    "### Bitwise operators treat operands as sequences of binary digits and operate on them bit by bit. The following operators are supported:\n",
    "\n",
    "| Operator | Example | Meaning                    | Result                                                                                                                                                                               |\n",
    "|----------|---------|----------------------------|--------------------------------------------------------------------------------------------------------------------------------------------------------------------------------------|\n",
    "| &        | a & b   | bitwise AND                | Each bit position in the result is the logical AND of the bits in the corresponding position of the operands. (1 if both are 1, otherwise 0.)                                        |\n",
    "| \\|        | a \\| b   | bitwise OR                 | Each bit position in the result is the logical OR of the bits in the corresponding position of the operands. (1 if either is 1, otherwise 0.)                                        |\n",
    "| ~        | ~a      | bitwise negation           | Each bit position in the result is the logical negation of the bit in the corresponding position of the operand. (1 if 0, 0 if 1.)                                                   |\n",
    "| ^        | a ^ b   | bitwise XOR (exclusive OR) | Each bit position in the result is the logical XOR of the bits in the corresponding position of the operands. (1 if the bits in the operands are different, 0 if they are the same.) |\n",
    "| >>       | a >> n  | Shift right n places       | Each bit is shifted right n places.                                                                                                                                                  |\n",
    "| <<       | a << n  | Shift left n places        | Each bit is shifted left n places.                                                                                                                                                   |"
   ]
  },
  {
   "cell_type": "code",
   "execution_count": 8,
   "metadata": {},
   "outputs": [
    {
     "name": "stdout",
     "output_type": "stream",
     "text": [
      "0b000100\n",
      "0b001110\n",
      "0b001010\n",
      "0b000011\n",
      "0b110000\n"
     ]
    }
   ],
   "source": [
    "a,b=0b1100,0b0110\n",
    "\n",
    "print(\"0b{:06b}\".format(a & b))\n",
    "print(\"0b{:06b}\".format(a | b))\n",
    "print(\"0b{:06b}\".format(a ^ b))\n",
    "print(\"0b{:06b}\".format(a >> 2))\n",
    "print(\"0b{:06b}\".format(a << 2))\n"
   ]
  },
  {
   "attachments": {},
   "cell_type": "markdown",
   "metadata": {},
   "source": [
    "### Identity Operator\n",
    "\n",
    "Python provides two operators, is and is not, that determine whether the given operands have the same identity—that is, refer to the same object. This is not the same thing as equality, which means the two operands refer to objects that contain the same data but are not necessarily the same object."
   ]
  },
  {
   "cell_type": "code",
   "execution_count": 19,
   "metadata": {},
   "outputs": [
    {
     "name": "stdout",
     "output_type": "stream",
     "text": [
      "4409651600 4409652176\n",
      "True\n",
      "False\n"
     ]
    }
   ],
   "source": [
    "a  = 1000 \n",
    "b  = 1000\n",
    "print(id(a), id(b))\n",
    "print(a == b)  ### checing quality\n",
    "print(a is b)   ### checking if two objects are identical"
   ]
  },
  {
   "cell_type": "code",
   "execution_count": 17,
   "metadata": {},
   "outputs": [
    {
     "name": "stdout",
     "output_type": "stream",
     "text": [
      "4363102576 4363102576\n",
      "True\n",
      "\n",
      "4363102608 4363102576\n",
      "False\n"
     ]
    }
   ],
   "source": [
    "a = b = 255  ### small integer caching results in two different integer object having value between -5 to 255 points to same object\n",
    "print(id(a), id(b))\n",
    "print(a is b)\n",
    "a += 1 \n",
    "print()\n",
    "print(id(a), id(b))\n",
    "print(a is b)"
   ]
  },
  {
   "cell_type": "code",
   "execution_count": 21,
   "metadata": {},
   "outputs": [
    {
     "name": "stdout",
     "output_type": "stream",
     "text": [
      "True\n",
      "True\n",
      "True\n"
     ]
    },
    {
     "name": "stderr",
     "output_type": "stream",
     "text": [
      "<>:2: SyntaxWarning: \"is\" with a literal. Did you mean \"==\"?\n",
      "<>:2: SyntaxWarning: \"is\" with a literal. Did you mean \"==\"?\n",
      "/var/folders/3j/5z383bxd6hb8d2l3hqb8sm200000gn/T/ipykernel_6472/4168934145.py:2: SyntaxWarning: \"is\" with a literal. Did you mean \"==\"?\n",
      "  print (\"alex\" is name)\n"
     ]
    }
   ],
   "source": [
    "name = \"alex\"\n",
    "print (\"alex\" is name)\n",
    "newName = name\n",
    "print(name == newName)\n",
    "print(name is newName)"
   ]
  },
  {
   "cell_type": "code",
   "execution_count": 22,
   "metadata": {},
   "outputs": [
    {
     "data": {
      "text/plain": [
       "60"
      ]
     },
     "execution_count": 22,
     "metadata": {},
     "output_type": "execute_result"
    }
   ],
   "source": [
    "20+ 4 * 10"
   ]
  },
  {
   "cell_type": "code",
   "execution_count": null,
   "metadata": {},
   "outputs": [],
   "source": []
  }
 ],
 "metadata": {
  "kernelspec": {
   "display_name": "Python 3",
   "language": "python",
   "name": "python3"
  },
  "language_info": {
   "codemirror_mode": {
    "name": "ipython",
    "version": 3
   },
   "file_extension": ".py",
   "mimetype": "text/x-python",
   "name": "python",
   "nbconvert_exporter": "python",
   "pygments_lexer": "ipython3",
   "version": "3.9.6"
  },
  "orig_nbformat": 4,
  "vscode": {
   "interpreter": {
    "hash": "31f2aee4e71d21fbe5cf8b01ff0e069b9275f58929596ceb00d14d90e3e16cd6"
   }
  }
 },
 "nbformat": 4,
 "nbformat_minor": 2
}
