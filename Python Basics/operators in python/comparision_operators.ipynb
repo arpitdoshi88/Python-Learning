{
 "cells": [
  {
   "attachments": {},
   "cell_type": "markdown",
   "metadata": {},
   "source": [
    "## Comparision Operator\n",
    "\n",
    "| Operator | Example | Meaning                  | Result                                            |\n",
    "|----------|---------|--------------------------|---------------------------------------------------|\n",
    "| ==       | a == b  | Equal to                 | True if the value of a is equal to the value of b |\n",
    "|          |         |                          | False otherwise                                   |\n",
    "| !=       | a != b  | Not equal to             | True if a is not equal to b                       |\n",
    "|          |         |                          | False otherwise                                   |\n",
    "| <        | a < b   | Less than                | True if a is less than b                          |\n",
    "|          |         |                          | False otherwise                                   |\n",
    "| <=       | a <= b  | Less than or equal to    | True if a is less than or equal to b              |\n",
    "|          |         |                          | False otherwise                                   |\n",
    "| >        | a > b   | Greater than             | True if a is greater than b                       |\n",
    "|          |         |                          | False otherwise                                   |\n",
    "| >=       | a >= b  | Greater than or equal to | True if a is greater than or equal to b           |\n",
    "|          |         |                          | False otherwise                                   |"
   ]
  },
  {
   "cell_type": "code",
   "execution_count": 5,
   "metadata": {},
   "outputs": [
    {
     "name": "stdout",
     "output_type": "stream",
     "text": [
      "True\n",
      "False\n",
      "True\n",
      "False\n",
      "True\n",
      "False\n",
      "False\n",
      "True\n"
     ]
    }
   ],
   "source": [
    "print(5==5)\n",
    "print(5!=5)\n",
    "print(3<5)\n",
    "print(5<5)\n",
    "print(5<=5)\n",
    "print(3>5)\n",
    "print(5>5)\n",
    "print(5>=5)"
   ]
  },
  {
   "attachments": {},
   "cell_type": "markdown",
   "metadata": {},
   "source": [
    "#### value stored internally for a float object may not be precisely what you’d think it would be. For that reason, it is poor practice to compare floating-point values for exact equality"
   ]
  },
  {
   "cell_type": "code",
   "execution_count": 6,
   "metadata": {},
   "outputs": [
    {
     "name": "stdout",
     "output_type": "stream",
     "text": [
      "True\n"
     ]
    }
   ],
   "source": [
    "a = 1.1 + 1.1\n",
    "print(a == 2.2)"
   ]
  },
  {
   "attachments": {},
   "cell_type": "markdown",
   "metadata": {},
   "source": [
    "#### the preferred way to determine whether two floating-point values are “equal” is to compute whether they are close to one another, given some tolerance"
   ]
  },
  {
   "cell_type": "code",
   "execution_count": 7,
   "metadata": {},
   "outputs": [
    {
     "name": "stdout",
     "output_type": "stream",
     "text": [
      "True\n"
     ]
    }
   ],
   "source": [
    "tolerance = 0.000001\n",
    "x = 1.1+2.2\n",
    "print(abs(x-3.3)<tolerance)"
   ]
  }
 ],
 "metadata": {
  "kernelspec": {
   "display_name": "Python 3",
   "language": "python",
   "name": "python3"
  },
  "language_info": {
   "codemirror_mode": {
    "name": "ipython",
    "version": 3
   },
   "file_extension": ".py",
   "mimetype": "text/x-python",
   "name": "python",
   "nbconvert_exporter": "python",
   "pygments_lexer": "ipython3",
   "version": "3.9.6 (default, Sep 26 2022, 11:37:49) \n[Clang 14.0.0 (clang-1400.0.29.202)]"
  },
  "orig_nbformat": 4,
  "vscode": {
   "interpreter": {
    "hash": "31f2aee4e71d21fbe5cf8b01ff0e069b9275f58929596ceb00d14d90e3e16cd6"
   }
  }
 },
 "nbformat": 4,
 "nbformat_minor": 2
}
