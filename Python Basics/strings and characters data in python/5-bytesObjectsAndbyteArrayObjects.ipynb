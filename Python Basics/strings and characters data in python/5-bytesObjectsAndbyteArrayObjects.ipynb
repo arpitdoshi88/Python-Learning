{
 "cells": [
  {
   "attachments": {},
   "cell_type": "markdown",
   "metadata": {},
   "source": [
    "## Bytes Objects\n",
    "\n",
    "The bytes object is one of the core built-in types for manipulating binary data. A bytes object is an immutable sequence of single byte values. Each element in a bytes object is a small integer in the range 0 to 255"
   ]
  },
  {
   "cell_type": "code",
   "execution_count": 7,
   "metadata": {},
   "outputs": [
    {
     "name": "stdout",
     "output_type": "stream",
     "text": [
      "<class 'bytes'>\n",
      "b'spam ham bam'\n",
      "12\n",
      "115\n",
      "s\n"
     ]
    }
   ],
   "source": [
    "b  = b'spam ham bam'\n",
    "print(type(b))\n",
    "print(b)\n",
    "print(len(b))\n",
    "print(b[0]) # each element in byte object must be in the range of 0 to 255\n",
    "print(chr(b[0]))"
   ]
  },
  {
   "cell_type": "code",
   "execution_count": 8,
   "metadata": {},
   "outputs": [
    {
     "name": "stdout",
     "output_type": "stream",
     "text": [
      "Ā\n"
     ]
    }
   ],
   "source": [
    "print(chr(256))"
   ]
  },
  {
   "cell_type": "code",
   "execution_count": 9,
   "metadata": {},
   "outputs": [
    {
     "ename": "SyntaxError",
     "evalue": "bytes can only contain ASCII literal characters. (214708748.py, line 1)",
     "output_type": "error",
     "traceback": [
      "\u001b[0;36m  Cell \u001b[0;32mIn[9], line 1\u001b[0;36m\u001b[0m\n\u001b[0;31m    a =b'this is Ā char' #value of an element in byte object should not be greater than 255\u001b[0m\n\u001b[0m                         ^\u001b[0m\n\u001b[0;31mSyntaxError\u001b[0m\u001b[0;31m:\u001b[0m bytes can only contain ASCII literal characters.\n"
     ]
    }
   ],
   "source": [
    "a =b'this is Ā char' #value of an element in byte object should not be greater than 255\n",
    "print(a)"
   ]
  },
  {
   "cell_type": "code",
   "execution_count": 10,
   "metadata": {},
   "outputs": [
    {
     "name": "stdout",
     "output_type": "stream",
     "text": [
      "<class 'bytes'> -> b\"this string has 'single' quotes\"\n",
      "<class 'bytes'> -> b'this string has \"double\" quotes'\n",
      "<class 'bytes'> -> b'this string has \\'single\\' as well as \"double\" quotes'\n",
      "\n"
     ]
    }
   ],
   "source": [
    "a = b\"this string has 'single' quotes\"\n",
    "print(type(a),'->',a)\n",
    "b=b'this string has \"double\" quotes'\n",
    "print(type(b),'->',b)\n",
    "c=b'''this string has 'single' as well as \"double\" quotes'''\n",
    "print(type(c),'->',c)\n",
    "print()"
   ]
  },
  {
   "cell_type": "code",
   "execution_count": 29,
   "metadata": {},
   "outputs": [
    {
     "data": {
      "text/plain": [
       "'\\x7f'"
      ]
     },
     "execution_count": 29,
     "metadata": {},
     "output_type": "execute_result"
    }
   ],
   "source": [
    "chr(127)"
   ]
  },
  {
   "cell_type": "code",
   "execution_count": 11,
   "metadata": {},
   "outputs": [
    {
     "name": "stdout",
     "output_type": "stream",
     "text": [
      "b'spam\\x7fegg'\n"
     ]
    }
   ],
   "source": [
    "bo = b'spam\\x7fegg'  ##Only ASCII characters are allowed in a bytes literal. Any character value greater than 127 must be specified using an appropriate escape sequence\n",
    "print(bo)"
   ]
  },
  {
   "cell_type": "code",
   "execution_count": 13,
   "metadata": {},
   "outputs": [
    {
     "name": "stdout",
     "output_type": "stream",
     "text": [
      "8\n",
      "127\n",
      "101\n",
      "103\n",
      "103\n"
     ]
    }
   ],
   "source": [
    "print(len(bo))\n",
    "print(bo[4])\n",
    "print(bo[5])\n",
    "print(bo[6])\n",
    "print(bo[7])\n"
   ]
  },
  {
   "cell_type": "code",
   "execution_count": 14,
   "metadata": {},
   "outputs": [
    {
     "name": "stdout",
     "output_type": "stream",
     "text": [
      "b'spam\\\\x7fegg'\n",
      "11\n",
      "92\n",
      "120\n",
      "102\n"
     ]
    }
   ],
   "source": [
    "#The 'r' prefix may be used on a bytes literal to disable processing of escape sequences, as with strings\n",
    "bo = rb'spam\\x7fegg'  ##Only ASCII characters are allowed in a bytes literal. Any character value greater than 127 must be specified using an appropriate escape sequence\n",
    "print(bo)\n",
    "print(len(bo))\n",
    "print(bo[4])\n",
    "print(bo[5])\n",
    "print(bo[7])\n",
    "\n"
   ]
  },
  {
   "attachments": {},
   "cell_type": "markdown",
   "metadata": {},
   "source": [
    "### Defining a bytes Object With the Built-in bytes() Function\n",
    "The bytes() function also creates a bytes object. What sort of bytes object gets returned depends on the argument(s) passed to the function. "
   ]
  },
  {
   "cell_type": "code",
   "execution_count": 15,
   "metadata": {},
   "outputs": [
    {
     "name": "stdout",
     "output_type": "stream",
     "text": [
      "<class 'bytes'>\n",
      "b'this is spam'\n"
     ]
    }
   ],
   "source": [
    "#bytes(<s>,<encoding>)  it converts string <s> to a bytes object, using str.encode() according to the specified <encoding>\n",
    "b = bytes('this is spam','utf-8')\n",
    "print(type(b))\n",
    "print(b)"
   ]
  },
  {
   "cell_type": "code",
   "execution_count": 51,
   "metadata": {},
   "outputs": [
    {
     "name": "stdout",
     "output_type": "stream",
     "text": [
      "<class 'bytes'>\n",
      "10\n",
      "b'\\x00\\x00\\x00\\x00\\x00\\x00\\x00\\x00\\x00\\x00'\n"
     ]
    }
   ],
   "source": [
    "#bytes(<size>)..it defines a bytes object of the specified <size>, which must be a positive integer. The resulting bytes object is initialized to null (0x00) bytes\n",
    "b = bytes(10) \n",
    "print(type(b))\n",
    "print(len(b))\n",
    "print(b)"
   ]
  },
  {
   "cell_type": "code",
   "execution_count": 16,
   "metadata": {},
   "outputs": [
    {
     "name": "stdout",
     "output_type": "stream",
     "text": [
      "b'\\n2\\x1ed\\x7f\\xc8\\xff'\n"
     ]
    }
   ],
   "source": [
    "#bytes(<iterable>) defines a bytes object from the sequence of integers generated by <iterable>. <iterable> must be an iterable that generates a sequence of integers n in the range 0 ≤ n ≤ 255\n",
    "b  = bytes([10,50,30,100,127,200,255])\n",
    "print(b)"
   ]
  },
  {
   "cell_type": "code",
   "execution_count": 17,
   "metadata": {},
   "outputs": [
    {
     "ename": "ValueError",
     "evalue": "bytes must be in range(0, 256)",
     "output_type": "error",
     "traceback": [
      "\u001b[0;31m---------------------------------------------------------------------------\u001b[0m",
      "\u001b[0;31mValueError\u001b[0m                                Traceback (most recent call last)",
      "Cell \u001b[0;32mIn[17], line 1\u001b[0m\n\u001b[0;32m----> 1\u001b[0m b  \u001b[39m=\u001b[39m \u001b[39mbytes\u001b[39;49m([\u001b[39m10\u001b[39;49m,\u001b[39m50\u001b[39;49m,\u001b[39m30\u001b[39;49m,\u001b[39m100\u001b[39;49m,\u001b[39m127\u001b[39;49m,\u001b[39m200\u001b[39;49m,\u001b[39m256\u001b[39;49m])\n\u001b[1;32m      2\u001b[0m \u001b[39mprint\u001b[39m(b)\n",
      "\u001b[0;31mValueError\u001b[0m: bytes must be in range(0, 256)"
     ]
    }
   ],
   "source": [
    "b  = bytes([10,50,30,100,127,200,256])\n",
    "print(b)"
   ]
  },
  {
   "attachments": {},
   "cell_type": "markdown",
   "metadata": {},
   "source": [
    "### operations in bytes object"
   ]
  },
  {
   "cell_type": "code",
   "execution_count": 18,
   "metadata": {},
   "outputs": [
    {
     "name": "stdout",
     "output_type": "stream",
     "text": [
      "True\n",
      "False\n"
     ]
    }
   ],
   "source": [
    "bo = b'abcde'\n",
    "print(b'd' in bo)\n",
    "print(b'foo' in bo)"
   ]
  },
  {
   "cell_type": "code",
   "execution_count": 58,
   "metadata": {},
   "outputs": [
    {
     "name": "stdout",
     "output_type": "stream",
     "text": [
      "b'abcdefgh'\n"
     ]
    }
   ],
   "source": [
    "bo = bo + b'fgh'\n",
    "print(bo)"
   ]
  },
  {
   "cell_type": "code",
   "execution_count": 19,
   "metadata": {},
   "outputs": [
    {
     "name": "stdout",
     "output_type": "stream",
     "text": [
      "b'abcde'\n",
      "b'abcde'\n",
      "b'edcba'\n",
      "101 97\n"
     ]
    }
   ],
   "source": [
    "print(bo[0:len(bo)])\n",
    "print(bo[-5:len(bo)])\n",
    "print(bo[::-1])\n",
    "print(max(bo),min(bo))\n",
    "\n"
   ]
  },
  {
   "cell_type": "code",
   "execution_count": 20,
   "metadata": {},
   "outputs": [
    {
     "name": "stdout",
     "output_type": "stream",
     "text": [
      "3\n",
      "False\n",
      "b'Foo,bar,foo,baz,foo,qux'\n",
      "[b'foo', b'bar', b'foo', b'baz', b'foo', b'qux']\n"
     ]
    }
   ],
   "source": [
    "b = b'foo,bar,foo,baz,foo,qux'\n",
    "print(b.count(b'foo'))\n",
    "print(b.startswith(b'bar'))\n",
    "print(b.capitalize())\n",
    "print(b.split(b','))"
   ]
  },
  {
   "cell_type": "code",
   "execution_count": 21,
   "metadata": {},
   "outputs": [
    {
     "ename": "TypeError",
     "evalue": "can't concat str to bytes",
     "output_type": "error",
     "traceback": [
      "\u001b[0;31m---------------------------------------------------------------------------\u001b[0m",
      "\u001b[0;31mTypeError\u001b[0m                                 Traceback (most recent call last)",
      "Cell \u001b[0;32mIn[21], line 2\u001b[0m\n\u001b[1;32m      1\u001b[0m \u001b[39m#when these operators and methods are invoked on a bytes object, the operand and arguments must be bytes objects as well\u001b[39;00m\n\u001b[0;32m----> 2\u001b[0m bo \u001b[39m=\u001b[39m bo \u001b[39m+\u001b[39;49m\u001b[39m'\u001b[39;49m\u001b[39mxyz\u001b[39;49m\u001b[39m'\u001b[39;49m\n",
      "\u001b[0;31mTypeError\u001b[0m: can't concat str to bytes"
     ]
    }
   ],
   "source": [
    "#when these operators and methods are invoked on a bytes object, the operand and arguments must be bytes objects as well\n",
    "bo = bo +'xyz'"
   ]
  },
  {
   "cell_type": "code",
   "execution_count": 22,
   "metadata": {},
   "outputs": [
    {
     "name": "stdout",
     "output_type": "stream",
     "text": [
      "[97, 98, 99, 100, 101]\n"
     ]
    }
   ],
   "source": [
    "#You can convert a bytes object into a list of integers with the built-in list() function\n",
    "print(list(bo))"
   ]
  },
  {
   "cell_type": "code",
   "execution_count": 23,
   "metadata": {},
   "outputs": [
    {
     "name": "stdout",
     "output_type": "stream",
     "text": [
      "b'\\xaa\\xbb#M\\x15'\n",
      "[170, 187, 35, 77, 21]\n"
     ]
    }
   ],
   "source": [
    "#bytes.fromhex(<s>) # Returns a bytes object constructed from a string of hexadecimal values. This is a class method and derived from the Bytes class\n",
    "\n",
    "b = bytes.fromhex(\"aa bb 234d 15\")\n",
    "print(b)\n",
    "print(list(b))"
   ]
  },
  {
   "cell_type": "code",
   "execution_count": 24,
   "metadata": {},
   "outputs": [
    {
     "data": {
      "text/plain": [
       "'aabb234d15'"
      ]
     },
     "execution_count": 24,
     "metadata": {},
     "output_type": "execute_result"
    }
   ],
   "source": [
    "## b.hex() Returns a string of hexadecimal value from a bytes object.\n",
    "b.hex()"
   ]
  },
  {
   "cell_type": "code",
   "execution_count": 25,
   "metadata": {},
   "outputs": [
    {
     "ename": "TypeError",
     "evalue": "'bytes' object does not support item assignment",
     "output_type": "error",
     "traceback": [
      "\u001b[0;31m---------------------------------------------------------------------------\u001b[0m",
      "\u001b[0;31mTypeError\u001b[0m                                 Traceback (most recent call last)",
      "Cell \u001b[0;32mIn[25], line 3\u001b[0m\n\u001b[1;32m      1\u001b[0m \u001b[39m## Bytes objects are immutable\u001b[39;00m\n\u001b[1;32m      2\u001b[0m b \u001b[39m=\u001b[39m \u001b[39mb\u001b[39m\u001b[39m'\u001b[39m\u001b[39mabcdf\u001b[39m\u001b[39m'\u001b[39m\n\u001b[0;32m----> 3\u001b[0m b[\u001b[39m-\u001b[39;49m\u001b[39m1\u001b[39;49m] \u001b[39m=\u001b[39m \u001b[39mb\u001b[39m\u001b[39m'\u001b[39m\u001b[39me\u001b[39m\u001b[39m'\u001b[39m\n",
      "\u001b[0;31mTypeError\u001b[0m: 'bytes' object does not support item assignment"
     ]
    }
   ],
   "source": [
    "## Bytes objects are immutable\n",
    "b = b'abcdf'\n",
    "b[-1] = b'e'"
   ]
  },
  {
   "attachments": {},
   "cell_type": "markdown",
   "metadata": {},
   "source": [
    "### ByteArray objects\n",
    "\n",
    "Python supports another binary sequence type called the bytearray. bytearray objects are very like bytes objects, despite some differences:"
   ]
  },
  {
   "cell_type": "code",
   "execution_count": 26,
   "metadata": {},
   "outputs": [
    {
     "name": "stdout",
     "output_type": "stream",
     "text": [
      "<class 'bytearray'> bytearray(b'foo bar spam')\n",
      "<class 'bytearray'> bytearray(b'\\x00\\x00\\x00\\x00\\x00\\x00\\x00\\x00\\x00\\x00')\n",
      "<class 'bytearray'> bytearray(b'dfhjl')\n"
     ]
    }
   ],
   "source": [
    "# There is no dedicated syntax built into Python for defining a bytearray literal, like the 'b' prefix that may be used to define a bytes object. \n",
    "# A bytearray object is always created using the bytearray() built-in function:\n",
    "ba = bytearray(\"foo bar spam\",'utf-8')\n",
    "print(type(ba), ba)\n",
    "ba1=bytearray(10)\n",
    "print(type(ba1), ba1)\n",
    "ba2 =bytearray([100, 102, 104, 106, 108])\n",
    "print(type(ba2), ba2)"
   ]
  },
  {
   "cell_type": "code",
   "execution_count": 27,
   "metadata": {},
   "outputs": [
    {
     "name": "stdout",
     "output_type": "stream",
     "text": [
      "bytearray(b'foo bhspam')\n"
     ]
    }
   ],
   "source": [
    "##Bytearray objects are mutable. We can change the elements of Bytearray object once it is created\n",
    "ba[5:8] = b'h'\n",
    "print(ba)"
   ]
  },
  {
   "cell_type": "code",
   "execution_count": 28,
   "metadata": {},
   "outputs": [
    {
     "name": "stdout",
     "output_type": "stream",
     "text": [
      "<class 'bytearray'> bytearray(b'this is spam')\n"
     ]
    }
   ],
   "source": [
    "# A bytearray object may be constructed directly from a bytes object as well:\n",
    "ba4 = bytearray(b'this is spam')\n",
    "print(type(ba4),ba4)\n",
    "\n"
   ]
  },
  {
   "cell_type": "code",
   "execution_count": 30,
   "metadata": {},
   "outputs": [
    {
     "ename": "TypeError",
     "evalue": "can assign only bytes, buffers, or iterables of ints in range(0, 256)",
     "output_type": "error",
     "traceback": [
      "\u001b[0;31m---------------------------------------------------------------------------\u001b[0m",
      "\u001b[0;31mTypeError\u001b[0m                                 Traceback (most recent call last)",
      "Cell \u001b[0;32mIn[30], line 1\u001b[0m\n\u001b[0;32m----> 1\u001b[0m ba4[\u001b[39m4\u001b[39;49m:\u001b[39m6\u001b[39;49m] \u001b[39m=\u001b[39m \u001b[39m'\u001b[39m\u001b[39mABC\u001b[39m\u001b[39m'\u001b[39m\n\u001b[1;32m      2\u001b[0m \u001b[39mprint\u001b[39m(ba4)\n",
      "\u001b[0;31mTypeError\u001b[0m: can assign only bytes, buffers, or iterables of ints in range(0, 256)"
     ]
    }
   ],
   "source": [
    "ba4[4:6] = 'ABC'\n",
    "print(ba4)"
   ]
  }
 ],
 "metadata": {
  "kernelspec": {
   "display_name": "Python 3",
   "language": "python",
   "name": "python3"
  },
  "language_info": {
   "codemirror_mode": {
    "name": "ipython",
    "version": 3
   },
   "file_extension": ".py",
   "mimetype": "text/x-python",
   "name": "python",
   "nbconvert_exporter": "python",
   "pygments_lexer": "ipython3",
   "version": "3.9.12"
  },
  "orig_nbformat": 4,
  "vscode": {
   "interpreter": {
    "hash": "31f2aee4e71d21fbe5cf8b01ff0e069b9275f58929596ceb00d14d90e3e16cd6"
   }
  }
 },
 "nbformat": 4,
 "nbformat_minor": 2
}
