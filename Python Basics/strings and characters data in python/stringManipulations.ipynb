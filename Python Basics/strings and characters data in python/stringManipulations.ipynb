{
 "cells": [
  {
   "attachments": {},
   "cell_type": "markdown",
   "metadata": {},
   "source": [
    "### String Operators \n",
    "\n",
    "1. The \"+\" operator : The + operator concatenates strings. It returns a string consisting of the operands joined together\n",
    "2. The \"*\" operator : The * operator creates multiple copies of a string. I"
   ]
  },
  {
   "cell_type": "code",
   "execution_count": 3,
   "metadata": {},
   "outputs": [
    {
     "name": "stdout",
     "output_type": "stream",
     "text": [
      "This is spam.\n",
      "lot of spam.\n"
     ]
    }
   ],
   "source": [
    "s = 'spam.'\n",
    "print(\"This is \" + s )\n",
    "t = 'lot of '\n",
    "print(t + s)"
   ]
  },
  {
   "cell_type": "code",
   "execution_count": 5,
   "metadata": {},
   "outputs": [
    {
     "name": "stdout",
     "output_type": "stream",
     "text": [
      "spam.spam.spam.spam.spam.\n",
      "spam.spam.spam.spam.spam.\n"
     ]
    }
   ],
   "source": [
    "##If s is a string and n is an integer, either of the following expressions returns a string consisting of n concatenated copies of s \n",
    "n = 5 \n",
    "print(s * n)\n",
    "print(n * s)"
   ]
  },
  {
   "cell_type": "code",
   "execution_count": 7,
   "metadata": {},
   "outputs": [
    {
     "name": "stdout",
     "output_type": "stream",
     "text": [
      "\n",
      "\n"
     ]
    }
   ],
   "source": [
    "## * operaotor with zero or negative number returns empty string\n",
    "print(s * 0)\n",
    "print(s * -5)"
   ]
  },
  {
   "attachments": {},
   "cell_type": "markdown",
   "metadata": {},
   "source": [
    "## The In Operator\n",
    "\n",
    "Python also provides a membership operator that can be used with strings. The in operator returns True if the first operand is contained within the second, and False otherwise.\n"
   ]
  },
  {
   "cell_type": "code",
   "execution_count": 11,
   "metadata": {},
   "outputs": [
    {
     "data": {
      "text/plain": [
       "False"
      ]
     },
     "execution_count": 11,
     "metadata": {},
     "output_type": "execute_result"
    }
   ],
   "source": [
    "s in \"This is a spam email\""
   ]
  },
  {
   "cell_type": "code",
   "execution_count": 12,
   "metadata": {},
   "outputs": [
    {
     "data": {
      "text/plain": [
       "False"
      ]
     },
     "execution_count": 12,
     "metadata": {},
     "output_type": "execute_result"
    }
   ],
   "source": [
    "s in \"This is good for now\""
   ]
  },
  {
   "cell_type": "code",
   "execution_count": 14,
   "metadata": {},
   "outputs": [
    {
     "data": {
      "text/plain": [
       "True"
      ]
     },
     "execution_count": 14,
     "metadata": {},
     "output_type": "execute_result"
    }
   ],
   "source": [
    "###There is not in operator also which works opposite\n",
    "s not in \"This is good for now\""
   ]
  },
  {
   "cell_type": "code",
   "execution_count": 15,
   "metadata": {},
   "outputs": [
    {
     "data": {
      "text/plain": [
       "False"
      ]
     },
     "execution_count": 15,
     "metadata": {},
     "output_type": "execute_result"
    }
   ],
   "source": [
    "\"This is \" not in \"This is good for now\""
   ]
  },
  {
   "attachments": {},
   "cell_type": "markdown",
   "metadata": {},
   "source": [
    "### Few Built in String functions\n",
    "\n",
    "\n",
    "| Function | Description                                  |\n",
    "|----------|----------------------------------------------|\n",
    "| chr()    | Converts an integer to a character           |\n",
    "| ord()    | Converts a character to an integer           |\n",
    "| len()    | Returns the length of a string               |\n",
    "| str()    | Returns a string representation of an object |"
   ]
  },
  {
   "cell_type": "code",
   "execution_count": 27,
   "metadata": {},
   "outputs": [
    {
     "name": "stdout",
     "output_type": "stream",
     "text": [
      "a\n",
      "\u001c\n",
      "ë\n",
      "ㅍ\n"
     ]
    }
   ],
   "source": [
    "print(chr(97))\n",
    "print(chr(28))\n",
    "print(chr(235))\n",
    "print(chr(12621))"
   ]
  },
  {
   "attachments": {},
   "cell_type": "markdown",
   "metadata": {},
   "source": [
    "At the most basic level, computers store all information as numbers. To represent character data, a translation scheme is used which maps each character to its representative number.\n",
    "\n",
    "The simplest scheme in common use is called ASCII. It covers the common Latin characters you are probably most accustomed to working with. For these characters, ord(c) returns the ASCII value for character c:\n",
    "\n",
    "ASCII is fine as far as it goes. But there are many different languages in use in the world and countless symbols and glyphs that appear in digital media. The full set of characters that potentially may need to be represented in computer code far surpasses the ordinary Latin letters, numbers, and symbols you usually see.\n",
    "\n",
    "Unicode is an ambitious standard that attempts to provide a numeric code for every possible character, in every possible language, on every possible platform. Python 3 supports Unicode extensively, including allowing Unicode characters within strings.\n",
    "\n"
   ]
  },
  {
   "cell_type": "code",
   "execution_count": 22,
   "metadata": {},
   "outputs": [
    {
     "name": "stdout",
     "output_type": "stream",
     "text": [
      "97\n",
      "8249\n",
      "163\n"
     ]
    }
   ],
   "source": [
    "print(ord('a'))\n",
    "print(ord('‹'))\n",
    "print(ord('£'))"
   ]
  },
  {
   "cell_type": "code",
   "execution_count": 23,
   "metadata": {},
   "outputs": [
    {
     "data": {
      "text/plain": [
       "16"
      ]
     },
     "execution_count": 23,
     "metadata": {},
     "output_type": "execute_result"
    }
   ],
   "source": [
    "s = 'This is a string'\n",
    "len(s)"
   ]
  },
  {
   "cell_type": "code",
   "execution_count": 25,
   "metadata": {},
   "outputs": [
    {
     "name": "stdout",
     "output_type": "stream",
     "text": [
      "23\n",
      "<class 'str'>\n",
      "3485\n"
     ]
    }
   ],
   "source": [
    "print(str(23))\n",
    "print(type(str(23)))\n",
    "print(str(41*85))"
   ]
  }
 ],
 "metadata": {
  "kernelspec": {
   "display_name": "Python 3",
   "language": "python",
   "name": "python3"
  },
  "language_info": {
   "codemirror_mode": {
    "name": "ipython",
    "version": 3
   },
   "file_extension": ".py",
   "mimetype": "text/x-python",
   "name": "python",
   "nbconvert_exporter": "python",
   "pygments_lexer": "ipython3",
   "version": "3.9.6"
  },
  "orig_nbformat": 4,
  "vscode": {
   "interpreter": {
    "hash": "31f2aee4e71d21fbe5cf8b01ff0e069b9275f58929596ceb00d14d90e3e16cd6"
   }
  }
 },
 "nbformat": 4,
 "nbformat_minor": 2
}
