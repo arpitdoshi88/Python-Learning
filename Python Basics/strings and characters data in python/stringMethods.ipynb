{
 "cells": [
  {
   "attachments": {},
   "cell_type": "markdown",
   "metadata": {},
   "source": [
    "### Case Conversion Methods"
   ]
  },
  {
   "cell_type": "code",
   "execution_count": 1,
   "metadata": {},
   "outputs": [
    {
     "name": "stdout",
     "output_type": "stream",
     "text": [
      "Delhi is the capital of india. india's population is 1.35 billion and it is #2nd largest country in the world\n",
      "delhi is the capital of india. india's population is 1.35 billion and it is #2nd largest country in the world\n",
      "DELHI IS THE CAPITAL OF INDIA. INDIA'S POPULATION IS 1.35 BILLION AND IT IS #2ND LARGEST COUNTRY IN THE WORLD\n",
      "Delhi Is The Capital Of India. India'S Population Is 1.35 Billion And It Is #2Nd Largest Country In The World\n",
      "dELhI IS THE Capital OF iNDIa. india'S POPUlation IS 1.35 BiLLIon AND It IS #2ND largest COUNTRY In The WOrLD\n",
      "\n"
     ]
    }
   ],
   "source": [
    "s= \"DelHi is the cAPITAL of IndiA. INDIA's popuLATION is 1.35 bIlliON and iT is #2nd LARGEST country iN tHE woRld\"\n",
    "print(s.capitalize()) ## returns a copy of s with the first character converted to uppercase and all other characters converted to lowercase\n",
    "print(s.lower()) #Converts alphabetic characters to lowercase.\n",
    "print(s.upper())#Converts alphabetic characters to uppercase.\n",
    "print(s.title()) #returns a copy of s in which the first letter of each word is converted to uppercase and remaining letters are lowercase\n",
    "print(s.swapcase()) # returns a copy of s with uppercase alphabetic characters converted to lowercase and vice versa:\n",
    "print()"
   ]
  },
  {
   "attachments": {},
   "cell_type": "markdown",
   "metadata": {},
   "source": [
    "### Find and Replace\n",
    "\n",
    "These methods provide various means of searching the target string for a specified substring.\n",
    "\n",
    "Each method in this group supports optional `<start>` and `<end>` arguments. These are interpreted as for string slicing: the action of the method is restricted to the portion of the target string starting at character position `<start>` and proceeding up to but not including character position `<end>`. If `<start>` is specified but `<end>` is not, the method applies to the portion of the target string from `<start>` through the end of the string."
   ]
  },
  {
   "cell_type": "code",
   "execution_count": 2,
   "metadata": {},
   "outputs": [
    {
     "name": "stdout",
     "output_type": "stream",
     "text": [
      "spam ham bam spam name game\n"
     ]
    }
   ],
   "source": [
    "s  = \"spam ham bam spam name game\"\n",
    "print(s)"
   ]
  },
  {
   "cell_type": "code",
   "execution_count": 65,
   "metadata": {},
   "outputs": [
    {
     "name": "stdout",
     "output_type": "stream",
     "text": [
      "6\n",
      "0\n",
      "2\n",
      "4\n",
      "3\n",
      "4\n",
      "8\n",
      "0\n"
     ]
    }
   ],
   "source": [
    "print(s.count(\"am\")) # returns the number of non-overlapping occurrences of substring <sub> in s\n",
    "print(s.count('on'))\n",
    "print(s.count(\"am\",0,10)) # returns the number of non-overlapping occurences of substring <sub> in s starting from 0th position upto but not including 10\n",
    "print(s.count('am',10)) #returns the number of non-overlapping occurrences of substring <sub> in s starting from 10th position\n",
    "print(\"ononon\".count('on'))\n",
    "print('abc'.count('')) ## Empty strings exist at both ends of your string, and between each pair of characters within it\n",
    "print(\"abc xyz\".count(''))\n",
    "print('abc'.count(' '))"
   ]
  },
  {
   "cell_type": "code",
   "execution_count": 14,
   "metadata": {},
   "outputs": [
    {
     "name": "stdout",
     "output_type": "stream",
     "text": [
      "True\n",
      "True\n",
      "False\n"
     ]
    }
   ],
   "source": [
    "print(s.endswith(\"ame\")) # returns True if s ends with the specified <suffix> and False otherwise\n",
    "print(s.endswith(\"am\",0,4))\n",
    "print(s.endswith(\"am\",2,5))"
   ]
  },
  {
   "cell_type": "code",
   "execution_count": 16,
   "metadata": {},
   "outputs": [
    {
     "name": "stdout",
     "output_type": "stream",
     "text": [
      "True\n",
      "True\n",
      "False\n"
     ]
    }
   ],
   "source": [
    "print(s.startswith(\"spam\")) # returns True if s starts with the specified <suffix> and False otherwise\n",
    "print(s.startswith(\"spam\",0))\n",
    "print(s.startswith(\"spam\",5,10))"
   ]
  },
  {
   "cell_type": "code",
   "execution_count": 63,
   "metadata": {},
   "outputs": [
    {
     "name": "stdout",
     "output_type": "stream",
     "text": [
      "0\n",
      "0\n",
      "5\n",
      "-1\n",
      "0\n"
     ]
    }
   ],
   "source": [
    "print(s.find(\"spam\")) # returns the lowest index in s where substring <sub> is found and returns -1 if <sub> not fonud\n",
    "print(\"ononon\".find(\"on\"))\n",
    "print(s.find(\"ham\"))\n",
    "print(s.find(\"gem\"))\n",
    "print('abc'.find(''))"
   ]
  },
  {
   "cell_type": "code",
   "execution_count": 21,
   "metadata": {},
   "outputs": [
    {
     "name": "stdout",
     "output_type": "stream",
     "text": [
      "0\n",
      "0\n",
      "5\n"
     ]
    },
    {
     "ename": "ValueError",
     "evalue": "substring not found",
     "output_type": "error",
     "traceback": [
      "\u001b[0;31m---------------------------------------------------------------------------\u001b[0m",
      "\u001b[0;31mValueError\u001b[0m                                Traceback (most recent call last)",
      "Cell \u001b[0;32mIn[21], line 4\u001b[0m\n\u001b[1;32m      2\u001b[0m \u001b[39mprint\u001b[39m(\u001b[39m\"\u001b[39m\u001b[39mononon\u001b[39m\u001b[39m\"\u001b[39m\u001b[39m.\u001b[39mindex(\u001b[39m\"\u001b[39m\u001b[39mon\u001b[39m\u001b[39m\"\u001b[39m))\n\u001b[1;32m      3\u001b[0m \u001b[39mprint\u001b[39m(s\u001b[39m.\u001b[39mindex(\u001b[39m\"\u001b[39m\u001b[39mham\u001b[39m\u001b[39m\"\u001b[39m))\n\u001b[0;32m----> 4\u001b[0m \u001b[39mprint\u001b[39m(s\u001b[39m.\u001b[39;49mindex(\u001b[39m\"\u001b[39;49m\u001b[39mgem\u001b[39;49m\u001b[39m\"\u001b[39;49m))\n",
      "\u001b[0;31mValueError\u001b[0m: substring not found"
     ]
    }
   ],
   "source": [
    "print(s.index(\"spam\")) # returns the lowest index in s where substring <sub> is found and throws exception if <sub> not found\n",
    "print(\"ononon\".index(\"on\"))\n",
    "print(s.index(\"ham\"))\n",
    "print(s.index(\"gem\"))"
   ]
  },
  {
   "cell_type": "code",
   "execution_count": 29,
   "metadata": {},
   "outputs": [
    {
     "name": "stdout",
     "output_type": "stream",
     "text": [
      "13\n",
      "23\n",
      "-1\n",
      "0\n",
      "13\n"
     ]
    }
   ],
   "source": [
    "print(s.rfind(\"spam\")) # returns the highest index in s where substring <sub> is found and returns -1 if <sub> not found.\n",
    "print(s.rfind(\"game\"))\n",
    "print(s.rfind(\"gem\"))\n",
    "print(s.rfind(\"spam\",0,10))\n",
    "print(s.rfind(\"spam\",10))\n"
   ]
  },
  {
   "cell_type": "code",
   "execution_count": 31,
   "metadata": {},
   "outputs": [
    {
     "name": "stdout",
     "output_type": "stream",
     "text": [
      "13\n",
      "23\n",
      "0\n",
      "13\n"
     ]
    },
    {
     "ename": "ValueError",
     "evalue": "substring not found",
     "output_type": "error",
     "traceback": [
      "\u001b[0;31m---------------------------------------------------------------------------\u001b[0m",
      "\u001b[0;31mValueError\u001b[0m                                Traceback (most recent call last)",
      "Cell \u001b[0;32mIn[31], line 5\u001b[0m\n\u001b[1;32m      3\u001b[0m \u001b[39mprint\u001b[39m(s\u001b[39m.\u001b[39mrindex(\u001b[39m\"\u001b[39m\u001b[39mspam\u001b[39m\u001b[39m\"\u001b[39m,\u001b[39m0\u001b[39m,\u001b[39m10\u001b[39m))\n\u001b[1;32m      4\u001b[0m \u001b[39mprint\u001b[39m(s\u001b[39m.\u001b[39mrindex(\u001b[39m\"\u001b[39m\u001b[39mspam\u001b[39m\u001b[39m\"\u001b[39m,\u001b[39m10\u001b[39m))\n\u001b[0;32m----> 5\u001b[0m \u001b[39mprint\u001b[39m(s\u001b[39m.\u001b[39;49mrindex(\u001b[39m\"\u001b[39;49m\u001b[39mgem\u001b[39;49m\u001b[39m\"\u001b[39;49m))\n",
      "\u001b[0;31mValueError\u001b[0m: substring not found"
     ]
    }
   ],
   "source": [
    "print(s.rindex(\"spam\")) # returns the highest index in s where substring <sub> is found and throws exception if <sub> not found\n",
    "print(s.rindex(\"game\"))\n",
    "print(s.rindex(\"spam\",0,10))\n",
    "print(s.rindex(\"spam\",10))\n",
    "print(s.rindex(\"gem\"))"
   ]
  },
  {
   "attachments": {},
   "cell_type": "markdown",
   "metadata": {},
   "source": [
    "### Character classification\n",
    "\n"
   ]
  },
  {
   "cell_type": "code",
   "execution_count": 35,
   "metadata": {},
   "outputs": [
    {
     "name": "stdout",
     "output_type": "stream",
     "text": [
      "True\n",
      "False\n",
      "True\n",
      "True\n",
      "False\n"
     ]
    }
   ],
   "source": [
    "print(\"abc123\".isalnum()) # returns True if s is nonempty and all its characters are alphanumeric (either a letter or a number), and False otherwise\n",
    "print('abc#123'.isalnum())\n",
    "print('abc'.isalnum())\n",
    "print('123'.isalnum())\n",
    "print('_12acas'.isalnum())"
   ]
  },
  {
   "cell_type": "code",
   "execution_count": 37,
   "metadata": {},
   "outputs": [
    {
     "name": "stdout",
     "output_type": "stream",
     "text": [
      "False\n",
      "False\n",
      "True\n",
      "True\n",
      "False\n",
      "False\n"
     ]
    }
   ],
   "source": [
    "print(\"abc123\".isalpha()) # returns True if s is nonempty and all its characters are alphabetic, and False otherwise:\n",
    "print('abc#123'.isalpha())\n",
    "print('abc'.isalpha())\n",
    "print('ABC'.isalpha())\n",
    "print('123'.isalpha())\n",
    "print('_12acas'.isalpha())"
   ]
  },
  {
   "cell_type": "code",
   "execution_count": 39,
   "metadata": {},
   "outputs": [
    {
     "name": "stdout",
     "output_type": "stream",
     "text": [
      "False\n",
      "False\n",
      "False\n",
      "False\n",
      "True\n",
      "False\n",
      "False\n"
     ]
    }
   ],
   "source": [
    "print(\"abc123\".isdigit()) # returns True if s is nonempty and all its characters are numeric, and False otherwise:\n",
    "print('abc#123'.isdigit())\n",
    "print('abc'.isdigit())\n",
    "print('ABC'.isdigit())\n",
    "print('123'.isdigit())\n",
    "print('_12acas'.isdigit())\n",
    "print(''.isdigit())"
   ]
  },
  {
   "cell_type": "code",
   "execution_count": 41,
   "metadata": {},
   "outputs": [
    {
     "name": "stdout",
     "output_type": "stream",
     "text": [
      "True\n",
      "False\n",
      "False\n",
      "True\n",
      "False\n"
     ]
    }
   ],
   "source": [
    "print('abc'.isidentifier()) # returns True if s is a valid Python identifier according to the language definition, and False otherwise\n",
    "print('123'.isidentifier())\n",
    "print(''.isidentifier())\n",
    "print('def'.isidentifier()) # return True for a string that matches a Python keyword even though that would not actually be a valid identifier\n",
    "print('123$@12avc'.isidentifier())\n"
   ]
  },
  {
   "cell_type": "code",
   "execution_count": 43,
   "metadata": {},
   "outputs": [
    {
     "name": "stdout",
     "output_type": "stream",
     "text": [
      "True\n",
      "False\n",
      "False\n",
      "False\n",
      "False\n",
      "True\n",
      "False\n"
     ]
    }
   ],
   "source": [
    "print(\"abc\".islower()) # returns True if s is nonempty and all the alphabetic characters it contains are lowercase, and False otherwise. Non-alphabetic characters are ignored\n",
    "print('Abc'.islower())\n",
    "print('Abc123'.islower())\n",
    "print('123'.islower())\n",
    "print('#$%'.islower())\n",
    "print('_123@abc'.islower())\n",
    "print('_123'.islower())"
   ]
  },
  {
   "cell_type": "code",
   "execution_count": 45,
   "metadata": {},
   "outputs": [
    {
     "name": "stdout",
     "output_type": "stream",
     "text": [
      "True\n",
      "False\n",
      "False\n",
      "False\n",
      "False\n",
      "False\n",
      "True\n",
      "False\n"
     ]
    }
   ],
   "source": [
    "print(\"ABC\".isupper()) # returns True if s is nonempty and all the alphabetic characters it contains are uppercase, and False otherwise. Non-alphabetic characters are ignored\n",
    "print('abc'.isupper())\n",
    "print('Abc'.isupper())\n",
    "print('Abc123'.isupper())\n",
    "print('123'.isupper())\n",
    "print('#$%'.isupper())\n",
    "print('_123@ABC'.isupper())\n",
    "print('_123'.isupper())"
   ]
  },
  {
   "cell_type": "code",
   "execution_count": 49,
   "metadata": {},
   "outputs": [
    {
     "name": "stdout",
     "output_type": "stream",
     "text": [
      "False\n",
      "True\n",
      "False\n",
      "False\n",
      "True\n"
     ]
    }
   ],
   "source": [
    "print('The Sun rises in the EAST'.istitle()) # returns True if s is nonempty, the first alphabetic character of each word is uppercase, and all other alphabetic characters in each word are lowercase. It returns False otherwise:\n",
    "print('The Sun Rises In The East'.istitle())\n",
    "print('The SUN Rises In The East'.istitle())\n",
    "print(\"Santa's house\".istitle())\n",
    "print(\"The House Number Is 123\".istitle()) # Non-alphabetic characters are ignored \n"
   ]
  },
  {
   "cell_type": "code",
   "execution_count": 54,
   "metadata": {},
   "outputs": [
    {
     "name": "stdout",
     "output_type": "stream",
     "text": [
      "False\n",
      "True\n",
      "False\n",
      "True\n",
      "True\n"
     ]
    }
   ],
   "source": [
    "print(\"a\\t\\nb\".isprintable())# returns True if s is empty or all the alphabetic characters it contains are printable. It returns False if s contains at least one non-printable character. Non-alphabetic characters are ignored\n",
    "print(\"a b\".isprintable())\n",
    "print('\\n\\t'.isprintable())\n",
    "print(\"\".isprintable()) # this is the only method which returns true for empty string\n",
    "print(\" \".isprintable())"
   ]
  },
  {
   "cell_type": "code",
   "execution_count": 57,
   "metadata": {},
   "outputs": [
    {
     "name": "stdout",
     "output_type": "stream",
     "text": [
      "True\n",
      "True\n",
      "False\n",
      "True\n"
     ]
    }
   ],
   "source": [
    "print(\" \".isspace()) # returns True if s is nonempty and all characters are whitespace characters, and False otherwise\n",
    "print(\"\\t\\n\".isspace())\n",
    "print(\" a \".isspace())\n",
    "print('\\f\\u2005\\r'.isspace())"
   ]
  },
  {
   "cell_type": "code",
   "execution_count": 60,
   "metadata": {},
   "outputs": [
    {
     "name": "stdout",
     "output_type": "stream",
     "text": [
      "True\n",
      "False\n",
      "True\n"
     ]
    }
   ],
   "source": [
    "print(\"abc123$%^\".isascii()) # returns True if all characters in string are ASCII. ASCII characters code points are in the range of U+0000 to U+007F(first 128).\n",
    "print(\"ð\".isascii())\n",
    "print(\"\".isascii())"
   ]
  },
  {
   "cell_type": "code",
   "execution_count": 62,
   "metadata": {},
   "outputs": [
    {
     "data": {
      "text/plain": [
       "0"
      ]
     },
     "execution_count": 62,
     "metadata": {},
     "output_type": "execute_result"
    }
   ],
   "source": []
  },
  {
   "cell_type": "code",
   "execution_count": 74,
   "metadata": {},
   "outputs": [
    {
     "name": "stdout",
     "output_type": "stream",
     "text": [
      " Spam\n",
      "---Spam---\n",
      "Spam\n",
      "///Spam///\n"
     ]
    }
   ],
   "source": [
    "s = \"Spam\"\n",
    "print(s.center(5)) # returns a string consisting of s centered in a field of width <width>. By default, padding consists of the ASCII space character\n",
    "print(s.center(10,'-'))\n",
    "print(s.center(2,'-')) # If s is already at least as long as <width>, it is returned unchanged\n",
    "print(s.center(10,'/'))"
   ]
  },
  {
   "cell_type": "code",
   "execution_count": 86,
   "metadata": {},
   "outputs": [
    {
     "name": "stdout",
     "output_type": "stream",
     "text": [
      "a       b       c\n",
      "aaa       cccc\n",
      "aaa cccc\n"
     ]
    }
   ],
   "source": [
    "print('a\\tb\\tc'.expandtabs())  # replaces each tab character ('\\t') with spaces. By default, spaces are filled in assuming a tab stop at every eighth column\n",
    "print('aaa\\tcccc'.expandtabs(10))\n",
    "print('aaa\\tcccc'.expandtabs(4))\n"
   ]
  },
  {
   "cell_type": "code",
   "execution_count": 92,
   "metadata": {},
   "outputs": [
    {
     "name": "stdout",
     "output_type": "stream",
     "text": [
      "Spam           \n",
      "Spam-----------\n",
      "Spam\n",
      "Hello World---------\n"
     ]
    }
   ],
   "source": [
    "print(s.ljust(15)) #  string consisting of s left-justified in a field of width <width>. By default, padding consists of the ASCII space character \n",
    "print(s.ljust(15,'-'))\n",
    "print(s.ljust(1,'-')) #If s is already at least as long as <width>, it is returned unchanged\n",
    "print(\"Hello World\".ljust(20,'-'))\n"
   ]
  },
  {
   "cell_type": "code",
   "execution_count": 93,
   "metadata": {},
   "outputs": [
    {
     "name": "stdout",
     "output_type": "stream",
     "text": [
      "           Spam\n",
      "-----------Spam\n",
      "Spam\n",
      "---------Hello World\n"
     ]
    }
   ],
   "source": [
    "print(s.rjust(15)) #  string consisting of s left-justified in a field of width <width>. By default, padding consists of the ASCII space character \n",
    "print(s.rjust(15,'-'))\n",
    "print(s.rjust(1,'-')) #If s is already at least as long as <width>, it is returned unchanged\n",
    "print(\"Hello World\".rjust(20,'-'))"
   ]
  },
  {
   "cell_type": "code",
   "execution_count": 151,
   "metadata": {},
   "outputs": [
    {
     "name": "stdout",
     "output_type": "stream",
     "text": [
      "this is a spam   message \n",
      "this\tis\n",
      "a spam   message \n",
      "www.google.com\n"
     ]
    }
   ],
   "source": [
    "print(\" this is a spam   message \".lstrip()) #  returns a copy of s with any whitespace characters removed from the left end\n",
    "print(\"\\t\\nthis\\tis\\na spam   message \".lstrip())\n",
    "print(\"http://www.google.com\".lstrip(':tp/h')) # If the optional <chars> argument is specified, it is a string that specifies the set of characters to be removed\n"
   ]
  },
  {
   "cell_type": "code",
   "execution_count": 115,
   "metadata": {},
   "outputs": [
    {
     "name": "stdout",
     "output_type": "stream",
     "text": [
      " this is a spam   message\n",
      "\t\n",
      "this\tis\n",
      "a spam   message\n",
      "http://www.google\n"
     ]
    }
   ],
   "source": [
    "print(\" this is a spam   message     \".rstrip()) #  returns a copy of s with any whitespace characters removed from the right end\n",
    "print(\"\\t\\nthis\\tis\\na spam   message\\t\\t\".rstrip())\n",
    "print(\"http://www.google.com\".rstrip('.mco'))\n"
   ]
  },
  {
   "cell_type": "code",
   "execution_count": 124,
   "metadata": {},
   "outputs": [
    {
     "name": "stdout",
     "output_type": "stream",
     "text": [
      "ham\n",
      "this is ham\n",
      "ham ham ham ham ham\n",
      "ham ham ham ham spam\n",
      "http://www.google.com\n",
      "\tapple\t\n",
      "apple\n"
     ]
    }
   ],
   "source": [
    "print(s.replace(\"Sp\",'h')) # returns a copy of s with all occurrences of substring <old> replaced by <new>\n",
    "print(\"this is spam\".replace(\"spam\",\"ham\"))\n",
    "print(\"spam ham spam ham spam\".replace(\"spam\",\"ham\"))\n",
    "print(\"spam ham spam ham spam\".replace(\"spam\",\"ham\",2)) # If the optional <count> argument is specified, a maximum of <count> replacements are performed, starting at the left end of s\n",
    "print(\"http://www.google.org\".replace(\"org\",\"com\"))\n",
    "print(\"\\tapple\\t\")\n",
    "print(\"\\tapple\\t\".replace(\"\\t\",\"\"))\n"
   ]
  },
  {
   "cell_type": "code",
   "execution_count": 128,
   "metadata": {},
   "outputs": [
    {
     "name": "stdout",
     "output_type": "stream",
     "text": [
      "\tthis is wonderful    news   \n",
      "this is wonderful    news\n",
      "google\n"
     ]
    }
   ],
   "source": [
    "print(\"\\tthis is wonderful    news   \")\n",
    "print(\"\\tthis is wonderful    news   \".strip()) # essentially equivalent to invoking s.lstrip() and s.rstrip() in succession. Without the <chars> argument, it removes leading and trailing whitespace:\n",
    "print(\"www.google.com\".strip('.mocw'))\n"
   ]
  },
  {
   "cell_type": "code",
   "execution_count": 137,
   "metadata": {},
   "outputs": [
    {
     "name": "stdout",
     "output_type": "stream",
     "text": [
      "\tfoo bar \t apple orange\t\n",
      "foo bar \t apple orange\n"
     ]
    },
    {
     "data": {
      "text/plain": [
       "'google'"
      ]
     },
     "execution_count": 137,
     "metadata": {},
     "output_type": "execute_result"
    }
   ],
   "source": [
    "s = \"\\tfoo bar \\t apple orange\\t\"\n",
    "print(s)\n",
    "print(s.lstrip().rstrip())\n",
    "\"www.google.com\".lstrip('w.').rstrip(\".moc\")"
   ]
  },
  {
   "cell_type": "code",
   "execution_count": 144,
   "metadata": {},
   "outputs": [
    {
     "name": "stdout",
     "output_type": "stream",
     "text": [
      "00099\n",
      "+0099\n",
      "42\n"
     ]
    }
   ],
   "source": [
    "print('99'.zfill(5)) #returns a copy of string left-padded with '0' characters to the specified <width>\n",
    "print('+99'.zfill(5)) #If string contains a leading sign, it remains at the left edge of the result string after zeros are inserted\n",
    "print(\"42\".zfill(1)) # If s is already at least as long as <width>, it is returned unchanged:"
   ]
  },
  {
   "attachments": {},
   "cell_type": "markdown",
   "metadata": {},
   "source": [
    "### converting between strings and lists\n",
    "\n",
    "Methods in this group convert between a string and some composite data type by either pasting objects together to make a string, or by breaking a string up into pieces.\\\n",
    "Many of these methods return either a list or a tuple. These are two similar composite data types that are prototypical examples of iterables in Python."
   ]
  },
  {
   "cell_type": "code",
   "execution_count": 156,
   "metadata": {},
   "outputs": [
    {
     "name": "stdout",
     "output_type": "stream",
     "text": [
      "spam,ham,jam,bam\n",
      "s:p:a:m\n"
     ]
    }
   ],
   "source": [
    "##s.join(<iterable>)  returns the string that results from concatenating the objects in <iterable> separated by s.Note that .join() is invoked on s, the separator string. <iterable> must be a sequence of string objects as well\n",
    "mylist  = ['spam','ham','jam','bam']\n",
    "print(','.join(mylist))\n",
    "s = 'spam'\n",
    "print(\":\".join(s))  \n"
   ]
  },
  {
   "cell_type": "code",
   "execution_count": 157,
   "metadata": {},
   "outputs": [
    {
     "ename": "TypeError",
     "evalue": "sequence item 1: expected str instance, int found",
     "output_type": "error",
     "traceback": [
      "\u001b[0;31m---------------------------------------------------------------------------\u001b[0m",
      "\u001b[0;31mTypeError\u001b[0m                                 Traceback (most recent call last)",
      "Cell \u001b[0;32mIn[157], line 2\u001b[0m\n\u001b[1;32m      1\u001b[0m _list \u001b[39m=\u001b[39m [\u001b[39m'\u001b[39m\u001b[39mapple\u001b[39m\u001b[39m'\u001b[39m,\u001b[39m13\u001b[39m,\u001b[39m'\u001b[39m\u001b[39mbanana\u001b[39m\u001b[39m'\u001b[39m]\n\u001b[0;32m----> 2\u001b[0m \u001b[39mprint\u001b[39m(\u001b[39m'\u001b[39;49m\u001b[39m,\u001b[39;49m\u001b[39m'\u001b[39;49m\u001b[39m.\u001b[39;49mjoin(_list))\n",
      "\u001b[0;31mTypeError\u001b[0m: sequence item 1: expected str instance, int found"
     ]
    }
   ],
   "source": [
    "_list = ['apple',13,'banana']\n",
    "print(','.join(_list)) # This example fails because one of the objects in <iterable> is not a string:"
   ]
  },
  {
   "attachments": {},
   "cell_type": "markdown",
   "metadata": {},
   "source": [
    "### s.partition(<seperator>)\n",
    "\n",
    " splits s at the first occurrence of string <sep>. The return value is a three-part tuple consisting of:\n",
    "\n",
    "- The portion of s preceding `<sep>`\n",
    "- `<sep>` itself\n",
    "- The portion of s following `<sep>`"
   ]
  },
  {
   "cell_type": "code",
   "execution_count": 163,
   "metadata": {},
   "outputs": [
    {
     "name": "stdout",
     "output_type": "stream",
     "text": [
      "('this', '.', 'is an example.of string methods')\n",
      "('foo#bar#foo', '', '')\n",
      "('foo#bar#foo', '', '')\n",
      "('foo@bar', '#', 'foo@bar')\n"
     ]
    }
   ],
   "source": [
    "s = \"this.is an example.of string methods\"\n",
    "print(s.partition('.'))\n",
    "print(\"foo#bar#foo\".partition('.'))\n",
    "print(\"foo#bar#foo\".partition(',')) # If <sep> is not found in s, the returned tuple contains s followed by two empty strings\n",
    "print(\"foo@bar#foo@bar\".partition('#'))"
   ]
  },
  {
   "cell_type": "code",
   "execution_count": 165,
   "metadata": {},
   "outputs": [
    {
     "name": "stdout",
     "output_type": "stream",
     "text": [
      "('foo', '@', 'bar#foo@bar')\n",
      "('this', '#', 'is@awesome#yeah!!')\n"
     ]
    }
   ],
   "source": [
    "print(\"foo@bar#foo@bar\".partition('@')) # it is same as s.partition except that s is split at the last occurrence of <sep> instead of the first occurrence\n",
    "print(\"this#is@awesome#yeah!!\".partition('#'))"
   ]
  },
  {
   "cell_type": "code",
   "execution_count": 175,
   "metadata": {},
   "outputs": [
    {
     "name": "stdout",
     "output_type": "stream",
     "text": [
      "['foo,bar', 'jar,rar']\n",
      "['foo', 'bar', 'baz', 'qux']\n",
      "['foo', 'bar jar', 'rar']\n"
     ]
    }
   ],
   "source": [
    "s = 'foo,bar jar,rar'\n",
    "print(s.rsplit()) #Without arguments, s.rsplit() splits s into substrings delimited by any sequence of whitespace and returns the substrings as a list\n",
    "print('foo\\n\\tbar   baz\\r\\fqux'.rsplit())\n",
    "print(s.rsplit(',')) #If <sep> is specified, it is used as the delimiter for splitting:\n",
    "\n"
   ]
  },
  {
   "cell_type": "code",
   "execution_count": 176,
   "metadata": {},
   "outputs": [
    {
     "name": "stdout",
     "output_type": "stream",
     "text": [
      "['this', '', '', '', 'is', '', '', '', 'awesome']\n",
      "['this....is....awesome']\n",
      "['this', 'is', 'awesome']\n"
     ]
    }
   ],
   "source": [
    "print(\"this....is....awesome\".rsplit('.')) #if <sep> is specified,consecutive delimiters in s are assumed to delimit empty strings, which will be returned\n",
    "print(\"this....is....awesome\".rsplit()) # if <sep> is not specified, consecutive whitespace characters are combined into a single delimiter, and the resulting list will never contain empty strings\n",
    "print(\"this     is\\t\\tawesome\".rsplit()) "
   ]
  },
  {
   "cell_type": "code",
   "execution_count": 178,
   "metadata": {},
   "outputs": [
    {
     "name": "stdout",
     "output_type": "stream",
     "text": [
      "['this....is...', 'awesome']\n",
      "['www.google.co', 'in']\n"
     ]
    }
   ],
   "source": [
    "print(\"this....is....awesome\".rsplit('.',maxsplit=1)) # If the optional keyword parameter <maxsplit> is specified, a maximum of that many splits are performed, starting from the right end of s\n",
    "print(\"www.google.co.in\".rsplit('.',maxsplit=1))"
   ]
  },
  {
   "cell_type": "code",
   "execution_count": 180,
   "metadata": {},
   "outputs": [
    {
     "name": "stdout",
     "output_type": "stream",
     "text": [
      "['this', '...is....awesome']\n",
      "['www', 'google.co.in']\n"
     ]
    }
   ],
   "source": [
    "# s.split() is identical to s.rsplit excepts that if maxsplit is specified,a maximum of that many splits are performed, starting from the left end of s\n",
    "\n",
    "print(\"this....is....awesome\".split('.',maxsplit=1)) # If the optional keyword parameter <maxsplit> is specified, a maximum of that many splits are performed, starting from the right end of s\n",
    "print(\"www.google.co.in\".split('.',maxsplit=1))"
   ]
  },
  {
   "cell_type": "code",
   "execution_count": 185,
   "metadata": {},
   "outputs": [
    {
     "name": "stdout",
     "output_type": "stream",
     "text": [
      "['foo', 'bar', 'baz', 'qux', 'quux']\n",
      "['foo', '', '', 'bar']\n",
      "['foo\\n', 'bar\\n', 'baz\\n', 'qux']\n"
     ]
    }
   ],
   "source": [
    "print('foo\\nbar\\r\\nbaz\\fqux\\u2028quux'.splitlines()) # s.splitlines() splits s up into lines and returns them in a list.\n",
    "print('foo\\f\\f\\fbar'.splitlines()) # If consecutive line boundary characters are present in the string, they are assumed to delimit blank lines, which will appear in the result list\n",
    "print('foo\\nbar\\nbaz\\nqux'.splitlines()) #If the optional <keepends> argument is specified and is truthy, then the lines boundaries are retained in the result strings"
   ]
  },
  {
   "cell_type": "code",
   "execution_count": null,
   "metadata": {},
   "outputs": [],
   "source": []
  },
  {
   "cell_type": "code",
   "execution_count": null,
   "metadata": {},
   "outputs": [],
   "source": []
  },
  {
   "cell_type": "code",
   "execution_count": null,
   "metadata": {},
   "outputs": [],
   "source": []
  },
  {
   "cell_type": "code",
   "execution_count": null,
   "metadata": {},
   "outputs": [],
   "source": []
  }
 ],
 "metadata": {
  "kernelspec": {
   "display_name": "Python 3",
   "language": "python",
   "name": "python3"
  },
  "language_info": {
   "codemirror_mode": {
    "name": "ipython",
    "version": 3
   },
   "file_extension": ".py",
   "mimetype": "text/x-python",
   "name": "python",
   "nbconvert_exporter": "python",
   "pygments_lexer": "ipython3",
   "version": "3.9.6"
  },
  "orig_nbformat": 4,
  "vscode": {
   "interpreter": {
    "hash": "31f2aee4e71d21fbe5cf8b01ff0e069b9275f58929596ceb00d14d90e3e16cd6"
   }
  }
 },
 "nbformat": 4,
 "nbformat_minor": 2
}
