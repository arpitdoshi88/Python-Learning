{
 "cells": [
  {
   "attachments": {},
   "cell_type": "markdown",
   "metadata": {},
   "source": [
    "### Case Conversion Methods"
   ]
  },
  {
   "cell_type": "code",
   "execution_count": 1,
   "metadata": {},
   "outputs": [
    {
     "name": "stdout",
     "output_type": "stream",
     "text": [
      "Delhi is the capital of india. india's population is 1.35 billion and it is #2nd largest country in the world\n",
      "delhi is the capital of india. india's population is 1.35 billion and it is #2nd largest country in the world\n",
      "DELHI IS THE CAPITAL OF INDIA. INDIA'S POPULATION IS 1.35 BILLION AND IT IS #2ND LARGEST COUNTRY IN THE WORLD\n",
      "Delhi Is The Capital Of India. India'S Population Is 1.35 Billion And It Is #2Nd Largest Country In The World\n",
      "dELhI IS THE Capital OF iNDIa. india'S POPUlation IS 1.35 BiLLIon AND It IS #2ND largest COUNTRY In The WOrLD\n",
      "\n"
     ]
    }
   ],
   "source": [
    "s= \"DelHi is the cAPITAL of IndiA. INDIA's popuLATION is 1.35 bIlliON and iT is #2nd LARGEST country iN tHE woRld\"\n",
    "print(s.capitalize()) ## returns a copy of s with the first character converted to uppercase and all other characters converted to lowercase\n",
    "print(s.lower()) #Converts alphabetic characters to lowercase.\n",
    "print(s.upper())#Converts alphabetic characters to uppercase.\n",
    "print(s.title()) #returns a copy of s in which the first letter of each word is converted to uppercase and remaining letters are lowercase\n",
    "print(s.swapcase()) # returns a copy of s with uppercase alphabetic characters converted to lowercase and vice versa:\n",
    "print()"
   ]
  },
  {
   "attachments": {},
   "cell_type": "markdown",
   "metadata": {},
   "source": [
    "### Find and Replace"
   ]
  },
  {
   "cell_type": "code",
   "execution_count": null,
   "metadata": {},
   "outputs": [],
   "source": []
  },
  {
   "cell_type": "code",
   "execution_count": null,
   "metadata": {},
   "outputs": [],
   "source": []
  },
  {
   "cell_type": "code",
   "execution_count": null,
   "metadata": {},
   "outputs": [],
   "source": []
  },
  {
   "cell_type": "code",
   "execution_count": null,
   "metadata": {},
   "outputs": [],
   "source": []
  },
  {
   "cell_type": "code",
   "execution_count": null,
   "metadata": {},
   "outputs": [],
   "source": []
  },
  {
   "cell_type": "code",
   "execution_count": null,
   "metadata": {},
   "outputs": [],
   "source": []
  },
  {
   "cell_type": "code",
   "execution_count": null,
   "metadata": {},
   "outputs": [],
   "source": []
  },
  {
   "cell_type": "code",
   "execution_count": null,
   "metadata": {},
   "outputs": [],
   "source": []
  },
  {
   "cell_type": "code",
   "execution_count": null,
   "metadata": {},
   "outputs": [],
   "source": []
  },
  {
   "cell_type": "code",
   "execution_count": null,
   "metadata": {},
   "outputs": [],
   "source": []
  },
  {
   "cell_type": "code",
   "execution_count": null,
   "metadata": {},
   "outputs": [],
   "source": []
  },
  {
   "cell_type": "code",
   "execution_count": null,
   "metadata": {},
   "outputs": [],
   "source": []
  },
  {
   "cell_type": "code",
   "execution_count": null,
   "metadata": {},
   "outputs": [],
   "source": []
  },
  {
   "cell_type": "code",
   "execution_count": null,
   "metadata": {},
   "outputs": [],
   "source": []
  }
 ],
 "metadata": {
  "kernelspec": {
   "display_name": "Python 3",
   "language": "python",
   "name": "python3"
  },
  "language_info": {
   "codemirror_mode": {
    "name": "ipython",
    "version": 3
   },
   "file_extension": ".py",
   "mimetype": "text/x-python",
   "name": "python",
   "nbconvert_exporter": "python",
   "pygments_lexer": "ipython3",
   "version": "3.9.6"
  },
  "orig_nbformat": 4,
  "vscode": {
   "interpreter": {
    "hash": "31f2aee4e71d21fbe5cf8b01ff0e069b9275f58929596ceb00d14d90e3e16cd6"
   }
  }
 },
 "nbformat": 4,
 "nbformat_minor": 2
}
