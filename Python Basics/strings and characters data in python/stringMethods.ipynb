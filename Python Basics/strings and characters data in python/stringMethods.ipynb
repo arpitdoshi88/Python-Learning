{
 "cells": [
  {
   "attachments": {},
   "cell_type": "markdown",
   "metadata": {},
   "source": [
    "### Case Conversion Methods"
   ]
  },
  {
   "cell_type": "code",
   "execution_count": 1,
   "metadata": {},
   "outputs": [
    {
     "name": "stdout",
     "output_type": "stream",
     "text": [
      "Delhi is the capital of india. india's population is 1.35 billion and it is #2nd largest country in the world\n",
      "delhi is the capital of india. india's population is 1.35 billion and it is #2nd largest country in the world\n",
      "DELHI IS THE CAPITAL OF INDIA. INDIA'S POPULATION IS 1.35 BILLION AND IT IS #2ND LARGEST COUNTRY IN THE WORLD\n",
      "Delhi Is The Capital Of India. India'S Population Is 1.35 Billion And It Is #2Nd Largest Country In The World\n",
      "dELhI IS THE Capital OF iNDIa. india'S POPUlation IS 1.35 BiLLIon AND It IS #2ND largest COUNTRY In The WOrLD\n",
      "\n"
     ]
    }
   ],
   "source": [
    "s= \"DelHi is the cAPITAL of IndiA. INDIA's popuLATION is 1.35 bIlliON and iT is #2nd LARGEST country iN tHE woRld\"\n",
    "print(s.capitalize()) ## returns a copy of s with the first character converted to uppercase and all other characters converted to lowercase\n",
    "print(s.lower()) #Converts alphabetic characters to lowercase.\n",
    "print(s.upper())#Converts alphabetic characters to uppercase.\n",
    "print(s.title()) #returns a copy of s in which the first letter of each word is converted to uppercase and remaining letters are lowercase\n",
    "print(s.swapcase()) # returns a copy of s with uppercase alphabetic characters converted to lowercase and vice versa:\n",
    "print()"
   ]
  },
  {
   "attachments": {},
   "cell_type": "markdown",
   "metadata": {},
   "source": [
    "### Find and Replace\n",
    "\n",
    "These methods provide various means of searching the target string for a specified substring.\n",
    "\n",
    "Each method in this group supports optional `<start>` and `<end>` arguments. These are interpreted as for string slicing: the action of the method is restricted to the portion of the target string starting at character position `<start>` and proceeding up to but not including character position `<end>`. If `<start>` is specified but `<end>` is not, the method applies to the portion of the target string from `<start>` through the end of the string."
   ]
  },
  {
   "cell_type": "code",
   "execution_count": 2,
   "metadata": {},
   "outputs": [
    {
     "name": "stdout",
     "output_type": "stream",
     "text": [
      "spam ham bam spam name game\n"
     ]
    }
   ],
   "source": [
    "s  = \"spam ham bam spam name game\"\n",
    "print(s)"
   ]
  },
  {
   "cell_type": "code",
   "execution_count": 64,
   "metadata": {},
   "outputs": [
    {
     "name": "stdout",
     "output_type": "stream",
     "text": [
      "6\n",
      "0\n",
      "2\n",
      "4\n",
      "3\n",
      "4\n",
      "0\n"
     ]
    }
   ],
   "source": [
    "print(s.count(\"am\")) # returns the number of non-overlapping occurrences of substring <sub> in s\n",
    "print(s.count('on'))\n",
    "print(s.count(\"am\",0,10)) # returns the number of non-overlapping occurences of substring <sub> in s starting from 0th position upto but not including 10\n",
    "print(s.count('am',10)) #returns the number of non-overlapping occurrences of substring <sub> in s starting from 10th position\n",
    "print(\"ononon\".count('on'))\n",
    "print('abc'.count(''))\n",
    "print('abc'.count(' '))"
   ]
  },
  {
   "cell_type": "code",
   "execution_count": 14,
   "metadata": {},
   "outputs": [
    {
     "name": "stdout",
     "output_type": "stream",
     "text": [
      "True\n",
      "True\n",
      "False\n"
     ]
    }
   ],
   "source": [
    "print(s.endswith(\"ame\")) # returns True if s ends with the specified <suffix> and False otherwise\n",
    "print(s.endswith(\"am\",0,4))\n",
    "print(s.endswith(\"am\",2,5))"
   ]
  },
  {
   "cell_type": "code",
   "execution_count": 16,
   "metadata": {},
   "outputs": [
    {
     "name": "stdout",
     "output_type": "stream",
     "text": [
      "True\n",
      "True\n",
      "False\n"
     ]
    }
   ],
   "source": [
    "print(s.startswith(\"spam\")) # returns True if s starts with the specified <suffix> and False otherwise\n",
    "print(s.startswith(\"spam\",0))\n",
    "print(s.startswith(\"spam\",5,10))"
   ]
  },
  {
   "cell_type": "code",
   "execution_count": 63,
   "metadata": {},
   "outputs": [
    {
     "name": "stdout",
     "output_type": "stream",
     "text": [
      "0\n",
      "0\n",
      "5\n",
      "-1\n",
      "0\n"
     ]
    }
   ],
   "source": [
    "print(s.find(\"spam\")) # returns the lowest index in s where substring <sub> is found and returns -1 if <sub> not fonud\n",
    "print(\"ononon\".find(\"on\"))\n",
    "print(s.find(\"ham\"))\n",
    "print(s.find(\"gem\"))\n",
    "print('abc'.find(''))"
   ]
  },
  {
   "cell_type": "code",
   "execution_count": 21,
   "metadata": {},
   "outputs": [
    {
     "name": "stdout",
     "output_type": "stream",
     "text": [
      "0\n",
      "0\n",
      "5\n"
     ]
    },
    {
     "ename": "ValueError",
     "evalue": "substring not found",
     "output_type": "error",
     "traceback": [
      "\u001b[0;31m---------------------------------------------------------------------------\u001b[0m",
      "\u001b[0;31mValueError\u001b[0m                                Traceback (most recent call last)",
      "Cell \u001b[0;32mIn[21], line 4\u001b[0m\n\u001b[1;32m      2\u001b[0m \u001b[39mprint\u001b[39m(\u001b[39m\"\u001b[39m\u001b[39mononon\u001b[39m\u001b[39m\"\u001b[39m\u001b[39m.\u001b[39mindex(\u001b[39m\"\u001b[39m\u001b[39mon\u001b[39m\u001b[39m\"\u001b[39m))\n\u001b[1;32m      3\u001b[0m \u001b[39mprint\u001b[39m(s\u001b[39m.\u001b[39mindex(\u001b[39m\"\u001b[39m\u001b[39mham\u001b[39m\u001b[39m\"\u001b[39m))\n\u001b[0;32m----> 4\u001b[0m \u001b[39mprint\u001b[39m(s\u001b[39m.\u001b[39;49mindex(\u001b[39m\"\u001b[39;49m\u001b[39mgem\u001b[39;49m\u001b[39m\"\u001b[39;49m))\n",
      "\u001b[0;31mValueError\u001b[0m: substring not found"
     ]
    }
   ],
   "source": [
    "print(s.index(\"spam\")) # returns the lowest index in s where substring <sub> is found and throws exception if <sub> not found\n",
    "print(\"ononon\".index(\"on\"))\n",
    "print(s.index(\"ham\"))\n",
    "print(s.index(\"gem\"))"
   ]
  },
  {
   "cell_type": "code",
   "execution_count": 29,
   "metadata": {},
   "outputs": [
    {
     "name": "stdout",
     "output_type": "stream",
     "text": [
      "13\n",
      "23\n",
      "-1\n",
      "0\n",
      "13\n"
     ]
    }
   ],
   "source": [
    "print(s.rfind(\"spam\")) # returns the highest index in s where substring <sub> is found and returns -1 if <sub> not found.\n",
    "print(s.rfind(\"game\"))\n",
    "print(s.rfind(\"gem\"))\n",
    "print(s.rfind(\"spam\",0,10))\n",
    "print(s.rfind(\"spam\",10))\n"
   ]
  },
  {
   "cell_type": "code",
   "execution_count": 31,
   "metadata": {},
   "outputs": [
    {
     "name": "stdout",
     "output_type": "stream",
     "text": [
      "13\n",
      "23\n",
      "0\n",
      "13\n"
     ]
    },
    {
     "ename": "ValueError",
     "evalue": "substring not found",
     "output_type": "error",
     "traceback": [
      "\u001b[0;31m---------------------------------------------------------------------------\u001b[0m",
      "\u001b[0;31mValueError\u001b[0m                                Traceback (most recent call last)",
      "Cell \u001b[0;32mIn[31], line 5\u001b[0m\n\u001b[1;32m      3\u001b[0m \u001b[39mprint\u001b[39m(s\u001b[39m.\u001b[39mrindex(\u001b[39m\"\u001b[39m\u001b[39mspam\u001b[39m\u001b[39m\"\u001b[39m,\u001b[39m0\u001b[39m,\u001b[39m10\u001b[39m))\n\u001b[1;32m      4\u001b[0m \u001b[39mprint\u001b[39m(s\u001b[39m.\u001b[39mrindex(\u001b[39m\"\u001b[39m\u001b[39mspam\u001b[39m\u001b[39m\"\u001b[39m,\u001b[39m10\u001b[39m))\n\u001b[0;32m----> 5\u001b[0m \u001b[39mprint\u001b[39m(s\u001b[39m.\u001b[39;49mrindex(\u001b[39m\"\u001b[39;49m\u001b[39mgem\u001b[39;49m\u001b[39m\"\u001b[39;49m))\n",
      "\u001b[0;31mValueError\u001b[0m: substring not found"
     ]
    }
   ],
   "source": [
    "print(s.rindex(\"spam\")) # returns the highest index in s where substring <sub> is found and throws exception if <sub> not found\n",
    "print(s.rindex(\"game\"))\n",
    "print(s.rindex(\"spam\",0,10))\n",
    "print(s.rindex(\"spam\",10))\n",
    "print(s.rindex(\"gem\"))"
   ]
  },
  {
   "attachments": {},
   "cell_type": "markdown",
   "metadata": {},
   "source": [
    "### Character classification\n",
    "\n"
   ]
  },
  {
   "cell_type": "code",
   "execution_count": 35,
   "metadata": {},
   "outputs": [
    {
     "name": "stdout",
     "output_type": "stream",
     "text": [
      "True\n",
      "False\n",
      "True\n",
      "True\n",
      "False\n"
     ]
    }
   ],
   "source": [
    "print(\"abc123\".isalnum()) # returns True if s is nonempty and all its characters are alphanumeric (either a letter or a number), and False otherwise\n",
    "print('abc#123'.isalnum())\n",
    "print('abc'.isalnum())\n",
    "print('123'.isalnum())\n",
    "print('_12acas'.isalnum())"
   ]
  },
  {
   "cell_type": "code",
   "execution_count": 37,
   "metadata": {},
   "outputs": [
    {
     "name": "stdout",
     "output_type": "stream",
     "text": [
      "False\n",
      "False\n",
      "True\n",
      "True\n",
      "False\n",
      "False\n"
     ]
    }
   ],
   "source": [
    "print(\"abc123\".isalpha()) # returns True if s is nonempty and all its characters are alphabetic, and False otherwise:\n",
    "print('abc#123'.isalpha())\n",
    "print('abc'.isalpha())\n",
    "print('ABC'.isalpha())\n",
    "print('123'.isalpha())\n",
    "print('_12acas'.isalpha())"
   ]
  },
  {
   "cell_type": "code",
   "execution_count": 39,
   "metadata": {},
   "outputs": [
    {
     "name": "stdout",
     "output_type": "stream",
     "text": [
      "False\n",
      "False\n",
      "False\n",
      "False\n",
      "True\n",
      "False\n",
      "False\n"
     ]
    }
   ],
   "source": [
    "print(\"abc123\".isdigit()) # returns True if s is nonempty and all its characters are numeric, and False otherwise:\n",
    "print('abc#123'.isdigit())\n",
    "print('abc'.isdigit())\n",
    "print('ABC'.isdigit())\n",
    "print('123'.isdigit())\n",
    "print('_12acas'.isdigit())\n",
    "print(''.isdigit())"
   ]
  },
  {
   "cell_type": "code",
   "execution_count": 41,
   "metadata": {},
   "outputs": [
    {
     "name": "stdout",
     "output_type": "stream",
     "text": [
      "True\n",
      "False\n",
      "False\n",
      "True\n",
      "False\n"
     ]
    }
   ],
   "source": [
    "print('abc'.isidentifier()) # returns True if s is a valid Python identifier according to the language definition, and False otherwise\n",
    "print('123'.isidentifier())\n",
    "print(''.isidentifier())\n",
    "print('def'.isidentifier()) # return True for a string that matches a Python keyword even though that would not actually be a valid identifier\n",
    "print('123$@12avc'.isidentifier())\n"
   ]
  },
  {
   "cell_type": "code",
   "execution_count": 43,
   "metadata": {},
   "outputs": [
    {
     "name": "stdout",
     "output_type": "stream",
     "text": [
      "True\n",
      "False\n",
      "False\n",
      "False\n",
      "False\n",
      "True\n",
      "False\n"
     ]
    }
   ],
   "source": [
    "print(\"abc\".islower()) # returns True if s is nonempty and all the alphabetic characters it contains are lowercase, and False otherwise. Non-alphabetic characters are ignored\n",
    "print('Abc'.islower())\n",
    "print('Abc123'.islower())\n",
    "print('123'.islower())\n",
    "print('#$%'.islower())\n",
    "print('_123@abc'.islower())\n",
    "print('_123'.islower())"
   ]
  },
  {
   "cell_type": "code",
   "execution_count": 45,
   "metadata": {},
   "outputs": [
    {
     "name": "stdout",
     "output_type": "stream",
     "text": [
      "True\n",
      "False\n",
      "False\n",
      "False\n",
      "False\n",
      "False\n",
      "True\n",
      "False\n"
     ]
    }
   ],
   "source": [
    "print(\"ABC\".isupper()) # returns True if s is nonempty and all the alphabetic characters it contains are uppercase, and False otherwise. Non-alphabetic characters are ignored\n",
    "print('abc'.isupper())\n",
    "print('Abc'.isupper())\n",
    "print('Abc123'.isupper())\n",
    "print('123'.isupper())\n",
    "print('#$%'.isupper())\n",
    "print('_123@ABC'.isupper())\n",
    "print('_123'.isupper())"
   ]
  },
  {
   "cell_type": "code",
   "execution_count": 49,
   "metadata": {},
   "outputs": [
    {
     "name": "stdout",
     "output_type": "stream",
     "text": [
      "False\n",
      "True\n",
      "False\n",
      "False\n",
      "True\n"
     ]
    }
   ],
   "source": [
    "print('The Sun rises in the EAST'.istitle()) # returns True if s is nonempty, the first alphabetic character of each word is uppercase, and all other alphabetic characters in each word are lowercase. It returns False otherwise:\n",
    "print('The Sun Rises In The East'.istitle())\n",
    "print('The SUN Rises In The East'.istitle())\n",
    "print(\"Santa's house\".istitle())\n",
    "print(\"The House Number Is 123\".istitle()) # Non-alphabetic characters are ignored \n"
   ]
  },
  {
   "cell_type": "code",
   "execution_count": 54,
   "metadata": {},
   "outputs": [
    {
     "name": "stdout",
     "output_type": "stream",
     "text": [
      "False\n",
      "True\n",
      "False\n",
      "True\n",
      "True\n"
     ]
    }
   ],
   "source": [
    "print(\"a\\t\\nb\".isprintable())# returns True if s is empty or all the alphabetic characters it contains are printable. It returns False if s contains at least one non-printable character. Non-alphabetic characters are ignored\n",
    "print(\"a b\".isprintable())\n",
    "print('\\n\\t'.isprintable())\n",
    "print(\"\".isprintable()) # this is the only method which returns true for empty string\n",
    "print(\" \".isprintable())"
   ]
  },
  {
   "cell_type": "code",
   "execution_count": 57,
   "metadata": {},
   "outputs": [
    {
     "name": "stdout",
     "output_type": "stream",
     "text": [
      "True\n",
      "True\n",
      "False\n",
      "True\n"
     ]
    }
   ],
   "source": [
    "print(\" \".isspace()) # returns True if s is nonempty and all characters are whitespace characters, and False otherwise\n",
    "print(\"\\t\\n\".isspace())\n",
    "print(\" a \".isspace())\n",
    "print('\\f\\u2005\\r'.isspace())"
   ]
  },
  {
   "cell_type": "code",
   "execution_count": 60,
   "metadata": {},
   "outputs": [
    {
     "name": "stdout",
     "output_type": "stream",
     "text": [
      "True\n",
      "False\n",
      "True\n"
     ]
    }
   ],
   "source": [
    "print(\"abc123$%^\".isascii()) # returns True if all characters in string are ASCII. ASCII characters code points are in the range of U+0000 to U+007F(first 128).\n",
    "print(\"ð\".isascii())\n",
    "print(\"\".isascii())"
   ]
  },
  {
   "cell_type": "code",
   "execution_count": 62,
   "metadata": {},
   "outputs": [
    {
     "data": {
      "text/plain": [
       "0"
      ]
     },
     "execution_count": 62,
     "metadata": {},
     "output_type": "execute_result"
    }
   ],
   "source": []
  },
  {
   "cell_type": "code",
   "execution_count": null,
   "metadata": {},
   "outputs": [],
   "source": []
  },
  {
   "cell_type": "code",
   "execution_count": null,
   "metadata": {},
   "outputs": [],
   "source": []
  },
  {
   "cell_type": "code",
   "execution_count": null,
   "metadata": {},
   "outputs": [],
   "source": []
  },
  {
   "cell_type": "code",
   "execution_count": null,
   "metadata": {},
   "outputs": [],
   "source": []
  },
  {
   "cell_type": "code",
   "execution_count": null,
   "metadata": {},
   "outputs": [],
   "source": []
  },
  {
   "cell_type": "code",
   "execution_count": null,
   "metadata": {},
   "outputs": [],
   "source": []
  },
  {
   "cell_type": "code",
   "execution_count": null,
   "metadata": {},
   "outputs": [],
   "source": []
  },
  {
   "cell_type": "code",
   "execution_count": null,
   "metadata": {},
   "outputs": [],
   "source": []
  },
  {
   "cell_type": "code",
   "execution_count": null,
   "metadata": {},
   "outputs": [],
   "source": []
  },
  {
   "cell_type": "code",
   "execution_count": null,
   "metadata": {},
   "outputs": [],
   "source": []
  }
 ],
 "metadata": {
  "kernelspec": {
   "display_name": "Python 3",
   "language": "python",
   "name": "python3"
  },
  "language_info": {
   "codemirror_mode": {
    "name": "ipython",
    "version": 3
   },
   "file_extension": ".py",
   "mimetype": "text/x-python",
   "name": "python",
   "nbconvert_exporter": "python",
   "pygments_lexer": "ipython3",
   "version": "3.9.6"
  },
  "orig_nbformat": 4,
  "vscode": {
   "interpreter": {
    "hash": "31f2aee4e71d21fbe5cf8b01ff0e069b9275f58929596ceb00d14d90e3e16cd6"
   }
  }
 },
 "nbformat": 4,
 "nbformat_minor": 2
}
