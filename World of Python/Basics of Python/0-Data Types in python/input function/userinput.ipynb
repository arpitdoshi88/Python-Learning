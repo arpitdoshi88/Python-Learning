{
 "cells": [
  {
   "cell_type": "markdown",
   "metadata": {},
   "source": [
    "#### In Python, We use input function to take user input. This function returns string."
   ]
  },
  {
   "cell_type": "code",
   "execution_count": 2,
   "metadata": {},
   "outputs": [
    {
     "name": "stdout",
     "output_type": "stream",
     "text": [
      "My name is:  arpit\n"
     ]
    }
   ],
   "source": [
    "var = input(\"Enter your name\")\n",
    "print(\"My name is: \",var )"
   ]
  },
  {
   "cell_type": "markdown",
   "metadata": {},
   "source": [
    " By default input() function helps in taking user input as string.\n",
    "If any user wants to take input as int or float, we just need to typecast it."
   ]
  },
  {
   "cell_type": "code",
   "execution_count": 3,
   "metadata": {},
   "outputs": [
    {
     "name": "stdout",
     "output_type": "stream",
     "text": [
      "red\n",
      "4\n",
      "100.0\n"
     ]
    }
   ],
   "source": [
    "# Taking input as string\n",
    "color = input(\"What color is rose?: \")\n",
    "print(color)\n",
    "\n",
    "# Taking input as int\n",
    "# Typecasting to int\n",
    "n = int(input(\"How many roses?: \"))\n",
    "print(n)\n",
    "\n",
    "# Taking input as float\n",
    "# Typecasting to float\n",
    "price = float(input(\"Price of each rose?: \"))\n",
    "print(price)"
   ]
  }
 ],
 "metadata": {
  "kernelspec": {
   "display_name": "Python 3",
   "language": "python",
   "name": "python3"
  },
  "language_info": {
   "codemirror_mode": {
    "name": "ipython",
    "version": 3
   },
   "file_extension": ".py",
   "mimetype": "text/x-python",
   "name": "python",
   "nbconvert_exporter": "python",
   "pygments_lexer": "ipython3",
   "version": "3.11.5"
  }
 },
 "nbformat": 4,
 "nbformat_minor": 2
}
