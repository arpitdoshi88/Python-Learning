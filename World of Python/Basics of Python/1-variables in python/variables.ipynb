{
 "cells": [
  {
   "attachments": {},
   "cell_type": "markdown",
   "metadata": {},
   "source": [
    "variables in python are case sensitive. it can be of any length but cannot start with digits. \n",
    "it can have underscores or Unicode characters\n",
    "\n",
    "In Python everything is object\n"
   ]
  },
  {
   "cell_type": "code",
   "execution_count": 1,
   "metadata": {},
   "outputs": [
    {
     "name": "stdout",
     "output_type": "stream",
     "text": [
      "100\n",
      "value of m and n are 100 , 100\n",
      "True\n"
     ]
    }
   ],
   "source": [
    "# what happens when you initialize a variable in python as below\n",
    "n=100 # python interpreter will create an object with value 100 and it will give the pointer or reference to the object with name n\n",
    "print(n,sep='\\n')\n",
    "# multiple variable assignment\n",
    "m=n=100  ## interpreter will create only one object and both m and n will point to this same object with value 100\n",
    "print(f'value of m and n are {m} , {n}')\n",
    "print(id(m) == id(n)) ## true as both m and n are pointing to same object\n"
   ]
  },
  {
   "cell_type": "code",
   "execution_count": 2,
   "metadata": {},
   "outputs": [
    {
     "name": "stdout",
     "output_type": "stream",
     "text": [
      "a is 10 and b is 20\n",
      "id of a is 4370885888\n",
      "id of b is 4370886208\n"
     ]
    }
   ],
   "source": [
    "##multiple assignment\n",
    "a,b = 10,20  # for multiple assignment no of variables in left side must be same as no of values in right side of assignment operator\n",
    "print(f'a is {a} and b is {b}')  \n",
    "\n",
    "##object identity\n",
    "print('id of a is', id(a))\n",
    "print('id of b is', id(b))"
   ]
  },
  {
   "cell_type": "code",
   "execution_count": 3,
   "metadata": {},
   "outputs": [
    {
     "name": "stdout",
     "output_type": "stream",
     "text": [
      "False\n",
      "4567879216 4567879632\n",
      "\n"
     ]
    }
   ],
   "source": [
    "## small integer caching\n",
    "##python caches small integer from -5 to 256. It creates int object for this value in the memory as these numbers are mostly used many times\n",
    "m= 300\n",
    "n = 300\n",
    "print(m is n) ## identity operator 'is' check if id of both m and is same\n",
    "print(id(m) , id(n))\n",
    "print()\n"
   ]
  },
  {
   "cell_type": "code",
   "execution_count": 4,
   "metadata": {},
   "outputs": [
    {
     "name": "stdout",
     "output_type": "stream",
     "text": [
      "True\n",
      "True\n"
     ]
    }
   ],
   "source": [
    "a=100\n",
    "b=100\n",
    "print(a is b)\n",
    "print(id(a) == id(b))\n"
   ]
  },
  {
   "attachments": {},
   "cell_type": "markdown",
   "metadata": {},
   "source": [
    "What will be the value of a in below programme?\n",
    "\n",
    "a,b= 250,250\n",
    "\n",
    "        for _ in range(250,260):\n",
    "            if a is not b:\n",
    "                print(id(a) , id(b))\n",
    "                break\n",
    "            a += 1\n",
    "            b += 1\n",
    "        print(a)"
   ]
  },
  {
   "cell_type": "code",
   "execution_count": 5,
   "metadata": {},
   "outputs": [
    {
     "name": "stdout",
     "output_type": "stream",
     "text": [
      "4567879120 4567879568\n",
      "257\n",
      "257\n"
     ]
    }
   ],
   "source": [
    "a,b= 250,250\n",
    "\n",
    "for _ in range(250,260):\n",
    "    if a is not b:\n",
    "        print(id(a) , id(b))\n",
    "        break\n",
    "    a += 1\n",
    "    b += 1\n",
    "print(a)\n",
    "print(b)"
   ]
  },
  {
   "cell_type": "code",
   "execution_count": 6,
   "metadata": {},
   "outputs": [],
   "source": [
    "##orphan objects in python are cleared from the memory thrugh garbage collection\n",
    "m=100\n",
    "n=100\n",
    "m= n = 150 #so integer object of value 100 is now orphaned and it will be cleared from the memory through gc\n"
   ]
  },
  {
   "cell_type": "code",
   "execution_count": 7,
   "metadata": {},
   "outputs": [
    {
     "name": "stdout",
     "output_type": "stream",
     "text": [
      "\n",
      "Here is a list of the Python keywords.  Enter any keyword to get more help.\n",
      "\n",
      "False               class               from                or\n",
      "None                continue            global              pass\n",
      "True                def                 if                  raise\n",
      "and                 del                 import              return\n",
      "as                  elif                in                  try\n",
      "assert              else                is                  while\n",
      "async               except              lambda              with\n",
      "await               finally             nonlocal            yield\n",
      "break               for                 not                 \n",
      "\n"
     ]
    }
   ],
   "source": [
    "\n",
    "##python 3.9 has 36 reserved keywords which cannot be used as a variable names\n",
    "help(\"keywords\")"
   ]
  },
  {
   "cell_type": "code",
   "execution_count": null,
   "metadata": {},
   "outputs": [],
   "source": []
  }
 ],
 "metadata": {
  "kernelspec": {
   "display_name": "Python 3",
   "language": "python",
   "name": "python3"
  },
  "language_info": {
   "codemirror_mode": {
    "name": "ipython",
    "version": 3
   },
   "file_extension": ".py",
   "mimetype": "text/x-python",
   "name": "python",
   "nbconvert_exporter": "python",
   "pygments_lexer": "ipython3",
   "version": "3.8.16"
  },
  "orig_nbformat": 4,
  "vscode": {
   "interpreter": {
    "hash": "31f2aee4e71d21fbe5cf8b01ff0e069b9275f58929596ceb00d14d90e3e16cd6"
   }
  }
 },
 "nbformat": 4,
 "nbformat_minor": 2
}
