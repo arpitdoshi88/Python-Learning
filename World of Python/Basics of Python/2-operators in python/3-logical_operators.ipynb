{
 "cells": [
  {
   "attachments": {},
   "cell_type": "markdown",
   "metadata": {},
   "source": [
    "## Logical Operators\n",
    "\n",
    "The logical operators `not`, `or`, and `and` modify and join together expressions evaluated in Boolean context to create more complex conditions."
   ]
  },
  {
   "cell_type": "code",
   "execution_count": 1,
   "metadata": {},
   "outputs": [
    {
     "name": "stdout",
     "output_type": "stream",
     "text": [
      "<class 'bool'>\n",
      "<class 'bool'>\n"
     ]
    }
   ],
   "source": [
    "x= 100\n",
    "print(type(x > 100))\n",
    "print(type(callable(x)))"
   ]
  },
  {
   "attachments": {},
   "cell_type": "markdown",
   "metadata": {},
   "source": [
    "## Below are the list of logical operators\n",
    "\n",
    "| Operator | Example | Meaning                             |\n",
    "|----------|---------|-------------------------------------|\n",
    "| not      | not x   | True if x is False, False if x is True, (Logically reverses the sense of x)                  |\n",
    "| or       | x or y  | True if either x or y is True, False otherwise       |\n",
    "| and      | x and y | True if both x and y are True, False otherwise       |"
   ]
  },
  {
   "cell_type": "code",
   "execution_count": 2,
   "metadata": {},
   "outputs": [
    {
     "name": "stdout",
     "output_type": "stream",
     "text": [
      "False\n",
      "<class 'bool'>\n",
      "True\n"
     ]
    }
   ],
   "source": [
    "x = 100\n",
    "print(not x < 150)\n",
    "print(type(callable(x)))\n",
    "print(not callable(x))"
   ]
  },
  {
   "cell_type": "code",
   "execution_count": 7,
   "metadata": {},
   "outputs": [
    {
     "name": "stdout",
     "output_type": "stream",
     "text": [
      "True\n",
      "False\n"
     ]
    }
   ],
   "source": [
    "print(x <= 100 or callable(x))\n",
    "print(x > 99 and callable(x))"
   ]
  },
  {
   "attachments": {},
   "cell_type": "markdown",
   "metadata": {},
   "source": [
    "All the following are considered false when evaluated in Boolean context:\n",
    "\n",
    "- The Boolean value False\n",
    "- Any value that is numerically zero (0, 0.0, 0.0+0.0j)\n",
    "- An empty string\n",
    "- An object of a built-in composite data type which is empty (see below)\n",
    "- The special value denoted by the Python keyword None"
   ]
  },
  {
   "cell_type": "code",
   "execution_count": 4,
   "metadata": {},
   "outputs": [
    {
     "name": "stdout",
     "output_type": "stream",
     "text": [
      "False\n",
      "False False False\n"
     ]
    }
   ],
   "source": [
    "print(bool(False))\n",
    "## a zero value is always false\n",
    "print(bool(0), bool(0.0), bool(0+0j))\n"
   ]
  },
  {
   "cell_type": "code",
   "execution_count": 9,
   "metadata": {},
   "outputs": [
    {
     "name": "stdout",
     "output_type": "stream",
     "text": [
      "False True\n"
     ]
    }
   ],
   "source": [
    "#an empty string is always false\n",
    "print(bool(\"\"),bool(\"a\"))"
   ]
  },
  {
   "attachments": {},
   "cell_type": "markdown",
   "metadata": {},
   "source": [
    "Python provides built-in composite data types called list, tuple, dict, and set. These are “container” types that contain other objects. An object of one of these types is considered false if it is empty and true if it is non-empty."
   ]
  },
  {
   "cell_type": "code",
   "execution_count": 5,
   "metadata": {},
   "outputs": [
    {
     "name": "stdout",
     "output_type": "stream",
     "text": [
      "False True\n",
      "False True\n",
      "False True\n",
      "False\n"
     ]
    }
   ],
   "source": [
    "print(bool([]), bool([1,2,3]))  #list\n",
    "print(bool(()), bool((1,2,3)))  #tuple\n",
    "print(bool({}), bool({1,2,3}))  #set\n",
    "print(bool(dict()))  #dictionary"
   ]
  },
  {
   "cell_type": "code",
   "execution_count": 6,
   "metadata": {},
   "outputs": [
    {
     "name": "stdout",
     "output_type": "stream",
     "text": [
      "False\n"
     ]
    }
   ],
   "source": [
    "# None is always false\n",
    "print(bool(None))"
   ]
  },
  {
   "attachments": {},
   "cell_type": "markdown",
   "metadata": {},
   "source": [
    "## Logical Expressions Involving Non-Boolean Operands\n",
    "\n",
    "- ### “not” and Non-Boolean Operands\n",
    "            Here is what happens for a non-Boolean value x:\n",
    "\n",
    "            | If x is  | not x is |\n",
    "            |----------|----------|\n",
    "            | “truthy” | FALSE    |\n",
    "            | “falsy”  | TRUE     |\n",
    "\n",
    "- ### “or” and Non-Boolean Operands\n",
    "            This is what happens for two non-Boolean values x and y:\n",
    "\n",
    "            | If x is | x or y is |\n",
    "            |---------|-----------|\n",
    "            | truthy  | x         |\n",
    "            | falsy   | y         |\n",
    "\n",
    "\n",
    "- ### “and” and Non-Boolean Operands\n",
    "            Here’s what you’ll get for two non-Boolean values x and y:\n",
    "\n",
    "            | If x is  | x and y is |\n",
    "            |----------|------------|\n",
    "            | “truthy” | y          |\n",
    "            | “falsy”  | x          |"
   ]
  },
  {
   "cell_type": "code",
   "execution_count": 13,
   "metadata": {},
   "outputs": [
    {
     "name": "stdout",
     "output_type": "stream",
     "text": [
      "True\n",
      "False\n"
     ]
    }
   ],
   "source": [
    "x= 100\n",
    "print(bool(x))\n",
    "print(not x)"
   ]
  },
  {
   "cell_type": "code",
   "execution_count": 16,
   "metadata": {},
   "outputs": [
    {
     "name": "stdout",
     "output_type": "stream",
     "text": [
      "100\n",
      "150\n",
      "150\n"
     ]
    }
   ],
   "source": [
    "x = 100\n",
    "y = 150\n",
    "print(x or y)\n",
    "print(not x or y)\n",
    "\n",
    "x=0\n",
    "print(x or y)"
   ]
  },
  {
   "cell_type": "code",
   "execution_count": 17,
   "metadata": {},
   "outputs": [
    {
     "name": "stdout",
     "output_type": "stream",
     "text": [
      "150\n",
      "0\n"
     ]
    }
   ],
   "source": [
    "x =100\n",
    "print(x and y)\n",
    "x=0\n",
    "print(x and y)"
   ]
  },
  {
   "attachments": {},
   "cell_type": "markdown",
   "metadata": {},
   "source": [
    "### Compound “or” Expressions\n",
    "\n",
    "Consider the following expression:\n",
    "\n",
    "x1 or x2 or x3 or … xn\n",
    "\n",
    "This expression is true if any of the xi are true.\n",
    "\n",
    "In an expression like this, Python uses a methodology called short-circuit evaluation, also called McCarthy evaluation in honor of computer scientist John McCarthy. The xi operands are evaluated in order from left to right. As soon as one is found to be true, the entire expression is known to be true. At that point, Python stops and no more terms are evaluated. The value of the entire expression is that of the xi that terminated evaluation.\n",
    "\n",
    "To help demonstrate short-circuit evaluation, suppose that you have a simple “identity” function f() that behaves as follows:\n",
    "\n",
    "- f() takes a single argument.\n",
    "- It displays the argument to the console.\n",
    "- It returns the argument passed to it as its return value."
   ]
  },
  {
   "cell_type": "code",
   "execution_count": 18,
   "metadata": {},
   "outputs": [],
   "source": [
    "def f(a):\n",
    "    print(a)\n",
    "    return a"
   ]
  },
  {
   "cell_type": "code",
   "execution_count": 19,
   "metadata": {},
   "outputs": [
    {
     "name": "stdout",
     "output_type": "stream",
     "text": [
      "0\n",
      "False\n",
      "1\n",
      "a is  1\n"
     ]
    }
   ],
   "source": [
    "a = f(0) or f(False) or f(1)\n",
    "print(\"a is \",a)"
   ]
  },
  {
   "attachments": {},
   "cell_type": "markdown",
   "metadata": {},
   "source": [
    "Compound “and” Expressions\n",
    "A similar situation exists in an expression with multiple and operators:\n",
    "\n",
    "x1 and x2 and x3 and … xn\n",
    "\n",
    "This expression is true if all the xi are true.\n",
    "\n",
    "In this case, short-circuit evaluation dictates that the interpreter stop evaluating as soon as any operand is found to be false, because at that point the entire expression is known to be false. Once that is the case, no more operands are evaluated, and the falsy operand that terminated evaluation is returned as the value of the expression:"
   ]
  },
  {
   "cell_type": "code",
   "execution_count": 20,
   "metadata": {},
   "outputs": [
    {
     "name": "stdout",
     "output_type": "stream",
     "text": [
      "1\n",
      "2\n",
      "0\n",
      "0\n"
     ]
    }
   ],
   "source": [
    "a = f(1) and f(2) and f(0) and f(True)\n",
    "print(a)"
   ]
  },
  {
   "cell_type": "code",
   "execution_count": 23,
   "metadata": {},
   "outputs": [
    {
     "name": "stdout",
     "output_type": "stream",
     "text": [
      "1\n",
      "abc\n",
      "True\n",
      "4j\n",
      "None\n",
      "None\n"
     ]
    }
   ],
   "source": [
    "\n",
    "a = f(1) and f(\"abc\") and f(True) and f(4j) and f(None)\n",
    "print(a)\n"
   ]
  },
  {
   "attachments": {},
   "cell_type": "markdown",
   "metadata": {},
   "source": [
    "Idioms That Exploit Short-Circuit Evaluation\n",
    "There are some common idiomatic patterns that exploit short-circuit evaluation for conciseness of expression.\n",
    "\n",
    "Avoiding an Exception\n",
    "Suppose you have defined two variables a and b, and you want to know whether (b / a) > 0:\n",
    "\n"
   ]
  },
  {
   "cell_type": "code",
   "execution_count": 24,
   "metadata": {},
   "outputs": [
    {
     "name": "stdout",
     "output_type": "stream",
     "text": [
      "True\n"
     ]
    }
   ],
   "source": [
    "a , b = 1,3\n",
    "print(b/a > 0)"
   ]
  },
  {
   "cell_type": "code",
   "execution_count": 25,
   "metadata": {},
   "outputs": [
    {
     "ename": "ZeroDivisionError",
     "evalue": "division by zero",
     "output_type": "error",
     "traceback": [
      "\u001b[0;31m---------------------------------------------------------------------------\u001b[0m",
      "\u001b[0;31mZeroDivisionError\u001b[0m                         Traceback (most recent call last)",
      "Cell \u001b[0;32mIn[25], line 2\u001b[0m\n\u001b[1;32m      1\u001b[0m a,b \u001b[39m=\u001b[39m \u001b[39m0\u001b[39m,\u001b[39m3\u001b[39m\n\u001b[0;32m----> 2\u001b[0m \u001b[39mprint\u001b[39m(b\u001b[39m/\u001b[39;49ma \u001b[39m>\u001b[39m \u001b[39m0\u001b[39m)\n",
      "\u001b[0;31mZeroDivisionError\u001b[0m: division by zero"
     ]
    }
   ],
   "source": [
    "a,b = 0,3\n",
    "print(b/a > 0)"
   ]
  },
  {
   "cell_type": "code",
   "execution_count": 26,
   "metadata": {},
   "outputs": [
    {
     "data": {
      "text/plain": [
       "False"
      ]
     },
     "execution_count": 26,
     "metadata": {},
     "output_type": "execute_result"
    }
   ],
   "source": [
    "# You can avoid an error with an expression like this:\n",
    "# When a is 0, a != 0 is false. Short-circuit evaluation ensures that evaluation stops at that point. (b / a) is not evaluated, and no error is raised.\n",
    "a != 0 and b/a > 0"
   ]
  },
  {
   "cell_type": "code",
   "execution_count": 31,
   "metadata": {},
   "outputs": [
    {
     "data": {
      "text/plain": [
       "True"
      ]
     },
     "execution_count": 31,
     "metadata": {},
     "output_type": "execute_result"
    }
   ],
   "source": [
    "# If fact, you can be even more concise than that. When a is 0, the expression a by itself is falsy. There is no need for the explicit comparison a != 0\n",
    "a and b/a > 0"
   ]
  },
  {
   "attachments": {},
   "cell_type": "markdown",
   "metadata": {},
   "source": [
    "Another idiom involves selecting a default value when a specified value is zero or empty. For example, suppose you want to assign a variable s to the value contained in another variable called string. But if string is empty, you want to supply a default value.\n",
    "\n",
    "s = String or \"\\<defaultvalue\\>\""
   ]
  },
  {
   "cell_type": "code",
   "execution_count": 32,
   "metadata": {},
   "outputs": [
    {
     "name": "stdout",
     "output_type": "stream",
     "text": [
      "abc\n",
      "This is a string\n"
     ]
    }
   ],
   "source": [
    "a = \"\" or \"abc\"\n",
    "print(a)\n",
    "print(\"This is a string\" or \"abc\")\n"
   ]
  },
  {
   "attachments": {},
   "cell_type": "markdown",
   "metadata": {},
   "source": [
    "## Chained comparision\n",
    "Comparison operators can be chained together to arbitrary length. For example, the following expressions are nearly equivalent:\n",
    "\n",
    "- x < y <= z\n",
    "- x < y and y <=z\n",
    "\n",
    "\n",
    "They will both evaluate to the same Boolean value. The subtle difference between the two is that in the chained comparison x < y <= z, y is evaluated only once. The longer expression x < y and y <= z will cause y to be evaluated twice.\n"
   ]
  },
  {
   "cell_type": "code",
   "execution_count": 36,
   "metadata": {},
   "outputs": [
    {
     "data": {
      "text/plain": [
       "False"
      ]
     },
     "execution_count": 36,
     "metadata": {},
     "output_type": "execute_result"
    }
   ],
   "source": [
    "x,y,z=3,7,4\n",
    "x < y and y <=z"
   ]
  },
  {
   "cell_type": "code",
   "execution_count": null,
   "metadata": {},
   "outputs": [],
   "source": [
    "# a\n",
    "## arpit\n",
    "\n",
    "###### arpit"
   ]
  },
  {
   "attachments": {},
   "cell_type": "markdown",
   "metadata": {},
   "source": [
    "# a\n",
    "### arpit\n",
    "\n",
    "###### 1. arpit\n",
    "\n",
    "dadasdsad ada ads\n",
    "\n",
    "> *d* asdasdaa"
   ]
  },
  {
   "cell_type": "code",
   "execution_count": 13,
   "metadata": {},
   "outputs": [
    {
     "data": {
      "text/plain": [
       "[0, 1, 1]"
      ]
     },
     "execution_count": 13,
     "metadata": {},
     "output_type": "execute_result"
    }
   ],
   "source": [
    "x= [1,0,1]\n",
    "y = [1,1,0]\n",
    "\n",
    "list(map(lambda X,Y:X^Y, x,y))"
   ]
  },
  {
   "attachments": {},
   "cell_type": "markdown",
   "metadata": {},
   "source": [
    "[1] # python\n",
    "### asda\n",
    "##### 1.asdas\n",
    "asdasdasdasdas\n",
    " > *sdasasd* asdasd"
   ]
  }
 ],
 "metadata": {
  "kernelspec": {
   "display_name": "Python 3",
   "language": "python",
   "name": "python3"
  },
  "language_info": {
   "codemirror_mode": {
    "name": "ipython",
    "version": 3
   },
   "file_extension": ".py",
   "mimetype": "text/x-python",
   "name": "python",
   "nbconvert_exporter": "python",
   "pygments_lexer": "ipython3",
   "version": "3.8.16"
  },
  "orig_nbformat": 4,
  "vscode": {
   "interpreter": {
    "hash": "31f2aee4e71d21fbe5cf8b01ff0e069b9275f58929596ceb00d14d90e3e16cd6"
   }
  }
 },
 "nbformat": 4,
 "nbformat_minor": 2
}
