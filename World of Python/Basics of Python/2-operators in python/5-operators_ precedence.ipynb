{
 "cells": [
  {
   "attachments": {},
   "cell_type": "markdown",
   "metadata": {},
   "source": [
    "#### Below table explains the order of precedence for python operators from lowes to highest"
   ]
  },
  {
   "attachments": {},
   "cell_type": "markdown",
   "metadata": {},
   "source": [
    "|                    | Operator                         | Description                                      |\n",
    "|--------------------|----------------------------------|--------------------------------------------------|\n",
    "| lowest precedence  | or                               | Boolean OR                                       |\n",
    "|                    | and                              | Boolean AND                                      |\n",
    "|                    | not                              | Boolean NOT                                      |\n",
    "|                    | ==, !=, <, <=, >, >=, is, is not | comparisons, identity                            |\n",
    "|                    | \\|                                | bitwise OR                                       |\n",
    "|                    | ^                                | bitwise XOR                                      |\n",
    "|                    | &                                | bitwise AND                                      |\n",
    "|                    | <<, >>                           | bit shifts                                       |\n",
    "|                    | +, -                             | addition, subtraction                            |\n",
    "|                    | *, /, //, %                      | multiplication, division, floor division, modulo |\n",
    "|                    | +x, -x, ~x                       | unary positive, unary negation, bitwise negation |\n",
    "| highest precedence | **                               | exponentiation                                   |"
   ]
  },
  {
   "cell_type": "code",
   "execution_count": 6,
   "metadata": {},
   "outputs": [
    {
     "data": {
      "text/plain": [
       "340"
      ]
     },
     "execution_count": 6,
     "metadata": {},
     "output_type": "execute_result"
    }
   ],
   "source": [
    "3 * 2 ** 4 * 5 + 100"
   ]
  },
  {
   "cell_type": "code",
   "execution_count": 7,
   "metadata": {},
   "outputs": [
    {
     "data": {
      "text/plain": [
       "5040"
      ]
     },
     "execution_count": 7,
     "metadata": {},
     "output_type": "execute_result"
    }
   ],
   "source": [
    "### operators precedence can be changed by using parentheses. Expressions in parenthese are alwas performed first\n",
    "3 * 2 ** 4 * (5 + 100)"
   ]
  },
  {
   "attachments": {},
   "cell_type": "markdown",
   "metadata": {},
   "source": [
    "There is nothing wrong with making liberal use of parentheses, even when they aren’t necessary to change the order of evaluation. In fact, it is considered good practice, because it can make the code more readable, and it relieves the reader of having to recall operator precedence from memory.\n",
    "Consider the following."
   ]
  },
  {
   "cell_type": "code",
   "execution_count": 10,
   "metadata": {},
   "outputs": [
    {
     "data": {
      "text/plain": [
       "False"
      ]
     },
     "execution_count": 10,
     "metadata": {},
     "output_type": "execute_result"
    }
   ],
   "source": [
    "(10 < 50) and (100 > 200)"
   ]
  },
  {
   "cell_type": "code",
   "execution_count": 12,
   "metadata": {},
   "outputs": [
    {
     "data": {
      "text/plain": [
       "False"
      ]
     },
     "execution_count": 12,
     "metadata": {},
     "output_type": "execute_result"
    }
   ],
   "source": [
    "10 < 50 and 100 > 200"
   ]
  },
  {
   "cell_type": "code",
   "execution_count": 13,
   "metadata": {},
   "outputs": [
    {
     "name": "stdout",
     "output_type": "stream",
     "text": [
      "True\n"
     ]
    }
   ],
   "source": [
    "x = 10.0\n",
    "y = (x < 100.0) and isinstance(x, float)\n",
    "print(y)"
   ]
  }
 ],
 "metadata": {
  "kernelspec": {
   "display_name": "Python 3",
   "language": "python",
   "name": "python3"
  },
  "language_info": {
   "codemirror_mode": {
    "name": "ipython",
    "version": 3
   },
   "file_extension": ".py",
   "mimetype": "text/x-python",
   "name": "python",
   "nbconvert_exporter": "python",
   "pygments_lexer": "ipython3",
   "version": "3.8.16"
  },
  "orig_nbformat": 4,
  "vscode": {
   "interpreter": {
    "hash": "31f2aee4e71d21fbe5cf8b01ff0e069b9275f58929596ceb00d14d90e3e16cd6"
   }
  }
 },
 "nbformat": 4,
 "nbformat_minor": 2
}
