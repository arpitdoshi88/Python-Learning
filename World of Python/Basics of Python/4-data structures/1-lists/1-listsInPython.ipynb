{
 "cells": [
  {
   "attachments": {},
   "cell_type": "markdown",
   "metadata": {},
   "source": [
    "Python list is a collection of arbitory objects and it is somewhat similar to Array in many other programming languages but more flexible.It is defined by enclosing a comma seperated elements in square brackets\n",
    "\n",
    "The important characteristics of Python lists are as follows:\n",
    "\n",
    "- Lists are `ordered`.\n",
    "- Lists can contain any arbitrary objects.\n",
    "- List elements can be accessed by index.\n",
    "- Lists can be nested to arbitrary depth.\n",
    "- Lists can `have duplicate elements`.\n",
    "- Lists are `mutable`.\n",
    "- Lists are dynamic."
   ]
  },
  {
   "cell_type": "code",
   "execution_count": 1,
   "metadata": {},
   "outputs": [
    {
     "name": "stdout",
     "output_type": "stream",
     "text": [
      "<class 'list'>\n"
     ]
    }
   ],
   "source": [
    "_list = [10,2,34,1213,123123]\n",
    "print(type(_list))"
   ]
  },
  {
   "cell_type": "code",
   "execution_count": 2,
   "metadata": {},
   "outputs": [
    {
     "name": "stdout",
     "output_type": "stream",
     "text": [
      "False\n",
      "False\n"
     ]
    }
   ],
   "source": [
    "##lists are ordered. Lists that have the same elements in a different order are not the same.\n",
    "##It is an ordered collection of objects. The order in which you specify the elements when you define a list is an innate characteristic of that list and is maintained for that list’s lifetime\n",
    "\n",
    "lst1 = ['foo','bar','spam','ham']\n",
    "lst2 = ['ham','foo','bar','spam']\n",
    "print(lst1==lst2)\n",
    "print([1,2,3,4]==[3,4,1,2])\n"
   ]
  },
  {
   "cell_type": "code",
   "execution_count": 3,
   "metadata": {},
   "outputs": [
    {
     "name": "stdout",
     "output_type": "stream",
     "text": [
      "<class 'list'>\n",
      "<class 'list'>\n"
     ]
    }
   ],
   "source": [
    "#List can contain any arbitory objects\n",
    "#The elements of list can be of same type or diff type. \n",
    "\n",
    "print(type([2,3,4,5]))\n",
    "print(type([2,3,4.4,'spam',False]))\n"
   ]
  },
  {
   "cell_type": "code",
   "execution_count": 4,
   "metadata": {},
   "outputs": [
    {
     "name": "stdout",
     "output_type": "stream",
     "text": [
      "<class 'list'>\n",
      "[<class 'int'>, <built-in function len>, <module 'math' from '/Users/arpit/opt/anaconda3/envs/myenv/lib/python3.9/lib-dynload/math.cpython-39-darwin.so'>, <function foo at 0x7f8898c2d040>]\n"
     ]
    }
   ],
   "source": [
    "#Lists can even contain complex objects, like functions, classes, and modules\n",
    "\n",
    "import math\n",
    "def foo():\n",
    "    pass\n",
    "print(type([int,len,math,foo]))\n",
    "print([int,len,math,foo])"
   ]
  },
  {
   "cell_type": "code",
   "execution_count": 1,
   "metadata": {},
   "outputs": [
    {
     "name": "stdout",
     "output_type": "stream",
     "text": [
      "[]\n",
      "[0, 1, 2, 3, 4, 5, 6, 7, 8, 9, 10, 11, 12, 13, 14, 15, 16, 17, 18, 19, 20, 21, 22, 23, 24, 25, 26, 27, 28, 29, 30, 31, 32, 33, 34, 35, 36, 37, 38, 39, 40, 41, 42, 43, 44, 45, 46, 47, 48, 49, 50, 51, 52, 53, 54, 55, 56, 57, 58, 59, 60, 61, 62, 63, 64, 65, 66, 67, 68, 69, 70, 71, 72, 73, 74, 75, 76, 77, 78, 79, 80, 81, 82, 83, 84, 85, 86, 87, 88, 89, 90, 91, 92, 93, 94, 95, 96, 97, 98, 99]\n"
     ]
    }
   ],
   "source": [
    "# A list can contain any number of objects, from zero to as many as your computer’s memory will allow\n",
    "a =[]\n",
    "print(a)\n",
    "b = [i for i in range(100)]\n",
    "print(b)\n"
   ]
  },
  {
   "cell_type": "code",
   "execution_count": 2,
   "metadata": {},
   "outputs": [
    {
     "name": "stdout",
     "output_type": "stream",
     "text": [
      "<class 'list'>  -->  ['foo']\n"
     ]
    }
   ],
   "source": [
    "### list with single element is called as singleton list\n",
    "c=['foo']\n",
    "print(type(c),' --> ',c)"
   ]
  },
  {
   "cell_type": "code",
   "execution_count": 3,
   "metadata": {},
   "outputs": [
    {
     "name": "stdout",
     "output_type": "stream",
     "text": [
      "['foo', 'bar', 'spam', 'tom', 'spam', 10, 20, 10, 20]\n"
     ]
    }
   ],
   "source": [
    "###list can have duplicates\n",
    "a = ['foo','bar','spam','tom','spam',10,20,10,20]\n",
    "print(a)"
   ]
  },
  {
   "cell_type": "code",
   "execution_count": 5,
   "metadata": {},
   "outputs": [
    {
     "name": "stdout",
     "output_type": "stream",
     "text": [
      "foo\n",
      "tom\n",
      "jerry\n"
     ]
    }
   ],
   "source": [
    "## List elements can be accessed by Index.\n",
    "#Individual elements in a list can be accessed using an index in square brackets. This is exactly analogous to accessing individual characters in a string. \n",
    "#List indexing is zero-based as it is with strings.\n",
    "\n",
    "list1 = ['foo','bar','spam','tom','jerry']\n",
    "print(list1[0])\n",
    "print(list1[3])\n",
    "print(list1[-1])\n"
   ]
  },
  {
   "cell_type": "code",
   "execution_count": 6,
   "metadata": {},
   "outputs": [
    {
     "name": "stdout",
     "output_type": "stream",
     "text": [
      "['bar', 'spam', 'tom']\n",
      "['bar', 'spam', 'tom']\n",
      "['bar', 'spam', 'tom', 'jerry']\n",
      "['foo', 'bar', 'spam', 'tom', 'jerry']\n"
     ]
    }
   ],
   "source": [
    "#Slicing also works. If a is a list, the expression a[m:n] returns the portion of a from index m to, but not including, index n\n",
    "print(list1[1:4])\n",
    "print(list1[-4:-1])\n",
    "print(list1[1:])\n",
    "print(list1[:len(list1)])\n"
   ]
  },
  {
   "cell_type": "code",
   "execution_count": 8,
   "metadata": {},
   "outputs": [
    {
     "name": "stdout",
     "output_type": "stream",
     "text": [
      "['foo', 'bar', 'spam', 'tom'] ['foo', 'bar', 'spam', 'tom']\n",
      "['foo', 'bar', 'spam', 'tom', 'jerry'] ['foo', 'bar', 'spam', 'tom', 'jerry']\n",
      "['foo', 'bar', 'spam', 'tom', 'jerry'] --> ['foo', 'bar', 'spam', 'tom', 'jerry']\n"
     ]
    }
   ],
   "source": [
    "#Omitting the first index starts the slice at the beginning of the list, and omitting the second index extends the slice to the end of the list:\n",
    "print(list1[:4],list1[0:4])\n",
    "print(list1[:],list1[0:])\n",
    "print(list1[:3] + list1[3:],'-->',list1)"
   ]
  },
  {
   "cell_type": "code",
   "execution_count": 9,
   "metadata": {},
   "outputs": [
    {
     "name": "stdout",
     "output_type": "stream",
     "text": [
      "['foo', 'spam', 'jerry']\n",
      "['jerry', 'spam', 'foo']\n",
      "['jerry', 'tom', 'spam', 'bar', 'foo']\n"
     ]
    }
   ],
   "source": [
    "#You can specify a stride—either positive or negative:\n",
    "print(list1[0::2])\n",
    "print(list1[len(list1)-1::-2])\n",
    "print(list1[::-1]) ## reversing a list works same as for strings"
   ]
  },
  {
   "cell_type": "code",
   "execution_count": 10,
   "metadata": {},
   "outputs": [
    {
     "name": "stdout",
     "output_type": "stream",
     "text": [
      "True\n",
      "True\n",
      "4462850608 4462850608\n",
      "\n",
      "True\n",
      "False\n",
      "4477028736 4477028672\n"
     ]
    }
   ],
   "source": [
    "#The [:] syntax works for lists. However,thers is one diff\n",
    "#If s is a string, s[:] returns a reference to the same object:\n",
    "\n",
    "s= 'spam'\n",
    "print(s[:]== s)\n",
    "print(s[:]is s)\n",
    "print(id(s[:]),id(s))\n",
    "print()\n",
    "\n",
    "# if s is list s[:] returns a new object that is a copy of s\n",
    "\n",
    "s = [1,2,3,4,5,4]\n",
    "print(s[:]== s)\n",
    "print(s[:]is s)\n",
    "print(id(s[:]),id(s))"
   ]
  },
  {
   "attachments": {},
   "cell_type": "markdown",
   "metadata": {},
   "source": [
    "## List Operators"
   ]
  },
  {
   "cell_type": "code",
   "execution_count": 13,
   "metadata": {},
   "outputs": [
    {
     "name": "stdout",
     "output_type": "stream",
     "text": [
      "True\n",
      "True\n"
     ]
    }
   ],
   "source": [
    "# in operator is used to check if element is present in the list\n",
    "_list1 = ['foo','bar','spam','ham']\n",
    "print('foo' in _list1)\n",
    "print('foo1'  not in _list1) # not in is complement to in operator"
   ]
  },
  {
   "cell_type": "code",
   "execution_count": 14,
   "metadata": {},
   "outputs": [
    {
     "name": "stdout",
     "output_type": "stream",
     "text": [
      "['foo', 'bar', 'spam', 'ham', 'tom', 'jerry']\n",
      "[1, 2, 'foo', 'bar', 'spam', 'tom', 'jerry']\n"
     ]
    },
    {
     "ename": "TypeError",
     "evalue": "can only concatenate list (not \"str\") to list",
     "output_type": "error",
     "traceback": [
      "\u001b[0;31m---------------------------------------------------------------------------\u001b[0m",
      "\u001b[0;31mTypeError\u001b[0m                                 Traceback (most recent call last)",
      "Cell \u001b[0;32mIn[14], line 4\u001b[0m\n\u001b[1;32m      2\u001b[0m \u001b[39mprint\u001b[39m(_list1 \u001b[39m+\u001b[39m [\u001b[39m'\u001b[39m\u001b[39mtom\u001b[39m\u001b[39m'\u001b[39m,\u001b[39m'\u001b[39m\u001b[39mjerry\u001b[39m\u001b[39m'\u001b[39m]) \u001b[39m# extends the list at the last.\u001b[39;00m\n\u001b[1;32m      3\u001b[0m \u001b[39mprint\u001b[39m([\u001b[39m1\u001b[39m,\u001b[39m2\u001b[39m] \u001b[39m+\u001b[39m list1) \u001b[39m# to add the elements at beginning\u001b[39;00m\n\u001b[0;32m----> 4\u001b[0m \u001b[39mprint\u001b[39m(_list1 \u001b[39m+\u001b[39;49m \u001b[39m'\u001b[39;49m\u001b[39msimba\u001b[39;49m\u001b[39m'\u001b[39;49m)\n",
      "\u001b[0;31mTypeError\u001b[0m: can only concatenate list (not \"str\") to list"
     ]
    }
   ],
   "source": [
    "# concatenete operator + \n",
    "print(_list1 + ['tom','jerry']) # extends the list at the last.\n",
    "print([1,2] + list1) # to add the elements at beginning\n",
    "print(_list1 + 'simba') # can concatenate only list to list not string"
   ]
  },
  {
   "cell_type": "code",
   "execution_count": 15,
   "metadata": {},
   "outputs": [
    {
     "ename": "TypeError",
     "evalue": "can only concatenate list (not \"int\") to list",
     "output_type": "error",
     "traceback": [
      "\u001b[0;31m---------------------------------------------------------------------------\u001b[0m",
      "\u001b[0;31mTypeError\u001b[0m                                 Traceback (most recent call last)",
      "Cell \u001b[0;32mIn[15], line 1\u001b[0m\n\u001b[0;32m----> 1\u001b[0m [\u001b[39m1\u001b[39;49m,\u001b[39m2\u001b[39;49m,\u001b[39m3\u001b[39;49m,\u001b[39m4\u001b[39;49m,\u001b[39m5\u001b[39;49m] \u001b[39m+\u001b[39;49m \u001b[39m6\u001b[39;49m\n",
      "\u001b[0;31mTypeError\u001b[0m: can only concatenate list (not \"int\") to list"
     ]
    }
   ],
   "source": [
    "[1,2,3,4,5] + 6"
   ]
  },
  {
   "cell_type": "code",
   "execution_count": 17,
   "metadata": {},
   "outputs": [
    {
     "name": "stdout",
     "output_type": "stream",
     "text": [
      "['foo', 'bar', 'spam', 'ham', 'abc']\n"
     ]
    }
   ],
   "source": [
    "print(_list1 + ['abc'])"
   ]
  },
  {
   "cell_type": "code",
   "execution_count": 16,
   "metadata": {},
   "outputs": [
    {
     "name": "stdout",
     "output_type": "stream",
     "text": [
      "[]\n",
      "[]\n",
      "[1, 2, 3]\n"
     ]
    }
   ],
   "source": [
    "# concatenate operator returns nothing\n",
    "l1 = []\n",
    "print(l1)\n",
    "l1 + [1,2,3]\n",
    "print(l1)\n",
    "print(l1 + [1,2,3])"
   ]
  },
  {
   "cell_type": "code",
   "execution_count": 22,
   "metadata": {},
   "outputs": [
    {
     "name": "stdout",
     "output_type": "stream",
     "text": [
      "['foo', 'bar', 'spam', 'ham', 'foo', 'bar', 'spam', 'ham']\n",
      "['foo', 'bar', 'spam', 'ham', 'foo', 'bar', 'spam', 'ham']\n"
     ]
    }
   ],
   "source": [
    "print(_list1 * 2)\n",
    "print(2 * _list1 )"
   ]
  },
  {
   "cell_type": "code",
   "execution_count": 18,
   "metadata": {},
   "outputs": [
    {
     "name": "stdout",
     "output_type": "stream",
     "text": [
      "5\n",
      "zebra\n",
      "Apple\n"
     ]
    },
    {
     "ename": "TypeError",
     "evalue": "'>' not supported between instances of 'int' and 'str'",
     "output_type": "error",
     "traceback": [
      "\u001b[0;31m---------------------------------------------------------------------------\u001b[0m",
      "\u001b[0;31mTypeError\u001b[0m                                 Traceback (most recent call last)",
      "Cell \u001b[0;32mIn[18], line 5\u001b[0m\n\u001b[1;32m      3\u001b[0m \u001b[39mprint\u001b[39m(\u001b[39mmax\u001b[39m([\u001b[39m'\u001b[39m\u001b[39mapple\u001b[39m\u001b[39m'\u001b[39m,\u001b[39m'\u001b[39m\u001b[39mbanana\u001b[39m\u001b[39m'\u001b[39m,\u001b[39m'\u001b[39m\u001b[39mApple\u001b[39m\u001b[39m'\u001b[39m,\u001b[39m'\u001b[39m\u001b[39mzebra\u001b[39m\u001b[39m'\u001b[39m]))\n\u001b[1;32m      4\u001b[0m \u001b[39mprint\u001b[39m(\u001b[39mmin\u001b[39m([\u001b[39m'\u001b[39m\u001b[39mapple\u001b[39m\u001b[39m'\u001b[39m,\u001b[39m'\u001b[39m\u001b[39mbanana\u001b[39m\u001b[39m'\u001b[39m,\u001b[39m'\u001b[39m\u001b[39mApple\u001b[39m\u001b[39m'\u001b[39m,\u001b[39m'\u001b[39m\u001b[39mzebra\u001b[39m\u001b[39m'\u001b[39m]))\n\u001b[0;32m----> 5\u001b[0m \u001b[39mprint\u001b[39m(\u001b[39mmax\u001b[39;49m([\u001b[39m'\u001b[39;49m\u001b[39mapple\u001b[39;49m\u001b[39m'\u001b[39;49m,\u001b[39m'\u001b[39;49m\u001b[39mbanana\u001b[39;49m\u001b[39m'\u001b[39;49m,\u001b[39m'\u001b[39;49m\u001b[39mApple\u001b[39;49m\u001b[39m'\u001b[39;49m,\u001b[39m'\u001b[39;49m\u001b[39mzebra\u001b[39;49m\u001b[39m'\u001b[39;49m,\u001b[39m123\u001b[39;49m]))\n",
      "\u001b[0;31mTypeError\u001b[0m: '>' not supported between instances of 'int' and 'str'"
     ]
    }
   ],
   "source": [
    "# some built in function that works with pythnon lists\n",
    "print(len(list1))\n",
    "print(max(['apple','banana','Apple','zebra']))\n",
    "print(min(['apple','banana','Apple','zebra']))\n",
    "print(max(['apple','banana','Apple','zebra',123]))"
   ]
  },
  {
   "cell_type": "code",
   "execution_count": 19,
   "metadata": {},
   "outputs": [
    {
     "name": "stdout",
     "output_type": "stream",
     "text": [
      "5\n",
      "['foo', ['bar', ['apple', 'banana', 'mango'], 'grapes'], 'aa', ['bb', 'zz'], 'xyz']\n",
      "['bar', ['apple', 'banana', 'mango'], 'grapes']\n",
      "['apple', 'banana', 'mango']\n",
      "['apple', 'banana']\n",
      "bb\n",
      "\n",
      "False\n",
      "False\n",
      "True\n"
     ]
    }
   ],
   "source": [
    "#list can be nexted\n",
    "\n",
    "nl = ['foo',['bar',['apple','banana','mango'],'grapes'],'aa',['bb','zz'],'xyz']\n",
    "print(len(nl))\n",
    "print(nl)\n",
    "print(nl[1])\n",
    "print(nl[1][1])\n",
    "print(nl[1][1][0:2])\n",
    "print(nl[-2][0])\n",
    "print()\n",
    "print('apple' in nl)\n",
    "print('apple' in nl[1])\n",
    "print('apple' in nl[1][1])"
   ]
  },
  {
   "attachments": {},
   "cell_type": "markdown",
   "metadata": {},
   "source": [
    "### Lists Are Mutable\n",
    "Most of the data types you have encountered so far have been atomic types. Integer or float objects, for example, are primitive units that can’t be further broken down. These types are immutable, meaning that they can’t be changed once they have been assigned. It doesn’t make much sense to think of changing the value of an integer. If you want a different integer, you just assign a different one.\n",
    "\n",
    "By contrast, the string type is a composite type. Strings are reducible to smaller parts—the component characters. It might make sense to think of changing the characters in a string. But you can’t. In Python, strings are also immutable.\n",
    "\n",
    "The list is the first mutable data type you have encountered. Once a list has been created, elements can be added, deleted, shifted, and moved around at will. Python provides a wide range of ways to modify lists."
   ]
  },
  {
   "cell_type": "code",
   "execution_count": 22,
   "metadata": {},
   "outputs": [
    {
     "name": "stdout",
     "output_type": "stream",
     "text": [
      "['foo', 'bar', 'abc', 'tom', 'xyz']\n",
      "['foo', 'bar', 'abc', 'tom', 'xyz']\n"
     ]
    }
   ],
   "source": [
    "##lists are mutable\n",
    "print(list1)\n",
    "list1[2] = 'abc'\n",
    "list1[-1] = 'xyz'\n",
    "print(list1) \n"
   ]
  },
  {
   "cell_type": "code",
   "execution_count": 23,
   "metadata": {},
   "outputs": [
    {
     "ename": "TypeError",
     "evalue": "'str' object does not support item assignment",
     "output_type": "error",
     "traceback": [
      "\u001b[0;31m---------------------------------------------------------------------------\u001b[0m",
      "\u001b[0;31mTypeError\u001b[0m                                 Traceback (most recent call last)",
      "Cell \u001b[0;32mIn[23], line 3\u001b[0m\n\u001b[1;32m      1\u001b[0m \u001b[39m## with strings it is not possible to modify\u001b[39;00m\n\u001b[1;32m      2\u001b[0m s \u001b[39m=\u001b[39m \u001b[39m'\u001b[39m\u001b[39mspam\u001b[39m\u001b[39m'\u001b[39m\n\u001b[0;32m----> 3\u001b[0m s[\u001b[39m0\u001b[39m:\u001b[39m2\u001b[39m] \u001b[39m=\u001b[39m \u001b[39m'\u001b[39m\u001b[39mh\u001b[39m\u001b[39m'\u001b[39m\n",
      "\u001b[0;31mTypeError\u001b[0m: 'str' object does not support item assignment"
     ]
    }
   ],
   "source": [
    "\n",
    "## with strings it is not possible to modify\n",
    "s = 'spam'\n",
    "s[0:2] = 'h'"
   ]
  },
  {
   "cell_type": "code",
   "execution_count": 27,
   "metadata": {},
   "outputs": [
    {
     "name": "stdout",
     "output_type": "stream",
     "text": [
      "['foo', 'bar', 'tom', 'jerry', 'simba', 'spam']\n",
      "['tom', 'jerry', 'simba']\n",
      "['foo', 'bar', 1, 2, 3, 4, 'spam']\n",
      "['foo', 'bar', 'test']\n"
     ]
    }
   ],
   "source": [
    "##modifying multiple values from list \n",
    "## a[m:n] = <iterable>\n",
    "#The number of elements inserted need not be equal to the number replaced. Python just grows or shrinks the list as needed.\n",
    "a= ['foo','bar','tom','jerry','simba','spam']\n",
    "print(a[:])\n",
    "print(a[2:5])\n",
    "a[2:5] = [1,2,3,4]\n",
    "print(a)\n",
    "a[2:] = ['test']\n",
    "print(a)\n"
   ]
  },
  {
   "cell_type": "code",
   "execution_count": 28,
   "metadata": {},
   "outputs": [
    {
     "name": "stdout",
     "output_type": "stream",
     "text": [
      "['foo', 2, 3, 4, 5, 'test']\n",
      "['foo', 2, 3, 4, 5, ['spam']]\n"
     ]
    }
   ],
   "source": [
    "#You can insert multiple elements in place of a single element—just use a slice that denotes only one element\n",
    "a[1:2] = [2,3,4,5]\n",
    "print(a)\n",
    "a[-1] = ['spam']\n",
    "print(a)"
   ]
  },
  {
   "cell_type": "code",
   "execution_count": 29,
   "metadata": {},
   "outputs": [
    {
     "name": "stdout",
     "output_type": "stream",
     "text": [
      "['foo', 2, 3, 'a', 'aa', 'aaa', 4, 5, ['spam']]\n"
     ]
    }
   ],
   "source": [
    "#You can also insert elements into a list without removing anything. Simply specify a slice of the form [n:n] (a zero-length slice) at the desired index\n",
    "a[3:3]=['a','aa','aaa']\n",
    "print(a)\n"
   ]
  },
  {
   "cell_type": "code",
   "execution_count": 30,
   "metadata": {},
   "outputs": [
    {
     "name": "stdout",
     "output_type": "stream",
     "text": [
      "['foo', 2, 3, 'a', 'aa', 'aaa', 4, 5]\n"
     ]
    }
   ],
   "source": [
    "#you can use del to delete the element from the list\n",
    "del a[-1]\n",
    "print(a)\n"
   ]
  },
  {
   "cell_type": "code",
   "execution_count": 31,
   "metadata": {},
   "outputs": [
    {
     "name": "stdout",
     "output_type": "stream",
     "text": [
      "[2, 3, 'a', 'aa', 'aaa', 4]\n",
      "['foo', 5]\n"
     ]
    }
   ],
   "source": [
    "print(a[1:-1])\n",
    "del a[1:-1] ## delete multiple elements\n",
    "print(a)\n"
   ]
  },
  {
   "cell_type": "code",
   "execution_count": 33,
   "metadata": {},
   "outputs": [
    {
     "name": "stdout",
     "output_type": "stream",
     "text": [
      "['foo', 'bar', 't', 'e', 's', 't']\n",
      "['foo', 'bar', 't', 'e', 's', 't', 'test']\n"
     ]
    }
   ],
   "source": [
    "#Technically, it isn’t quite correct to say a list must be concatenated with another list. \n",
    "#More precisely, a list must be concatenated with an object that is iterable. Of course, lists are iterable, so it works to concatenate a list with another list.\n",
    "\n",
    "#strings are iterable also. But watch what happens when you concatenate a string onto a list:\n",
    "\n",
    "a = ['foo','bar'] \n",
    "a += 'test' # When a string is iterated through, the result is a list of its component characters.\n",
    "print(a)\n",
    "\n",
    "a += ['test']\n",
    "print(a)"
   ]
  },
  {
   "cell_type": "code",
   "execution_count": 40,
   "metadata": {},
   "outputs": [
    {
     "name": "stdout",
     "output_type": "stream",
     "text": [
      "[1, 2, 3, 'abc', 'xyz']\n",
      "[1, 2, 3, 'abc', 'xyz']\n",
      "[2, 3, 'abc', 'xyz']\n",
      "[1, 2, 3, 'abc']\n",
      "[]\n",
      "[2]\n"
     ]
    }
   ],
   "source": [
    "_l = [1,2,3,'abc','xyz']\n",
    "print(_l)\n",
    "print(_l[:])\n",
    "print(_l[1:])\n",
    "print(_l[:-1])\n",
    "print(_l[2:2])\n",
    "print(_l[1:2])"
   ]
  },
  {
   "cell_type": "code",
   "execution_count": 41,
   "metadata": {},
   "outputs": [
    {
     "name": "stdout",
     "output_type": "stream",
     "text": [
      "[1, 10, 20, 30, 3, 'abc', 'xyz']\n",
      "[1, 10, 'spam', 20, 30, 3, 'abc', 'test']\n",
      "[['hello'], 10, 'spam', 20, 30, 3, 'abc', 'test']\n"
     ]
    }
   ],
   "source": [
    "_l[1:2] = [10,20,30]\n",
    "print(_l)\n",
    "_l[2:2] =['spam'] ## look at the output\n",
    "_l[-1] = 'test'  ### look at the output\n",
    "print(_l)\n",
    "_l[0] = ['hello'] ### look at the output\n",
    "print(_l)\n"
   ]
  }
 ],
 "metadata": {
  "kernelspec": {
   "display_name": "Python 3",
   "language": "python",
   "name": "python3"
  },
  "language_info": {
   "codemirror_mode": {
    "name": "ipython",
    "version": 3
   },
   "file_extension": ".py",
   "mimetype": "text/x-python",
   "name": "python",
   "nbconvert_exporter": "python",
   "pygments_lexer": "ipython3",
   "version": "3.8.0"
  },
  "orig_nbformat": 4,
  "vscode": {
   "interpreter": {
    "hash": "31f2aee4e71d21fbe5cf8b01ff0e069b9275f58929596ceb00d14d90e3e16cd6"
   }
  }
 },
 "nbformat": 4,
 "nbformat_minor": 2
}
