{
 "cells": [
  {
   "cell_type": "code",
   "execution_count": 10,
   "metadata": {},
   "outputs": [
    {
     "name": "stdout",
     "output_type": "stream",
     "text": [
      "abc 140320474089072\n",
      "ABC 140320479813936\n"
     ]
    }
   ],
   "source": [
    "#In Strings when you modify strings using strings methods, it creates a new string object because strings are immutable.Original string remains unchaned\n",
    "s = 'abc'\n",
    "t = s.upper() \n",
    "print(s,id(s))\n",
    "print(t,id(t))"
   ]
  },
  {
   "cell_type": "code",
   "execution_count": 11,
   "metadata": {},
   "outputs": [
    {
     "name": "stdout",
     "output_type": "stream",
     "text": [
      "['a', 'b'] 140320757514368\n",
      "['a', 'b', 'd'] 140320757514368\n",
      "['a', 'b', 'd']\n",
      "None\n"
     ]
    }
   ],
   "source": [
    "#List methods are different. Because lists are mutable, the list methods shown here modify the target list in place.\n",
    "l = ['a','b']\n",
    "print(l,id(l))\n",
    "\n",
    "# a.append(<obj>) appends an object to a list. Returns None\n",
    "m = l.append('d')\n",
    "print(l,id(l))\n",
    "print(l)\n",
    "print(m)"
   ]
  },
  {
   "cell_type": "code",
   "execution_count": 12,
   "metadata": {},
   "outputs": [
    {
     "name": "stdout",
     "output_type": "stream",
     "text": [
      "['a', 'b', 'd', 'x', 'y']\n",
      "['a', 'b', 'd', 'x', 'y', 'A', 'B', 'C']\n",
      "\n",
      "['a', 'b', 'd', 'x', 'y', 'A', 'B', 'C', ['test']]\n",
      "['a', 'b', 'd', 'x', 'y', 'A', 'B', 'C', ['test'], 'sample']\n"
     ]
    }
   ],
   "source": [
    "#When the + operator is used to concatenate to a list, if the target operand is an iterable, then its elements are broken out and appended to the list individually\n",
    "l += ['x','y']\n",
    "print(l)\n",
    "l += 'ABC'\n",
    "print(l)\n",
    "print()\n",
    "\n",
    "# However in .append(), if you append an iterable to a list, it will be appended as an iterable\n",
    "l.append(['test'])\n",
    "print(l)\n",
    "l.append('sample')\n",
    "print(l)\n"
   ]
  },
  {
   "cell_type": "code",
   "execution_count": 13,
   "metadata": {},
   "outputs": [
    {
     "name": "stdout",
     "output_type": "stream",
     "text": [
      "[1, 2, 3, 't', 'e', 's', 't']\n",
      "[1, 2, 3, 't', 'e', 's', 't', 5, 6, 7]\n",
      "[1, 2, 3, 't', 'e', 's', 't', 5, 6, 7, 'spam', 'ham']\n"
     ]
    }
   ],
   "source": [
    "#a.extend(<iterable>) extends a list with the objects from iterable. it behaves like + operator.\n",
    "a = [1,2,3]\n",
    "a.extend('test') # items of an iterable are added to the list individually\n",
    "print(a)\n",
    "a.extend([5,6,7])\n",
    "print(a)\n",
    "a.extend(['spam','ham'])\n",
    "print(a)"
   ]
  },
  {
   "cell_type": "code",
   "execution_count": 14,
   "metadata": {},
   "outputs": [
    {
     "name": "stdout",
     "output_type": "stream",
     "text": [
      "[1, 2, 'spam']\n",
      "spam\n",
      "[1, 2, ['test'], 'spam']\n",
      "spam\n"
     ]
    }
   ],
   "source": [
    "# a.insert(<index>,<object>) insert an obj to a list at specified index\n",
    "l =[1,2]\n",
    "l.insert(2,'spam')\n",
    "print(l,sep='\\n')\n",
    "print(l[-1])\n",
    "l.insert(-1,['test'])\n",
    "print(l)\n",
    "print(l[-1])"
   ]
  },
  {
   "cell_type": "code",
   "execution_count": 15,
   "metadata": {},
   "outputs": [
    {
     "name": "stdout",
     "output_type": "stream",
     "text": [
      "[1, 2, 3, 't', 'e', 's', 't', 5, 6, 7, 'spam', 'ham']\n",
      "[1, 2, 3, 't', 'e', 's', 't', 5, 6, 7, 'spam']\n",
      "None\n",
      "\n",
      "[1, 2, 3, 't', 'e', 's', 't', 6, 7, 'spam']\n"
     ]
    }
   ],
   "source": [
    "# a.remove(<obj>) removes an object from the list. if object is not in the list it throws an exception. Returns None.\n",
    "print(a)\n",
    "b = a.remove('ham')\n",
    "print(a)\n",
    "print(b)\n",
    "print()\n",
    "a.remove(5)\n",
    "print(a)"
   ]
  },
  {
   "cell_type": "code",
   "execution_count": 16,
   "metadata": {},
   "outputs": [
    {
     "ename": "ValueError",
     "evalue": "list.remove(x): x not in list",
     "output_type": "error",
     "traceback": [
      "\u001b[0;31m---------------------------------------------------------------------------\u001b[0m",
      "\u001b[0;31mValueError\u001b[0m                                Traceback (most recent call last)",
      "Cell \u001b[0;32mIn[16], line 1\u001b[0m\n\u001b[0;32m----> 1\u001b[0m a\u001b[39m.\u001b[39;49mremove(\u001b[39m100\u001b[39;49m)\n",
      "\u001b[0;31mValueError\u001b[0m: list.remove(x): x not in list"
     ]
    }
   ],
   "source": [
    "a.remove(100)"
   ]
  },
  {
   "cell_type": "code",
   "execution_count": 17,
   "metadata": {},
   "outputs": [
    {
     "name": "stdout",
     "output_type": "stream",
     "text": [
      "spam\n",
      "6\n"
     ]
    }
   ],
   "source": [
    "# a.pop(index=-1) removes an element from the list. Default index is -1, Retunrs an element deleted from the list at the specified index\n",
    "b = a.pop()\n",
    "print(b)\n",
    "print(a.pop(-2))"
   ]
  },
  {
   "cell_type": "code",
   "execution_count": 2,
   "metadata": {},
   "outputs": [
    {
     "name": "stdout",
     "output_type": "stream",
     "text": [
      "[1, 2, 3, 4, [5, 6]]\n",
      "[1, [5, 6]]\n",
      "[]\n"
     ]
    }
   ],
   "source": [
    "#remove and pop removes only single element from the list. To delete multiple elements, use below methods\n",
    "a1 = [1,2,3,4,[5,6]]\n",
    "print(a1)\n",
    "del a1[1:4]\n",
    "print(a1)\n",
    "a1[:] = []\n",
    "print(a1)"
   ]
  },
  {
   "cell_type": "code",
   "execution_count": 7,
   "metadata": {},
   "outputs": [
    {
     "name": "stdout",
     "output_type": "stream",
     "text": [
      "[1, 2, 3]\n",
      "[1, 2, 3, 't', 'e', 's', 't', 'spam']\n",
      "[1, 2, 3, 't', 'e', 's', 't', 'spam', ['abc'], 'xyz']\n",
      "[1, 2, 3, 't', 'e', 's', 't', 'spam', ['abc'], 'xyz', 'hey', 'hi', 'h', 'e', 'l', 'l', 'o']\n",
      "[1, 2, ['ham'], 3, 't', 'e', 's', 't', 'spam', ['abc'], 'xyz', 'hey', 'hi', 'h', 'e', 'l', 'l', 'o']\n",
      "[1, 2, 3, 't', 'e', 's', 't', 'spam', ['abc'], 'xyz', 'hey', 'hi', 'h', 'e', 'l', 'l', 'o']\n"
     ]
    }
   ],
   "source": [
    "_ml = [1,2,3]\n",
    "print(_ml)\n",
    "_ml += 'test'\n",
    "_ml += ['spam']\n",
    "\n",
    "print(_ml)\n",
    "_ml.append(['abc'])\n",
    "_ml.append('xyz')\n",
    "print(_ml)\n",
    "\n",
    "_ml.extend(['hey','hi'])\n",
    "_ml.extend('hello')\n",
    "print(_ml)\n",
    "\n",
    "_ml.insert(2,['ham'])\n",
    "print(_ml)\n",
    "\n",
    "_ml.remove(['ham'])\n",
    "print(_ml)\n"
   ]
  }
 ],
 "metadata": {
  "kernelspec": {
   "display_name": "Python 3",
   "language": "python",
   "name": "python3"
  },
  "language_info": {
   "codemirror_mode": {
    "name": "ipython",
    "version": 3
   },
   "file_extension": ".py",
   "mimetype": "text/x-python",
   "name": "python",
   "nbconvert_exporter": "python",
   "pygments_lexer": "ipython3",
   "version": "3.8.16"
  },
  "orig_nbformat": 4,
  "vscode": {
   "interpreter": {
    "hash": "31f2aee4e71d21fbe5cf8b01ff0e069b9275f58929596ceb00d14d90e3e16cd6"
   }
  }
 },
 "nbformat": 4,
 "nbformat_minor": 2
}
