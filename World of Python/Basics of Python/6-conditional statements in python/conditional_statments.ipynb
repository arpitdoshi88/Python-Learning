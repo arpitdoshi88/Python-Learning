{
 "cells": [
  {
   "attachments": {},
   "cell_type": "markdown",
   "metadata": {},
   "source": [
    "#### The basic syntax of if statement is as follows\n",
    "\n",
    "`if <expr>:`\\\n",
    "&nbsp;&nbsp;&nbsp;&nbsp;&nbsp;&nbsp;`<statements>`\n",
    "\n",
    "- In the above `<expr>` is a boolean expression evaluated in boolean context. \n",
    "- `<statement>` will be any valid python statement which must be intended.\n",
    "\n",
    "if `<expr>` evalutes to true, then `<statment>` will be executed, if `<expr>` evaluates to false, then `<statment>` will not be executed.\n",
    "Note that `:` following `<expr>` is required. You can also include parentheses for expressions."
   ]
  },
  {
   "cell_type": "code",
   "execution_count": 3,
   "metadata": {},
   "outputs": [
    {
     "name": "stdout",
     "output_type": "stream",
     "text": [
      "Yes\n",
      "Yes\n",
      "Yes\n",
      "Yes\n",
      "Yes\n"
     ]
    }
   ],
   "source": [
    "x = 0; y = 5\n",
    "if x < y: #truthy\n",
    "    print('Yes')\n",
    "\n",
    "if x > y: #falsy\n",
    "    print('No')\n",
    "\n",
    "if x: print('Yes') #falsy\n",
    "if y: print('Yes') #truthy\n",
    "if x or y : print('Yes') #truthy\n",
    "if x and y : print('Yes') #falsy\n",
    "if 'foo' in 'foobar' : print('Yes') #truthy\n",
    "if 'spam' in ['spam','ham']:print('Yes') #truthy\n",
    "    "
   ]
  },
  {
   "attachments": {},
   "cell_type": "markdown",
   "metadata": {},
   "source": [
    "In all the examples shown above, each if `<expr>`: has been followed by only a single `<statement>`. There needs to be some way to say “If `<expr> `is true, do all of the following things.”\n",
    "\n",
    "The usual approach taken by most programming languages is to define a syntactic device that groups multiple statements into one compound statement or block. A block is regarded syntactically as a single entity. When it is the target of an if statement, and `<expr>` is true, then all the statements in the block are executed. If `<expr>` is false, then none of them are.\n",
    "\n",
    "Indention has special significance in python programming. Indention is used to define compound statements or block statements. In python programe, contiguous indented statements are considered to be a part \n",
    "of the same block.\n",
    "\n",
    "if `<expr>`:\\\n",
    "&nbsp;&nbsp;&nbsp;&nbsp;&nbsp;&nbsp;`<statement>`\\\n",
    "&nbsp;&nbsp;&nbsp;&nbsp;&nbsp;&nbsp;`<statement>`\\\n",
    "&nbsp;&nbsp;&nbsp;&nbsp;&nbsp;&nbsp;...\\\n",
    "&nbsp;&nbsp;&nbsp;&nbsp;&nbsp;&nbsp;`<statement>`\\\n",
    "`<following_statement>`\n",
    "\n",
    "All the statements of matching indention level are considered to be a part of same block. If `<expr>` is evaluated to true, then entire block is executed or skipped if `<expr>` is evaluated to false.\\\n",
    "Notice that there is no token that denotes the end of the block. Rather, the end of the block is indicated by a line that is indented less than the lines of the block itself."
   ]
  },
  {
   "cell_type": "code",
   "execution_count": 4,
   "metadata": {},
   "outputs": [
    {
     "name": "stdout",
     "output_type": "stream",
     "text": [
      "expression is true\n",
      "executing all the staatements\n",
      "--------------------------------\n",
      "done\n",
      "After conditional statements\n"
     ]
    }
   ],
   "source": [
    "if 'foo' in ['foo','bar']:\n",
    "    print('expression is true')\n",
    "    print('executing all the staatements')\n",
    "    print('--------------------------------')\n",
    "    print('done')\n",
    "print('After conditional statements')"
   ]
  },
  {
   "attachments": {},
   "cell_type": "markdown",
   "metadata": {},
   "source": [
    "Blocks can be nested to arbitrary depth. Each indent defines a new block, and each outdent ends the preceding block. The resulting structure is straightforward, consistent, and intuitive"
   ]
  },
  {
   "cell_type": "code",
   "execution_count": 7,
   "metadata": {},
   "outputs": [
    {
     "name": "stdout",
     "output_type": "stream",
     "text": [
      "Outer condition is true\n",
      "between inner condition\n",
      "inside inner condition 2\n",
      "inner condition 2 is true\n",
      "outer condition is ended\n",
      "--------------------------------\n",
      "done\n",
      "After conditional statements\n"
     ]
    }
   ],
   "source": [
    "if 'foo' in ['foo','bar']:\n",
    "    print('Outer condition is true')\n",
    "    if 10 > 20:\n",
    "        print('inside inner condition 1')\n",
    "        print('inner condition 1 is true')\n",
    "        \n",
    "    print('between inner condition')\n",
    "    \n",
    "    if 10 < 20:\n",
    "        print('inside inner condition 2')\n",
    "        print('inner condition 2 is true')\n",
    "        \n",
    "        if 10 < 5:\n",
    "            print('inside inner condition 3')\n",
    "            print('inner condition 3 is true')\n",
    "    \n",
    "    print('outer condition is ended')\n",
    "    print('--------------------------------')\n",
    "    print('done')\n",
    "print('After conditional statements')"
   ]
  },
  {
   "attachments": {},
   "cell_type": "markdown",
   "metadata": {},
   "source": [
    "Sometimes, you want to evaluate a condition and take one path if it is true but specify an alternative path if it is not. This is accomplished with an else clause:\n",
    "\n",
    "if `<expr>`:\\\n",
    "&nbsp;&nbsp;&nbsp;&nbsp;&nbsp;&nbsp;`<statement(s)`>\\\n",
    "else:\\\n",
    "&nbsp;&nbsp;&nbsp;&nbsp;&nbsp;&nbsp;`<statement(s)>`\\\n",
    "\n",
    "\n",
    "If you want to evaluate a condition and take one path if it is true but specify an alternative path if it is not, you can use the `else` statement:\n",
    "\n"
   ]
  },
  {
   "cell_type": "code",
   "execution_count": 8,
   "metadata": {},
   "outputs": [
    {
     "name": "stdout",
     "output_type": "stream",
     "text": [
      "50 is greater than 10\n"
     ]
    }
   ],
   "source": [
    "x = 50\n",
    "\n",
    "if x > 10:\n",
    "    print(f'{x} is greater than 10')\n",
    "else:\n",
    "    print(f'{x} is not greater than 10')"
   ]
  },
  {
   "attachments": {},
   "cell_type": "markdown",
   "metadata": {},
   "source": [
    "There is also syntax for branching execution based on several alternatives. For this, use one or more elif (short for else if) clauses. Python evaluates each <expr> in turn and executes the suite corresponding to the first that is true. If none of the expressions are true, and an else clause is specified, then its suite is executed:\n",
    "\n",
    "if `<expr>:`\\\n",
    "&nbsp;&nbsp;&nbsp;&nbsp;&nbsp;&nbsp;`<statement(s)>`\\\n",
    "elif `<expr>:`\\\n",
    "&nbsp;&nbsp;&nbsp;&nbsp;&nbsp;&nbsp;`<statement(s)>`\\\n",
    "elif `<expr>:`\\\n",
    "&nbsp;&nbsp;&nbsp;&nbsp;&nbsp;&nbsp;`<statement(s)>`\\\n",
    "    ...\n",
    "else:\\\n",
    "&nbsp;&nbsp;&nbsp;&nbsp;&nbsp;&nbsp;`<statement(s)>`"
   ]
  },
  {
   "cell_type": "code",
   "execution_count": 9,
   "metadata": {},
   "outputs": [
    {
     "name": "stdout",
     "output_type": "stream",
     "text": [
      "Outer condition is true\n",
      "inside inner condition 2\n",
      "inner condition 2 is true\n",
      "between inner conditions\n",
      "inner condition 4 is true\n",
      "After conditional statements\n"
     ]
    }
   ],
   "source": [
    "if 'foo' in ['foo','bar']:\n",
    "    print('Outer condition is true')\n",
    "    if 10 > 20:\n",
    "        print('inside inner condition 1')\n",
    "        print('inner condition 1 is true')\n",
    "    \n",
    "    elif 10 < 20:\n",
    "        print('inside inner condition 2')\n",
    "        print('inner condition 2 is true')\n",
    "        \n",
    "        print('between inner conditions')\n",
    "        \n",
    "        if 10 < 5:\n",
    "            print('inside inner condition 3')\n",
    "            print('inner condition 3 is true')\n",
    "        else:\n",
    "            print('inner condition 4 is true')\n",
    "    else:\n",
    "        print('none of the inner conditions are true')\n",
    "else:\n",
    "    print('none of the outer conditions are true')    \n",
    "    print('outer condition is ended')\n",
    "    print('--------------------------------')\n",
    "    print('done')\n",
    "print('After conditional statements')"
   ]
  },
  {
   "cell_type": "markdown",
   "metadata": {},
   "source": [
    "An if statement with elif clauses uses short-circuit evaluation, analogous to what you saw with the and and or operators. Once one of the expressions is found to be true and its block is executed, none of the remaining expressions are tested."
   ]
  },
  {
   "cell_type": "code",
   "execution_count": 12,
   "metadata": {},
   "outputs": [
    {
     "ename": "NameError",
     "evalue": "name 'var' is not defined",
     "output_type": "error",
     "traceback": [
      "\u001b[0;31m---------------------------------------------------------------------------\u001b[0m",
      "\u001b[0;31mNameError\u001b[0m                                 Traceback (most recent call last)",
      "Cell \u001b[0;32mIn[12], line 1\u001b[0m\n\u001b[0;32m----> 1\u001b[0m var\n",
      "\u001b[0;31mNameError\u001b[0m: name 'var' is not defined"
     ]
    }
   ],
   "source": [
    "var"
   ]
  },
  {
   "cell_type": "code",
   "execution_count": 1,
   "metadata": {},
   "outputs": [
    {
     "name": "stdout",
     "output_type": "stream",
     "text": [
      "True\n"
     ]
    }
   ],
   "source": [
    "\n",
    "if 'a' in 'apple':\n",
    "    print('True')\n",
    "elif 1/0:\n",
    "    print('this can never happen')\n",
    "elif var:\n",
    "    print('this will throw an error as undefined variable')"
   ]
  },
  {
   "attachments": {},
   "cell_type": "markdown",
   "metadata": {},
   "source": [
    "## One liner if statements\n",
    "\n",
    "In python, it is permissible to write an entire if statement on one line\n",
    "\n",
    "if `<expr>` : `<statement>`\n",
    "\n",
    "There can even be more than one `<statement>` on the same line, separated by semicolons:\n",
    "\n",
    "if `<expr>`: `<statement_1>`; `<statement_2>`; ...; `<statement_n>`\n",
    "\n",
    "The `semicolon` separating the `<statements>` has higher precedence than the colon following `<expr>`—in computer lingo, the semicolon is said to bind more tightly than the colon. Thus, the `<statements>` are treated as a suite, and either all of them are executed, or none of them are:"
   ]
  },
  {
   "cell_type": "code",
   "execution_count": 17,
   "metadata": {},
   "outputs": [
    {
     "name": "stdout",
     "output_type": "stream",
     "text": [
      "1\n",
      "2\n",
      "3\n",
      "4\n",
      "5\n"
     ]
    }
   ],
   "source": [
    "if 'f' in 'foo': print(1);print(2);print(3);print(4);print(5)\n"
   ]
  },
  {
   "cell_type": "code",
   "execution_count": 18,
   "metadata": {},
   "outputs": [],
   "source": [
    "if 'f' in 'zoo': print(1);print(2);print(3);print(4);print(5)"
   ]
  },
  {
   "attachments": {},
   "cell_type": "markdown",
   "metadata": {},
   "source": [
    "Multiple statements may be specified on the same line as an elif or else clause as well"
   ]
  },
  {
   "cell_type": "code",
   "execution_count": 20,
   "metadata": {},
   "outputs": [
    {
     "name": "stdout",
     "output_type": "stream",
     "text": [
      "None\n",
      "Done\n"
     ]
    }
   ],
   "source": [
    "if 'f' in 'zoo': print(1);print(2);print(3);print(4);print(5)\n",
    "elif 'g' in 'zoo': print(1);print(2)\n",
    "else: print(None);print('Done')"
   ]
  },
  {
   "attachments": {},
   "cell_type": "markdown",
   "metadata": {},
   "source": [
    "## Conditional expression.. Python's ternary operator\n",
    "\n",
    "Python supports one additional decision-making entity called a conditional expression.It is also called as ternary operator\n",
    "\n",
    "`<expr1>` if `<conditional expr>` else `<expr2>`\n",
    "\n",
    "This is different from the if statement forms listed above because it is not a control structure that directs the flow of program execution. It acts more like an operator that defines an expression. In the above example, `<conditional_expr>` is evaluated first. If it is true, the expression evaluates to `<expr1>`. If it is false, the expression evaluates to `<expr2>`."
   ]
  },
  {
   "cell_type": "code",
   "execution_count": 19,
   "metadata": {},
   "outputs": [
    {
     "name": "stdout",
     "output_type": "stream",
     "text": [
      "is it raining? No\n",
      "minor\n"
     ]
    }
   ],
   "source": [
    "isRaining = False\n",
    "print('is it raining?','Yes' if isRaining else 'No')\n",
    "\n",
    "age = 12\n",
    "print('minor' if age <= 21 else 'Adult')\n"
   ]
  },
  {
   "cell_type": "code",
   "execution_count": 20,
   "metadata": {},
   "outputs": [
    {
     "name": "stdout",
     "output_type": "stream",
     "text": [
      "35\n"
     ]
    }
   ],
   "source": [
    "# find largest number between two numbers\n",
    "a = 15 ; b = 35\n",
    "largest_number = a if a >b else b\n",
    "print(largest_number)"
   ]
  },
  {
   "attachments": {},
   "cell_type": "markdown",
   "metadata": {},
   "source": [
    "Remember that the conditional expression behaves like an expression syntactically. It can be used as part of a longer expression. The conditional expression has lower precedence than virtually all the other operators, so parentheses are needed to group it by itself."
   ]
  },
  {
   "cell_type": "code",
   "execution_count": 24,
   "metadata": {},
   "outputs": [
    {
     "name": "stdout",
     "output_type": "stream",
     "text": [
      "52\n",
      "52\n",
      "53\n"
     ]
    }
   ],
   "source": [
    "x,y = 40,50\n",
    "print(1 + x if x > y else y + 2)\n",
    "print((1 + x) if x > y else (y + 2))\n",
    "print(1 + (x if x > y else y) + 2) #If you want the conditional expression to be evaluated first, you need to surround it with grouping parentheses"
   ]
  },
  {
   "cell_type": "code",
   "execution_count": 26,
   "metadata": {},
   "outputs": [
    {
     "name": "stdout",
     "output_type": "stream",
     "text": [
      "foo\n",
      "foo\n"
     ]
    }
   ],
   "source": [
    "#Conditional expressions also use short-circuit evaluation like compound logical expressions.\n",
    "\n",
    "print('foo' if True else 1/0)\n",
    "print(1/0 if False else 'foo')"
   ]
  },
  {
   "cell_type": "code",
   "execution_count": 30,
   "metadata": {},
   "outputs": [
    {
     "name": "stdout",
     "output_type": "stream",
     "text": [
      "baz\n"
     ]
    }
   ],
   "source": [
    "#Conditional expressions can also be chained together, as a sort of alternative if/elif/else structure\n",
    "x=3\n",
    "s = (\n",
    "    'foo' if x==1 else\n",
    "    'bar' if x==2 else\n",
    "    'baz' if x==3 else\n",
    "    'qux'\n",
    ") \n",
    "print(s)"
   ]
  },
  {
   "attachments": {},
   "cell_type": "markdown",
   "metadata": {},
   "source": [
    "## Pass statement\n",
    "\n",
    "Occasionally, you may find that you want to write what is called a code stub: a placeholder for where you will eventually put a block of code that you haven’t implemented yet.\\\n",
    "Pass statement doesn’t change program behavior at all. It is used as a placeholder to keep the interpreter happy in any situation where a statement is syntactically required, but you don’t really want to do anything:\n",
    "\n"
   ]
  },
  {
   "cell_type": "code",
   "execution_count": 31,
   "metadata": {},
   "outputs": [
    {
     "ename": "IndentationError",
     "evalue": "expected an indented block (3873847401.py, line 2)",
     "output_type": "error",
     "traceback": [
      "\u001b[0;36m  Cell \u001b[0;32mIn[31], line 2\u001b[0;36m\u001b[0m\n\u001b[0;31m    print()\u001b[0m\n\u001b[0m    ^\u001b[0m\n\u001b[0;31mIndentationError\u001b[0m\u001b[0;31m:\u001b[0m expected an indented block\n"
     ]
    }
   ],
   "source": [
    "if True:\n",
    "print('foo')"
   ]
  },
  {
   "cell_type": "code",
   "execution_count": 33,
   "metadata": {},
   "outputs": [
    {
     "name": "stdout",
     "output_type": "stream",
     "text": [
      "foo\n"
     ]
    }
   ],
   "source": [
    "if True:\n",
    "    pass\n",
    "print('foo')"
   ]
  }
 ],
 "metadata": {
  "kernelspec": {
   "display_name": "myenv",
   "language": "python",
   "name": "python3"
  },
  "language_info": {
   "codemirror_mode": {
    "name": "ipython",
    "version": 3
   },
   "file_extension": ".py",
   "mimetype": "text/x-python",
   "name": "python",
   "nbconvert_exporter": "python",
   "pygments_lexer": "ipython3",
   "version": "3.8.16"
  },
  "orig_nbformat": 4
 },
 "nbformat": 4,
 "nbformat_minor": 2
}
