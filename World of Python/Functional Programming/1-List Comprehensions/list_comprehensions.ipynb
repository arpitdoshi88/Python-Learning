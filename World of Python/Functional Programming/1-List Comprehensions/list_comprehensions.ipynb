{
 "cells": [
  {
   "attachments": {},
   "cell_type": "markdown",
   "metadata": {},
   "source": [
    "### List Comprehension\n",
    "\n",
    "Python is famous for allowing you to write code that’s elegant, easy to write, and almost as easy to read as plain English. One of the language’s most distinctive features is the list comprehension, which you can use to create powerful functionality within a single line of code."
   ]
  },
  {
   "attachments": {},
   "cell_type": "markdown",
   "metadata": {},
   "source": [
    "There are several ways to create list in python.\n",
    "\n",
    "- using for loop\n",
    "- using map()\n",
    "- using list comprehension"
   ]
  },
  {
   "attachments": {},
   "cell_type": "markdown",
   "metadata": {},
   "source": [
    "#### Using for loop example\n",
    "1.  Instantiate an empty list.\n",
    "2.  Loop over an iterable or range of elements.\n",
    "3. Append each element to the end of the list."
   ]
  },
  {
   "cell_type": "code",
   "execution_count": 4,
   "metadata": {},
   "outputs": [
    {
     "name": "stdout",
     "output_type": "stream",
     "text": [
      "[0, 1, 4, 9, 16, 25, 36, 49, 64, 81]\n"
     ]
    }
   ],
   "source": [
    "a = []\n",
    "\n",
    "for i in range(10):\n",
    "    a.append(i * i)\n",
    "print(a)"
   ]
  },
  {
   "attachments": {},
   "cell_type": "markdown",
   "metadata": {},
   "source": [
    "### Using map() object\n",
    "\n",
    "map() provides an alternative approach that’s based in functional programming. You pass in a function and an iterable, and map() will create an object. This object contains the output you would get from running each iterable element through the supplied function."
   ]
  },
  {
   "cell_type": "code",
   "execution_count": 5,
   "metadata": {},
   "outputs": [],
   "source": [
    "txns = [14.23,1.09,2.35,10.89]\n",
    "interest_rate = 8.75\n",
    "def cal_price(txn_amount):\n",
    "    return txn_amount * interest_rate\n",
    "\n"
   ]
  },
  {
   "cell_type": "code",
   "execution_count": 7,
   "metadata": {},
   "outputs": [
    {
     "name": "stdout",
     "output_type": "stream",
     "text": [
      "[124.5125, 9.537500000000001, 20.5625, 95.28750000000001]\n"
     ]
    }
   ],
   "source": [
    "## map(function(),<iterable>)\n",
    "final_prices = map(cal_price,txns)\n",
    "print(list(final_prices))"
   ]
  },
  {
   "attachments": {},
   "cell_type": "markdown",
   "metadata": {},
   "source": [
    "### Using list comprehension\n",
    "\n",
    "You can create a list using a single line of code. It has following syntax\n",
    "\n",
    "`new_list = [expression for member in iterable]`\n",
    "\n",
    "Every list comprehension in Python includes three elements:\n",
    "\n",
    "1. expression is the member itself, a call to a method, or any other valid expression that returns a value. \n",
    "2. member is the object or value in the list or iterable. In the example above, the member value is i.\n",
    "3. iterable is a list, set, sequence, generator, or any other object that can return its elements one at a time"
   ]
  },
  {
   "cell_type": "code",
   "execution_count": 8,
   "metadata": {},
   "outputs": [
    {
     "name": "stdout",
     "output_type": "stream",
     "text": [
      "[0, 1, 4, 9, 16, 25, 36, 49, 64, 81]\n"
     ]
    }
   ],
   "source": [
    "a = [i * i for i in range(10)]\n",
    "print(a)"
   ]
  },
  {
   "attachments": {},
   "cell_type": "markdown",
   "metadata": {},
   "source": [
    "Because the expression requirement is so flexible, a list comprehension in Python works well in many places where you would use map(). The pricing example we saw above can be re-written as below using list comprehension."
   ]
  },
  {
   "cell_type": "code",
   "execution_count": 10,
   "metadata": {},
   "outputs": [
    {
     "name": "stdout",
     "output_type": "stream",
     "text": [
      "[124.5125, 9.537500000000001, 20.5625, 95.28750000000001]\n"
     ]
    }
   ],
   "source": [
    "final_prices = [cal_price(txn_amt) for txn_amt in txns] ## list comprehensions returns a list where map() returns map object.\n",
    "print(final_prices)"
   ]
  },
  {
   "attachments": {},
   "cell_type": "markdown",
   "metadata": {},
   "source": [
    "One main benefit of using a list comprehension in Python is that it’s a single tool that you can use in many different situations. In addition to standard list creation, list comprehensions can also be used for mapping and filtering. You don’t have to use a different approach for each scenario.\n",
    "\n",
    "This is the main reason why list comprehensions are considered Pythonic, as Python embraces simple, powerful tools that you can use in a wide variety of situations. As an added side benefit, whenever you use a list comprehension in Python, you won’t need to remember the proper order of arguments like you would when you call map().\n",
    "\n",
    "List comprehensions are also more declarative than loops, which means they’re easier to read and understand. Loops require you to focus on how the list is created. You have to manually create an empty list, loop over the elements, and add each of them to the end of the list. With a list comprehension in Python, you can instead focus on what you want to go in the list and trust that Python will take care of how the list construction takes place."
   ]
  },
  {
   "attachments": {},
   "cell_type": "markdown",
   "metadata": {},
   "source": [
    "## List comprehensions using conditional logics\n",
    "\n",
    "Earlier we show the syntax of list comprehensions which is\n",
    "\n",
    "`new_list = [expression for member in iterable]`\n",
    "\n",
    "However this is incomplete , the more complex syntax of list comprehensions would be with optional conditional logics\n",
    "\n",
    "The most common way to include the conditional logics is to add them at the end of the list comprehension before the closing bracket\n",
    "\n",
    "`new_list = [expression for member in iterable (if conditional)]`\n"
   ]
  },
  {
   "cell_type": "code",
   "execution_count": 11,
   "metadata": {},
   "outputs": [
    {
     "name": "stdout",
     "output_type": "stream",
     "text": [
      "['e', 'o', 'i', 'o', 'e', 'a', 'u', 'i', 'u']\n"
     ]
    }
   ],
   "source": [
    "## let's say i want to filter out all the vowels from the string\n",
    "\n",
    "sent = 'the world is so beautiful!!'\n",
    "\n",
    "vowels = [ i for i in sent if i in 'aeiou']\n",
    "print(vowels)"
   ]
  },
  {
   "cell_type": "code",
   "execution_count": 13,
   "metadata": {},
   "outputs": [],
   "source": [
    "### we can also create a function for the logical condition\n",
    "\n",
    "def is_consonant(c):\n",
    "    vowels = 'aeiou'\n",
    "    return c.isalpha() and c.lower() not in vowels"
   ]
  },
  {
   "cell_type": "code",
   "execution_count": 15,
   "metadata": {},
   "outputs": [
    {
     "name": "stdout",
     "output_type": "stream",
     "text": [
      "['t', 'h', 'w', 'r', 'l', 'd', 's', 's', 'b', 't', 'f', 'l']\n"
     ]
    }
   ],
   "source": [
    "consonants = [i for i in sent if is_consonant(i)]\n",
    "print(consonants)"
   ]
  },
  {
   "attachments": {},
   "cell_type": "markdown",
   "metadata": {},
   "source": [
    "If you want to change a member value instead of filtering it out, you can put the conditional logic with expressions\n",
    "\n",
    "`new_list = [expression (if conditional) for member in iterable ]`\n"
   ]
  },
  {
   "cell_type": "code",
   "execution_count": 19,
   "metadata": {},
   "outputs": [
    {
     "name": "stdout",
     "output_type": "stream",
     "text": [
      "[None, 14, None, None, None, 16, 18, 20]\n"
     ]
    }
   ],
   "source": [
    "values = [11,14,5,15,19,16,18,20]\n",
    "even_values = [i if i % 2 == 0 else None for i in values]\n",
    "print(even_values)"
   ]
  },
  {
   "cell_type": "code",
   "execution_count": 21,
   "metadata": {},
   "outputs": [],
   "source": [
    "## expression can be a function also\n",
    "\n",
    "def isEvenNumber(n):\n",
    "    return n if n % 2 == 0 else None"
   ]
  },
  {
   "cell_type": "code",
   "execution_count": 23,
   "metadata": {},
   "outputs": [
    {
     "name": "stdout",
     "output_type": "stream",
     "text": [
      "[None, 14, None, None, None, 16, 18, 20]\n"
     ]
    }
   ],
   "source": [
    "new_values = [isEvenNumber(i) for i in values]\n",
    "print(new_values)"
   ]
  },
  {
   "attachments": {},
   "cell_type": "markdown",
   "metadata": {},
   "source": [
    "### set compression is almost same as list compression. The only difference is that the output of set compression will filter out duplicate values and will result only unique values"
   ]
  },
  {
   "cell_type": "code",
   "execution_count": 24,
   "metadata": {},
   "outputs": [
    {
     "name": "stdout",
     "output_type": "stream",
     "text": [
      "{'i', 'a', 'e', 'u', 'o'}\n"
     ]
    }
   ],
   "source": [
    "sent = 'the world is so beautiful!!'\n",
    "\n",
    "vowels = { i for i in sent if i in 'aeiou'}\n",
    "print(vowels)"
   ]
  },
  {
   "attachments": {},
   "cell_type": "markdown",
   "metadata": {},
   "source": [
    "### Dictionary comprehension are also similar to list comprehension, with additional requirements for adding keys\n"
   ]
  },
  {
   "cell_type": "code",
   "execution_count": 25,
   "metadata": {},
   "outputs": [
    {
     "name": "stdout",
     "output_type": "stream",
     "text": [
      "{0: 0, 1: 1, 2: 4, 3: 9, 4: 16, 5: 25, 6: 36, 7: 49, 8: 64, 9: 81}\n"
     ]
    }
   ],
   "source": [
    "squares = {i: i * i for i in range(10)}\n",
    "print(squares)"
   ]
  },
  {
   "cell_type": "code",
   "execution_count": null,
   "metadata": {},
   "outputs": [],
   "source": []
  },
  {
   "cell_type": "code",
   "execution_count": null,
   "metadata": {},
   "outputs": [],
   "source": []
  },
  {
   "cell_type": "code",
   "execution_count": null,
   "metadata": {},
   "outputs": [],
   "source": []
  },
  {
   "cell_type": "code",
   "execution_count": null,
   "metadata": {},
   "outputs": [],
   "source": []
  },
  {
   "cell_type": "code",
   "execution_count": null,
   "metadata": {},
   "outputs": [],
   "source": []
  }
 ],
 "metadata": {
  "kernelspec": {
   "display_name": "myenv",
   "language": "python",
   "name": "python3"
  },
  "language_info": {
   "codemirror_mode": {
    "name": "ipython",
    "version": 3
   },
   "file_extension": ".py",
   "mimetype": "text/x-python",
   "name": "python",
   "nbconvert_exporter": "python",
   "pygments_lexer": "ipython3",
   "version": "3.9.12"
  },
  "orig_nbformat": 4
 },
 "nbformat": 4,
 "nbformat_minor": 2
}
