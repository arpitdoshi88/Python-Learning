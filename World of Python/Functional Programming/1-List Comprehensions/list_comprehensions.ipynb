{
 "cells": [
  {
   "attachments": {},
   "cell_type": "markdown",
   "metadata": {},
   "source": [
    "### List Comprehension\n",
    "\n",
    "Python is famous for allowing you to write code that’s elegant, easy to write, and almost as easy to read as plain English. One of the language’s most distinctive features is the list comprehension, which you can use to create powerful functionality within a single line of code."
   ]
  },
  {
   "attachments": {},
   "cell_type": "markdown",
   "metadata": {},
   "source": [
    "There are several ways to create list in python.\n",
    "\n",
    "- using for loop\n",
    "- using map()\n",
    "- using list comprehension"
   ]
  },
  {
   "attachments": {},
   "cell_type": "markdown",
   "metadata": {},
   "source": [
    "#### Using for loop example\n",
    "1.  Instantiate an empty list.\n",
    "2.  Loop over an iterable or range of elements.\n",
    "3. Append each element to the end of the list."
   ]
  },
  {
   "cell_type": "code",
   "execution_count": 4,
   "metadata": {},
   "outputs": [
    {
     "name": "stdout",
     "output_type": "stream",
     "text": [
      "[0, 1, 4, 9, 16, 25, 36, 49, 64, 81]\n"
     ]
    }
   ],
   "source": [
    "a = []\n",
    "\n",
    "for i in range(10):\n",
    "    a.append(i * i)\n",
    "print(a)"
   ]
  },
  {
   "attachments": {},
   "cell_type": "markdown",
   "metadata": {},
   "source": [
    "### Using map() object\n",
    "\n",
    "map() provides an alternative approach that’s based in functional programming. You pass in a function and an iterable, and map() will create an object. This object contains the output you would get from running each iterable element through the supplied function."
   ]
  },
  {
   "cell_type": "code",
   "execution_count": 5,
   "metadata": {},
   "outputs": [],
   "source": [
    "txns = [14.23,1.09,2.35,10.89]\n",
    "interest_rate = 8.75\n",
    "def cal_price(txn_amount):\n",
    "    return txn_amount * interest_rate\n",
    "\n"
   ]
  },
  {
   "cell_type": "code",
   "execution_count": 7,
   "metadata": {},
   "outputs": [
    {
     "name": "stdout",
     "output_type": "stream",
     "text": [
      "[124.5125, 9.537500000000001, 20.5625, 95.28750000000001]\n"
     ]
    }
   ],
   "source": [
    "## map(function(),<iterable>)\n",
    "final_prices = map(cal_price,txns)\n",
    "print(list(final_prices))"
   ]
  },
  {
   "attachments": {},
   "cell_type": "markdown",
   "metadata": {},
   "source": [
    "### Using list comprehension\n",
    "\n",
    "You can create a list using a single line of code. It has following syntax\n",
    "\n",
    "`new_list = [expression for member in iterable]`\n",
    "\n",
    "Every list comprehension in Python includes three elements:\n",
    "\n",
    "1. expression is the member itself, a call to a method, or any other valid expression that returns a value. \n",
    "2. member is the object or value in the list or iterable. In the example above, the member value is i.\n",
    "3. iterable is a list, set, sequence, generator, or any other object that can return its elements one at a time"
   ]
  },
  {
   "cell_type": "code",
   "execution_count": 8,
   "metadata": {},
   "outputs": [
    {
     "name": "stdout",
     "output_type": "stream",
     "text": [
      "[0, 1, 4, 9, 16, 25, 36, 49, 64, 81]\n"
     ]
    }
   ],
   "source": [
    "a = [i * i for i in range(10)]\n",
    "print(a)"
   ]
  },
  {
   "attachments": {},
   "cell_type": "markdown",
   "metadata": {},
   "source": [
    "Because the expression requirement is so flexible, a list comprehension in Python works well in many places where you would use map(). The pricing example we saw above can be re-written as below using list comprehension."
   ]
  },
  {
   "cell_type": "code",
   "execution_count": 10,
   "metadata": {},
   "outputs": [
    {
     "name": "stdout",
     "output_type": "stream",
     "text": [
      "[124.5125, 9.537500000000001, 20.5625, 95.28750000000001]\n"
     ]
    }
   ],
   "source": [
    "final_prices = [cal_price(txn_amt) for txn_amt in txns] ## list comprehensions returns a list where map() returns map object.\n",
    "print(final_prices)"
   ]
  },
  {
   "attachments": {},
   "cell_type": "markdown",
   "metadata": {},
   "source": [
    "One main benefit of using a list comprehension in Python is that it’s a single tool that you can use in many different situations. In addition to standard list creation, list comprehensions can also be used for mapping and filtering. You don’t have to use a different approach for each scenario.\n",
    "\n",
    "This is the main reason why list comprehensions are considered Pythonic, as Python embraces simple, powerful tools that you can use in a wide variety of situations. As an added side benefit, whenever you use a list comprehension in Python, you won’t need to remember the proper order of arguments like you would when you call map().\n",
    "\n",
    "List comprehensions are also more declarative than loops, which means they’re easier to read and understand. Loops require you to focus on how the list is created. You have to manually create an empty list, loop over the elements, and add each of them to the end of the list. With a list comprehension in Python, you can instead focus on what you want to go in the list and trust that Python will take care of how the list construction takes place."
   ]
  },
  {
   "attachments": {},
   "cell_type": "markdown",
   "metadata": {},
   "source": [
    "## List comprehensions using conditional logics\n",
    "\n",
    "Earlier we show the syntax of list comprehensions which is\n",
    "\n",
    "`new_list = [expression for member in iterable]`\n",
    "\n",
    "However this is incomplete , the more complex syntax of list comprehensions would be with optional conditional logics\n",
    "\n",
    "The most common way to include the conditional logics is to add them at the end of the list comprehension before the closing bracket\n",
    "\n",
    "`new_list = [expression for member in iterable (if conditional)]`\n"
   ]
  },
  {
   "cell_type": "code",
   "execution_count": 11,
   "metadata": {},
   "outputs": [
    {
     "name": "stdout",
     "output_type": "stream",
     "text": [
      "['e', 'o', 'i', 'o', 'e', 'a', 'u', 'i', 'u']\n"
     ]
    }
   ],
   "source": [
    "## let's say i want to filter out all the vowels from the string\n",
    "\n",
    "sent = 'the world is so beautiful!!'\n",
    "\n",
    "vowels = [ i for i in sent if i in 'aeiou']\n",
    "print(vowels)"
   ]
  },
  {
   "cell_type": "code",
   "execution_count": 13,
   "metadata": {},
   "outputs": [],
   "source": [
    "### we can also create a function for the logical condition\n",
    "\n",
    "def is_consonant(c):\n",
    "    vowels = 'aeiou'\n",
    "    return c.isalpha() and c.lower() not in vowels"
   ]
  },
  {
   "cell_type": "code",
   "execution_count": 15,
   "metadata": {},
   "outputs": [
    {
     "name": "stdout",
     "output_type": "stream",
     "text": [
      "['t', 'h', 'w', 'r', 'l', 'd', 's', 's', 'b', 't', 'f', 'l']\n"
     ]
    }
   ],
   "source": [
    "consonants = [i for i in sent if is_consonant(i)]\n",
    "print(consonants)"
   ]
  },
  {
   "attachments": {},
   "cell_type": "markdown",
   "metadata": {},
   "source": [
    "If you want to change a member value instead of filtering it out, you can put the conditional logic with expressions\n",
    "\n",
    "`new_list = [expression (if conditional) for member in iterable ]`\n"
   ]
  },
  {
   "cell_type": "code",
   "execution_count": 19,
   "metadata": {},
   "outputs": [
    {
     "name": "stdout",
     "output_type": "stream",
     "text": [
      "[None, 14, None, None, None, 16, 18, 20]\n"
     ]
    }
   ],
   "source": [
    "values = [11,14,5,15,19,16,18,20]\n",
    "even_values = [i if i % 2 == 0 else None for i in values]\n",
    "print(even_values)"
   ]
  },
  {
   "cell_type": "code",
   "execution_count": 21,
   "metadata": {},
   "outputs": [],
   "source": [
    "## expression can be a function also\n",
    "\n",
    "def isEvenNumber(n):\n",
    "    return n if n % 2 == 0 else None"
   ]
  },
  {
   "cell_type": "code",
   "execution_count": 23,
   "metadata": {},
   "outputs": [
    {
     "name": "stdout",
     "output_type": "stream",
     "text": [
      "[None, 14, None, None, None, 16, 18, 20]\n"
     ]
    }
   ],
   "source": [
    "new_values = [isEvenNumber(i) for i in values]\n",
    "print(new_values)"
   ]
  },
  {
   "attachments": {},
   "cell_type": "markdown",
   "metadata": {},
   "source": [
    "### set compression is almost same as list compression. The only difference is that the output of set compression will filter out duplicate values and will result only unique values"
   ]
  },
  {
   "cell_type": "code",
   "execution_count": 24,
   "metadata": {},
   "outputs": [
    {
     "name": "stdout",
     "output_type": "stream",
     "text": [
      "{'i', 'a', 'e', 'u', 'o'}\n"
     ]
    }
   ],
   "source": [
    "sent = 'the world is so beautiful!!'\n",
    "\n",
    "vowels = { i for i in sent if i in 'aeiou'}\n",
    "print(vowels)"
   ]
  },
  {
   "attachments": {},
   "cell_type": "markdown",
   "metadata": {},
   "source": [
    "### Dictionary comprehension are also similar to list comprehension, with additional requirements for adding keys\n"
   ]
  },
  {
   "cell_type": "code",
   "execution_count": 25,
   "metadata": {},
   "outputs": [
    {
     "name": "stdout",
     "output_type": "stream",
     "text": [
      "{0: 0, 1: 1, 2: 4, 3: 9, 4: 16, 5: 25, 6: 36, 7: 49, 8: 64, 9: 81}\n"
     ]
    }
   ],
   "source": [
    "squares = {i: i * i for i in range(10)}\n",
    "print(squares)"
   ]
  },
  {
   "attachments": {},
   "cell_type": "markdown",
   "metadata": {},
   "source": [
    "## Using walrus operator\n",
    "\n",
    "Python 3.8 has introduced the assignment expression, also known as the walrus operator. To understand how you can use it, consider the following example.\n",
    "\n",
    "Say you need to make ten requests to an API that will return temperature data. You only want to return results that are greater than 100 degrees Fahrenheit. Assume that each request will return different data. In this case, there’s no way to use a list comprehension in Python to solve the problem. The formula expression for member in iterable (if conditional) provides no way for the conditional to assign data to a variable that the expression can access.\n",
    "\n",
    "The walrus operator solves this problem. It allows you to run an expression while simultaneously assigning the output value to a variable."
   ]
  },
  {
   "cell_type": "code",
   "execution_count": 38,
   "metadata": {},
   "outputs": [
    {
     "name": "stdout",
     "output_type": "stream",
     "text": [
      "[104, 109, 102, 108, 101]\n"
     ]
    }
   ],
   "source": [
    "import random\n",
    "\n",
    "MIN_TEMP = 90\n",
    "MAX_TEMP = 110\n",
    "THRESHOLD_TEMP = 100\n",
    "\n",
    "\n",
    "def generate_tempratures():\n",
    "    return random.randint(MIN_TEMP, MAX_TEMP)\n",
    "\n",
    "temp = [ temp for _ in range(10) if (temp := generate_tempratures()) > THRESHOLD_TEMP ]\n",
    "print(temp)"
   ]
  },
  {
   "cell_type": "code",
   "execution_count": 39,
   "metadata": {},
   "outputs": [
    {
     "name": "stdout",
     "output_type": "stream",
     "text": [
      "[105, 101, 109, 104, 110, 110]\n"
     ]
    }
   ],
   "source": [
    "## without using the walrus operator\n",
    "\n",
    "import random\n",
    "\n",
    "MIN_TEMP = 90\n",
    "MAX_TEMP = 110\n",
    "THRESHOLD_TEMP = 100\n",
    "\n",
    "def generate_tempratures():\n",
    "    temp= []\n",
    "    for i in range(10):\n",
    "        temp.append(random.randint(MIN_TEMP,MAX_TEMP))\n",
    "    return temp\n",
    "\n",
    "temp = [ temp for temp in generate_tempratures() if temp > THRESHOLD_TEMP]\n",
    "print(temp)"
   ]
  },
  {
   "attachments": {},
   "cell_type": "markdown",
   "metadata": {},
   "source": [
    "### When not to use the list comprehension\n",
    "\n",
    "List comprehensions are useful and can help you write elegant code that’s easy to read and debug, but they’re not the right choice for all circumstances. They might make your code run more slowly or use more memory. If your code is less performant or harder to understand, then it’s probably better to choose an alternative.\n",
    "\n",
    "### Nested comprehensions\n",
    "\n",
    "Consider below example of nested comprehension where we create a dictionary of 5 cities and their top 5 temperatures "
   ]
  },
  {
   "cell_type": "code",
   "execution_count": 54,
   "metadata": {},
   "outputs": [
    {
     "data": {
      "text/plain": [
       "{'Mumbai': [97, 90, 93, 99, 99, 94, 106, 93, 106, 91],\n",
       " 'Delhi': [91, 106, 93, 92, 91, 106, 93, 94, 99, 107],\n",
       " 'Kolkata': [107, 97, 106, 94, 92, 90, 98, 103, 101, 100],\n",
       " 'Chennai': [108, 110, 103, 101, 97, 102, 106, 101, 110, 103],\n",
       " 'Bengluru': [104, 90, 110, 99, 105, 92, 107, 99, 105, 108]}"
      ]
     },
     "execution_count": 54,
     "metadata": {},
     "output_type": "execute_result"
    }
   ],
   "source": [
    "cities = ['Mumbai','Delhi','Kolkata','Chennai','Bengluru']\n",
    "\n",
    "citiesWithTemp = {city: [i for i in generate_tempratures()] for city in cities}\n",
    "citiesWithTemp"
   ]
  },
  {
   "cell_type": "code",
   "execution_count": 55,
   "metadata": {},
   "outputs": [
    {
     "data": {
      "text/plain": [
       "[[0, 1, 2], [0, 1, 2], [0, 1, 2]]"
      ]
     },
     "execution_count": 55,
     "metadata": {},
     "output_type": "execute_result"
    }
   ],
   "source": [
    "## create 6 * 6 matrix using list comprehension\n",
    "## The outer list comprehension [... for _ in range(3)] creates three rows, while the inner list comprehension [i for i in range(3)] fills each of these rows with values.\n",
    "\n",
    "matrix  = [[i for i in range(3)] for _ in range(3)]\n",
    "matrix"
   ]
  },
  {
   "cell_type": "code",
   "execution_count": 56,
   "metadata": {},
   "outputs": [
    {
     "data": {
      "text/plain": [
       "[0, 1, 2, 0, 1, 2, 0, 1, 2]"
      ]
     },
     "execution_count": 56,
     "metadata": {},
     "output_type": "execute_result"
    }
   ],
   "source": [
    "### flattern the matrix generated from above\n",
    "\n",
    "flatternMatrix = [ num for row in matrix for num in row]\n",
    "flatternMatrix"
   ]
  },
  {
   "cell_type": "code",
   "execution_count": 58,
   "metadata": {},
   "outputs": [
    {
     "data": {
      "text/plain": [
       "[0, 1, 2, 0, 1, 2, 0, 1, 2]"
      ]
     },
     "execution_count": 58,
     "metadata": {},
     "output_type": "execute_result"
    }
   ],
   "source": [
    "### above code is more pythonic but not easy to understand. WHile below code is more easy to understand for others.\n",
    "\n",
    "flatList = []\n",
    "for row in matrix:\n",
    "    for num in row:\n",
    "        flatList.append(num)\n",
    "flatList"
   ]
  },
  {
   "attachments": {},
   "cell_type": "markdown",
   "metadata": {},
   "source": [
    "#### Choose Generators over large Datasets. Below examples will prove it"
   ]
  },
  {
   "cell_type": "code",
   "execution_count": 60,
   "metadata": {},
   "outputs": [],
   "source": [
    "import timeit"
   ]
  },
  {
   "cell_type": "code",
   "execution_count": 67,
   "metadata": {},
   "outputs": [
    {
     "name": "stdout",
     "output_type": "stream",
     "text": [
      "55.3 µs ± 89.3 ns per loop (mean ± std. dev. of 7 runs, 10,000 loops each)\n"
     ]
    }
   ],
   "source": [
    "#A list comprehension in Python works by loading the entire output list into memory. \n",
    "# For small or even medium-sized lists, this is generally fine. If you want to sum the squares of the first one-thousand integers, then a list comprehension will solve this problem admirably:\n",
    "\n",
    "%timeit sum([i * i for i in range(1000)])"
   ]
  },
  {
   "attachments": {},
   "cell_type": "markdown",
   "metadata": {},
   "source": [
    "If you try to sum the squares of first billion numbers, your machine will crash. That’s because Python is trying to create a list with one billion integers, which consumes more memory than your computer would like. Your computer may not have the resources it needs to generate an enormous list and store it in memory. If you try to do it anyway, then your machine could slow down or even crash.\n",
    "\n",
    "When the size of a list becomes problematic, it’s often helpful to use a generator instead of a list comprehension in Python. A generator doesn’t create a single, large data structure in memory, but instead returns an iterable. Your code can ask for the next value from the iterable as many times as necessary or until you’ve reached the end of your sequence, while only storing a single value at a time."
   ]
  },
  {
   "cell_type": "code",
   "execution_count": 68,
   "metadata": {},
   "outputs": [
    {
     "name": "stdout",
     "output_type": "stream",
     "text": [
      "7.84 s ± 45.6 ms per loop (mean ± std. dev. of 7 runs, 1 loop each)\n"
     ]
    }
   ],
   "source": [
    "%timeit sum(i * i for i in range(100000000)) ## it is generator as there is no square brackets. Optionally, generators can be surrounded by parentheses"
   ]
  },
  {
   "cell_type": "code",
   "execution_count": 69,
   "metadata": {},
   "outputs": [
    {
     "name": "stdout",
     "output_type": "stream",
     "text": [
      "915 ms ± 1.75 ms per loop (mean ± std. dev. of 7 runs, 1 loop each)\n"
     ]
    }
   ],
   "source": [
    "# map() also operates lazily, meaning memory won’t be an issue if you choose to use it in this case:\n",
    "%timeit sum(map(lambda x : x * x,range(10000000)))"
   ]
  },
  {
   "cell_type": "code",
   "execution_count": 103,
   "metadata": {},
   "outputs": [],
   "source": [
    " ### compare all the approaches\n",
    " import random\n",
    "interest_rate = 2.05\n",
    "txns = [random.randint(100,200) for _ in range(100000)]\n",
    "\n",
    "def get_txn_amnt(txn):\n",
    "    return txn + (1 + interest_rate)\n",
    "\n",
    "def get_txn_amt_with_map():\n",
    "    return list(map(get_txn_amnt,txns))\n",
    "\n",
    "def get_txn_amt_with_list():\n",
    "    return [ get_txn_amnt(txn) for txn in txns]\n",
    "\n",
    "def get_txn_amnt_with_loop():\n",
    "    txnAmntList=[]\n",
    "    for txn in txns:\n",
    "        txnAmntList.append(get_txn_amnt(txn))\n",
    "    return txnAmntList\n"
   ]
  },
  {
   "cell_type": "code",
   "execution_count": 104,
   "metadata": {},
   "outputs": [
    {
     "data": {
      "text/plain": [
       "0.9145103750015551"
      ]
     },
     "execution_count": 104,
     "metadata": {},
     "output_type": "execute_result"
    }
   ],
   "source": [
    "timeit.timeit(get_txn_amt_with_map,number=100)"
   ]
  },
  {
   "cell_type": "code",
   "execution_count": 109,
   "metadata": {},
   "outputs": [
    {
     "data": {
      "text/plain": [
       "1.1441568750014994"
      ]
     },
     "execution_count": 109,
     "metadata": {},
     "output_type": "execute_result"
    }
   ],
   "source": [
    "timeit.timeit(get_txn_amt_with_list,number=100)"
   ]
  },
  {
   "cell_type": "code",
   "execution_count": 106,
   "metadata": {},
   "outputs": [
    {
     "data": {
      "text/plain": [
       "1.3819705829992017"
      ]
     },
     "execution_count": 106,
     "metadata": {},
     "output_type": "execute_result"
    }
   ],
   "source": [
    "timeit.timeit(get_txn_amnt_with_loop,number=100)"
   ]
  },
  {
   "cell_type": "code",
   "execution_count": null,
   "metadata": {},
   "outputs": [],
   "source": []
  }
 ],
 "metadata": {
  "kernelspec": {
   "display_name": "myenv",
   "language": "python",
   "name": "python3"
  },
  "language_info": {
   "codemirror_mode": {
    "name": "ipython",
    "version": 3
   },
   "file_extension": ".py",
   "mimetype": "text/x-python",
   "name": "python",
   "nbconvert_exporter": "python",
   "pygments_lexer": "ipython3",
   "version": "3.9.12"
  },
  "orig_nbformat": 4
 },
 "nbformat": 4,
 "nbformat_minor": 2
}
