{
 "cells": [
  {
   "cell_type": "code",
   "execution_count": 2,
   "metadata": {},
   "outputs": [
    {
     "name": "stdout",
     "output_type": "stream",
     "text": [
      "a is 257, b is 257\n",
      "x is 210, y is 210\n"
     ]
    }
   ],
   "source": [
    "### small integer caching Python stores integers from -5 to 256 in memory.\n",
    "\n",
    "a,b = 250,250\n",
    "x,y = 200,200\n",
    "\n",
    "for _ in range(250,260):\n",
    "    if a is not b:\n",
    "        break\n",
    "    a += 1\n",
    "    b += 1\n",
    "print(f'a is {a}, b is {b}')\n",
    "\n",
    "for _ in range(200,210):\n",
    "    if x is not y:\n",
    "        break\n",
    "    x += 1\n",
    "    y += 1\n",
    "print(f'x is {x}, y is {y}')"
   ]
  },
  {
   "cell_type": "code",
   "execution_count": 24,
   "metadata": {},
   "outputs": [
    {
     "name": "stdout",
     "output_type": "stream",
     "text": [
      "[104, 102, 110, 104, 103, 104, 104, 101]\n"
     ]
    }
   ],
   "source": [
    "## list comprehensions using walrus operator\n",
    "## below program will run the expression while simultaneously assign a value to the variable temp using walrus operator\n",
    "\n",
    "import random\n",
    "\n",
    "MIN_TEMP = 90\n",
    "MAX_TEMP = 110\n",
    "THRESHOLD_TEMP = 100\n",
    "\n",
    "\n",
    "def generate_tempratures():\n",
    "    return random.randint(MIN_TEMP, MAX_TEMP)\n",
    "\n",
    "temp = [ temp for _ in range(10) if (temp := generate_tempratures()) > THRESHOLD_TEMP ]\n",
    "print(temp)"
   ]
  },
  {
   "cell_type": "code",
   "execution_count": 26,
   "metadata": {},
   "outputs": [
    {
     "name": "stdout",
     "output_type": "stream",
     "text": [
      "[107, 105, 105, 106, 102]\n"
     ]
    }
   ],
   "source": [
    "## without using the walrus operator\n",
    "\n",
    "import random\n",
    "\n",
    "MIN_TEMP = 90\n",
    "MAX_TEMP = 110\n",
    "THRESHOLD_TEMP = 100\n",
    "\n",
    "def generate_tempratures():\n",
    "    temp= []\n",
    "    for i in range(10):\n",
    "        temp.append(random.randint(MIN_TEMP,MAX_TEMP))\n",
    "    return temp\n",
    "\n",
    "temp = [ temp for temp in generate_tempratures() if temp > THRESHOLD_TEMP]\n",
    "print(temp)"
   ]
  },
  {
   "cell_type": "code",
   "execution_count": 29,
   "metadata": {},
   "outputs": [],
   "source": [
    "## create 6 * 6 matrix using list comprehension\n",
    "\n",
    "matrix  = [[i for i in range(3)] for _ in range(3)]"
   ]
  },
  {
   "cell_type": "code",
   "execution_count": 30,
   "metadata": {},
   "outputs": [
    {
     "data": {
      "text/plain": [
       "[0, 1, 2, 0, 1, 2, 0, 1, 2]"
      ]
     },
     "execution_count": 30,
     "metadata": {},
     "output_type": "execute_result"
    }
   ],
   "source": [
    "### flattern the matrix generated from above\n",
    "\n",
    "flatternMatrix = [ num for row in matrix for num in row]\n",
    "flatternMatrix"
   ]
  }
 ],
 "metadata": {
  "kernelspec": {
   "display_name": "myenv",
   "language": "python",
   "name": "python3"
  },
  "language_info": {
   "codemirror_mode": {
    "name": "ipython",
    "version": 3
   },
   "file_extension": ".py",
   "mimetype": "text/x-python",
   "name": "python",
   "nbconvert_exporter": "python",
   "pygments_lexer": "ipython3",
   "version": "3.8.16"
  },
  "orig_nbformat": 4
 },
 "nbformat": 4,
 "nbformat_minor": 2
}
